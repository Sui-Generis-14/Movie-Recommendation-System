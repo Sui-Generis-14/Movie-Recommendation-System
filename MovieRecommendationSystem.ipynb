{
  "nbformat": 4,
  "nbformat_minor": 0,
  "metadata": {
    "colab": {
      "provenance": []
    },
    "kernelspec": {
      "name": "python3",
      "display_name": "Python 3"
    },
    "language_info": {
      "name": "python"
    }
  },
  "cells": [
    {
      "cell_type": "markdown",
      "source": [
        "MOVIE RECOMMENDATION SYSTEM:\n"
      ],
      "metadata": {
        "id": "qAHZcxRtR_oS"
      }
    },
    {
      "cell_type": "code",
      "execution_count": 170,
      "metadata": {
        "id": "nNvzFY3fh4Qc"
      },
      "outputs": [],
      "source": [
        "import pandas as pd"
      ]
    },
    {
      "cell_type": "code",
      "source": [
        "# Load the dataset\n",
        "movies = pd.read_csv('/content/movies_metadata.csv')\n",
        "\n",
        "# Show the first 5 rows\n",
        "print(movies.head())"
      ],
      "metadata": {
        "colab": {
          "base_uri": "https://localhost:8080/"
        },
        "id": "hW7wjv2qh5Go",
        "outputId": "06b1530d-30b1-49e2-f890-bae9322be45c"
      },
      "execution_count": 171,
      "outputs": [
        {
          "output_type": "stream",
          "name": "stdout",
          "text": [
            "   adult                              belongs_to_collection    budget  \\\n",
            "0  False  {'id': 10194, 'name': 'Toy Story Collection', ...  30000000   \n",
            "1  False                                                NaN  65000000   \n",
            "2  False  {'id': 119050, 'name': 'Grumpy Old Men Collect...         0   \n",
            "3  False                                                NaN  16000000   \n",
            "4  False  {'id': 96871, 'name': 'Father of the Bride Col...         0   \n",
            "\n",
            "                                              genres  \\\n",
            "0  [{'id': 16, 'name': 'Animation'}, {'id': 35, '...   \n",
            "1  [{'id': 12, 'name': 'Adventure'}, {'id': 14, '...   \n",
            "2  [{'id': 10749, 'name': 'Romance'}, {'id': 35, ...   \n",
            "3  [{'id': 35, 'name': 'Comedy'}, {'id': 18, 'nam...   \n",
            "4                     [{'id': 35, 'name': 'Comedy'}]   \n",
            "\n",
            "                               homepage     id    imdb_id original_language  \\\n",
            "0  http://toystory.disney.com/toy-story    862  tt0114709                en   \n",
            "1                                   NaN   8844  tt0113497                en   \n",
            "2                                   NaN  15602  tt0113228                en   \n",
            "3                                   NaN  31357  tt0114885                en   \n",
            "4                                   NaN  11862  tt0113041                en   \n",
            "\n",
            "                original_title  \\\n",
            "0                    Toy Story   \n",
            "1                      Jumanji   \n",
            "2             Grumpier Old Men   \n",
            "3            Waiting to Exhale   \n",
            "4  Father of the Bride Part II   \n",
            "\n",
            "                                            overview  ... release_date  \\\n",
            "0  Led by Woody, Andy's toys live happily in his ...  ...   1995-10-30   \n",
            "1  When siblings Judy and Peter discover an encha...  ...   1995-12-15   \n",
            "2  A family wedding reignites the ancient feud be...  ...   1995-12-22   \n",
            "3  Cheated on, mistreated and stepped on, the wom...  ...   1995-12-22   \n",
            "4  Just when George Banks has recovered from his ...  ...   1995-02-10   \n",
            "\n",
            "       revenue runtime                                   spoken_languages  \\\n",
            "0  373554033.0    81.0           [{'iso_639_1': 'en', 'name': 'English'}]   \n",
            "1  262797249.0   104.0  [{'iso_639_1': 'en', 'name': 'English'}, {'iso...   \n",
            "2          0.0   101.0           [{'iso_639_1': 'en', 'name': 'English'}]   \n",
            "3   81452156.0   127.0           [{'iso_639_1': 'en', 'name': 'English'}]   \n",
            "4   76578911.0   106.0           [{'iso_639_1': 'en', 'name': 'English'}]   \n",
            "\n",
            "     status                                            tagline  \\\n",
            "0  Released                                                NaN   \n",
            "1  Released          Roll the dice and unleash the excitement!   \n",
            "2  Released  Still Yelling. Still Fighting. Still Ready for...   \n",
            "3  Released  Friends are the people who let you be yourself...   \n",
            "4  Released  Just When His World Is Back To Normal... He's ...   \n",
            "\n",
            "                         title  video vote_average vote_count  \n",
            "0                    Toy Story  False          7.7     5415.0  \n",
            "1                      Jumanji  False          6.9     2413.0  \n",
            "2             Grumpier Old Men  False          6.5       92.0  \n",
            "3            Waiting to Exhale  False          6.1       34.0  \n",
            "4  Father of the Bride Part II  False          5.7      173.0  \n",
            "\n",
            "[5 rows x 24 columns]\n"
          ]
        },
        {
          "output_type": "stream",
          "name": "stderr",
          "text": [
            "<ipython-input-171-d56506300ecf>:2: DtypeWarning: Columns (10) have mixed types. Specify dtype option on import or set low_memory=False.\n",
            "  movies = pd.read_csv('/content/movies_metadata.csv')\n"
          ]
        }
      ]
    },
    {
      "cell_type": "code",
      "source": [
        "# Check the shape (rows, columns)\n",
        "print(\"Total movies:\", movies.shape)"
      ],
      "metadata": {
        "colab": {
          "base_uri": "https://localhost:8080/"
        },
        "id": "8IHkMJd6h6zN",
        "outputId": "01adecb7-c94c-4b1f-bf88-e0e876360cfd"
      },
      "execution_count": 172,
      "outputs": [
        {
          "output_type": "stream",
          "name": "stdout",
          "text": [
            "Total movies: (45466, 24)\n"
          ]
        }
      ]
    },
    {
      "cell_type": "code",
      "source": [
        "# Check column names\n",
        "movies.info()"
      ],
      "metadata": {
        "colab": {
          "base_uri": "https://localhost:8080/"
        },
        "id": "KNmU4B2Uh8rx",
        "outputId": "f6fa344c-41ba-4b36-b137-6c64c91ca5a9"
      },
      "execution_count": 173,
      "outputs": [
        {
          "output_type": "stream",
          "name": "stdout",
          "text": [
            "<class 'pandas.core.frame.DataFrame'>\n",
            "RangeIndex: 45466 entries, 0 to 45465\n",
            "Data columns (total 24 columns):\n",
            " #   Column                 Non-Null Count  Dtype  \n",
            "---  ------                 --------------  -----  \n",
            " 0   adult                  45466 non-null  object \n",
            " 1   belongs_to_collection  4494 non-null   object \n",
            " 2   budget                 45466 non-null  object \n",
            " 3   genres                 45466 non-null  object \n",
            " 4   homepage               7782 non-null   object \n",
            " 5   id                     45466 non-null  object \n",
            " 6   imdb_id                45449 non-null  object \n",
            " 7   original_language      45455 non-null  object \n",
            " 8   original_title         45466 non-null  object \n",
            " 9   overview               44512 non-null  object \n",
            " 10  popularity             45461 non-null  object \n",
            " 11  poster_path            45080 non-null  object \n",
            " 12  production_companies   45463 non-null  object \n",
            " 13  production_countries   45463 non-null  object \n",
            " 14  release_date           45379 non-null  object \n",
            " 15  revenue                45460 non-null  float64\n",
            " 16  runtime                45203 non-null  float64\n",
            " 17  spoken_languages       45460 non-null  object \n",
            " 18  status                 45379 non-null  object \n",
            " 19  tagline                20412 non-null  object \n",
            " 20  title                  45460 non-null  object \n",
            " 21  video                  45460 non-null  object \n",
            " 22  vote_average           45460 non-null  float64\n",
            " 23  vote_count             45460 non-null  float64\n",
            "dtypes: float64(4), object(20)\n",
            "memory usage: 8.3+ MB\n"
          ]
        }
      ]
    },
    {
      "cell_type": "code",
      "source": [
        "credits = pd.read_csv('/content/credits.csv')\n",
        "print(credits.head())"
      ],
      "metadata": {
        "colab": {
          "base_uri": "https://localhost:8080/"
        },
        "id": "bvHy7Vcuh-ZK",
        "outputId": "649bdbc8-eec8-4a37-8ae9-8f4f145da92d"
      },
      "execution_count": 174,
      "outputs": [
        {
          "output_type": "stream",
          "name": "stdout",
          "text": [
            "                                                cast  \\\n",
            "0  [{'cast_id': 14, 'character': 'Woody (voice)',...   \n",
            "1  [{'cast_id': 1, 'character': 'Alan Parrish', '...   \n",
            "2  [{'cast_id': 2, 'character': 'Max Goldman', 'c...   \n",
            "3  [{'cast_id': 1, 'character': \"Savannah 'Vannah...   \n",
            "4  [{'cast_id': 1, 'character': 'George Banks', '...   \n",
            "\n",
            "                                                crew     id  \n",
            "0  [{'credit_id': '52fe4284c3a36847f8024f49', 'de...    862  \n",
            "1  [{'credit_id': '52fe44bfc3a36847f80a7cd1', 'de...   8844  \n",
            "2  [{'credit_id': '52fe466a9251416c75077a89', 'de...  15602  \n",
            "3  [{'credit_id': '52fe44779251416c91011acb', 'de...  31357  \n",
            "4  [{'credit_id': '52fe44959251416c75039ed7', 'de...  11862  \n"
          ]
        }
      ]
    },
    {
      "cell_type": "code",
      "source": [
        "print(\"Total credits:\", credits.shape)"
      ],
      "metadata": {
        "colab": {
          "base_uri": "https://localhost:8080/"
        },
        "id": "VSqtArs7iAD9",
        "outputId": "e854d3db-bc86-454e-b41f-986c5fb615b5"
      },
      "execution_count": 175,
      "outputs": [
        {
          "output_type": "stream",
          "name": "stdout",
          "text": [
            "Total credits: (45476, 3)\n"
          ]
        }
      ]
    },
    {
      "cell_type": "code",
      "source": [
        "credits.info()"
      ],
      "metadata": {
        "colab": {
          "base_uri": "https://localhost:8080/"
        },
        "id": "GfE9SQ5KiCDz",
        "outputId": "064e016c-754e-405b-e50b-0e5e2f503a1c"
      },
      "execution_count": 176,
      "outputs": [
        {
          "output_type": "stream",
          "name": "stdout",
          "text": [
            "<class 'pandas.core.frame.DataFrame'>\n",
            "RangeIndex: 45476 entries, 0 to 45475\n",
            "Data columns (total 3 columns):\n",
            " #   Column  Non-Null Count  Dtype \n",
            "---  ------  --------------  ----- \n",
            " 0   cast    45476 non-null  object\n",
            " 1   crew    45476 non-null  object\n",
            " 2   id      45476 non-null  int64 \n",
            "dtypes: int64(1), object(2)\n",
            "memory usage: 1.0+ MB\n"
          ]
        }
      ]
    },
    {
      "cell_type": "code",
      "source": [
        "print(\"Example credits:\\n\", credits.value_counts())"
      ],
      "metadata": {
        "colab": {
          "base_uri": "https://localhost:8080/"
        },
        "id": "T-OcgHVYiDs-",
        "outputId": "dff81bbb-9e1d-4dff-8c12-7cc66cb88da3"
      },
      "execution_count": 177,
      "outputs": [
        {
          "output_type": "stream",
          "name": "stdout",
          "text": [
            "Example credits:\n",
            " cast                                                                                                                                                                                                                                                                                                                                                                                                                                                                                                                                                                                                                                                                                                                                                                                                                                                                                                                                                                                                                                                                                                                                                                                                                                                                                                                                                                                                                                                                                                                                                                                                                                                                                                                                                                                                                                                                                                                                                                                                                                                                                                                                                                                                                                                                                                                                                                                                                                                                                                                                                                                                                                                                                                                                                                                                                                                                                                                                                                                                                                                                                                                                                                                                                                                                                                                                                                                                                                                                                                                                                                                                                                                                                                                                                                                                                                                                                                                                                                                                                                                                                                                                                                                                                                                                                                                                                                                                                                                                                                                                                                                                                                                                                                                                                                                                                                                                                                                                                                                                                                                                                                                                                                                                                                                                                                                                                                                                                                                                                                                                                                                                                                                                                                                                                                                                                                                                                                                                                                                                                                                                                                                                                                                                                                                                                                                                                                                                                                                                                                                                                                                                                                                                                                                                                                                                                                                                                                                                                                                                                                                                                                                                                                                                                                                                                                                                                                                                                                                                                                                                                                                                                                                                                                                                                                                                                                                                                                                                                                                                                                                                                                                                                                                                                                                                                                                                                                                                                                                                                                                                                                                                                                                                                                                                                                                                                                                                                                                                                                                                                                                                                                                                                                                                                                                                                                                                                                                                                                                                                                                                                                                                                                                                                                                                                                                                                                                                                                                                                                                                                                                                                                                                                                                                                                                                                                                                                                                                                                                                                                                                                                                                                                                                                                                                                                                                                                                                                                                                                                                                                                                                                                                                                                                                                                                                                                                                                                                                                                                                                                                                                                                                                                                                                                                                                                                                                                                                                                                                                                                                                                                                                                                                                                                                                                                                 crew                                                                                                                                                                                                                                                                                                                                                                                                                                                                                                                                                                                                                                                                                                                                                                                                                                                                                                                                                                                                                                                                                                                                                                                                                                                                                                                                                                                                                                                                                                                                                                                                                                                                                                                                                                                                                                                                                                                                                                                                                                                                                                                                                                                                                                                                                                                                                                                                                                                                                                                                                                                                                                                                                                                                                                                                                                                                                                                                                                                                                                                                                                                                                                                                                                                                                                                                                                                                                                                                                                                                                                                                                                                                                                                                                                                                                                                                                                                                                                                                                                                                                                                                                                                                                                                                                                                                                                                                                                                                                                                                                                                                                                                                                                                                                                                                                                                                                                                                                                                                                                                                                                                                                                                                  id    \n",
            "[{'cast_id': 1, 'character': 'Pekka', 'credit_id': '52fe4ac79251416c750edd1d', 'gender': 2, 'id': 108471, 'name': 'Petteri Summanen', 'order': 0, 'profile_path': '/l8qfdQLmxGqetZcOXsnP3Ojs32B.jpg'}, {'cast_id': 13, 'character': 'Ismo Valinto', 'credit_id': '592ef81792514130de01097e', 'gender': 2, 'id': 79764, 'name': 'Ismo Kallio', 'order': 1, 'profile_path': None}, {'cast_id': 3, 'character': 'Arto Suominen', 'credit_id': '52fe4ac89251416c750edd25', 'gender': 0, 'id': 108477, 'name': 'Eppu Salminen', 'order': 2, 'profile_path': '/56xNN1JCtMJ4unrtSUEXz1DxtCM.jpg'}, {'cast_id': 4, 'character': 'Anne Hartela', 'credit_id': '52fe4ac89251416c750edd29', 'gender': 1, 'id': 85386, 'name': 'Irina Björklund', 'order': 3, 'profile_path': '/kfPRkNXKhcD3ufp0XMrjkQONFoT.jpg'}, {'cast_id': 5, 'character': 'Aleksi Partio', 'credit_id': '52fe4ac89251416c750edd2d', 'gender': 2, 'id': 124285, 'name': 'Hannu-Pekka Björkman', 'order': 4, 'profile_path': '/6gHHzIqSGCQdoaWy85ZKDjxDpRz.jpg'}, {'cast_id': 6, 'character': 'Laura Koskimies', 'credit_id': '52fe4ac89251416c750edd31', 'gender': 0, 'id': 108472, 'name': 'Jenni Banerjee', 'order': 5, 'profile_path': '/ysFIB6ejEAhp6VwpTbNKGSldzBb.jpg'}, {'cast_id': 7, 'character': 'Juha Pasanen', 'credit_id': '52fe4ac89251416c750edd35', 'gender': 2, 'id': 108476, 'name': 'Mikko Leppilampi', 'order': 6, 'profile_path': '/jkeUShOz01YAkmRO0AmB9v9qlfB.jpg'}, {'cast_id': 8, 'character': 'Hanna Kajaste', 'credit_id': '52fe4ac89251416c750edd39', 'gender': 0, 'id': 108473, 'name': 'Lena Meriläinen', 'order': 7, 'profile_path': None}, {'cast_id': 9, 'character': 'Mari Koski', 'credit_id': '52fe4ac89251416c750edd3d', 'gender': 1, 'id': 108475, 'name': 'Mari Perankoski', 'order': 8, 'profile_path': '/cxwu9zwvaqlRDKOhv0ZL0T3auFF.jpg'}, {'cast_id': 10, 'character': 'Risto Vierikko', 'credit_id': '52fe4ac89251416c750edd41', 'gender': 0, 'id': 89512, 'name': 'Risto Kaskilahti', 'order': 9, 'profile_path': None}]                                                                                                                                                                                                                                                                                                                                                                                                                                                                                                                                                                                                                                                                                                                                                                                                                                                                                                                                                                                                                                                                                                                                                                                                                                                                                                                                                                                                                                                                                                                                                                                                                                                                                                                                                                                                                                                                                                                                                                                                                                                                                                                                                                                                                                                                                                                                                                                                                                                                                                                                                                                                                                                                                                                                                                                                                                                                                                                                                                                                                                                                                                                                                                                                                                                                                                                                                                                                                                                                                                                                                                                                                                                                                                                                                                                                                                                                                                                                                                                                                                                                                                                                                                                                                                                                                                                                                                                                                                                                                                                                                                                                                                                                                                                                                                                                                                                                                                                                                                                                                                                                                                                                                                                                                                                                                                                                                                                                                                                                                                                                                                                                                                                                                                                                                                                                                                                                                                                                                                                                                                                                                                                                                                                                                                                                                                                                                                                                                                                                                                                                                                                                                                                                                                                                                                                                                                                                                                                                                                                                                                                                                                                                                                                                                                                                                                                                                                                                                                                                                                                                                                                                                                                                                                                                                                                                                                                                                                                                                                                                                                                                                                                                                                                                                                                                                                                                                                                                                                                                                                                                                                                                                                                                                                                                                                                                                                                                                                                                                                                                                                                                                                                                                                                                                                                                                                                                                                                                                                                                                                                                                                                                                                                                                                                                                                                                                                                                                                                                                                                                                                                                                                                                                                                                                                        [{'credit_id': '52fe4ac89251416c750edd47', 'department': 'Directing', 'gender': 2, 'id': 108481, 'job': 'Director', 'name': 'JP Siili', 'profile_path': None}, {'credit_id': '52fe4ac89251416c750edd4d', 'department': 'Writing', 'gender': 2, 'id': 108481, 'job': 'Writer', 'name': 'JP Siili', 'profile_path': None}]                                                                                                                                                                                                                                                                                                                                                                                                                                                                                                                                                                                                                                                                                                                                                                                                                                                                                                                                                                                                                                                                                                                                                                                                                                                                                                                                                                                                                                                                                                                                                                                                                                                                                                                                                                                                                                                                                                                                                                                                                                                                                                                                                                                                                                                                                                                                                                                                                                                                                                                                                                                                                                                                                                                                                                                                                                                                                                                                                                                                                                                                                                                                                                                                                                                                                                                                                                                                                                                                                                                                                                                                                                                                                                                                                                                                                                                                                                                                                                                                                                                                                                                                                                                                                                                                                                                                                                                                                                                                                                                                                                                                                                                                                                                                                                                                                                                                              141971    3\n",
            "[{'cast_id': 1, 'character': 'Catherine Barkley', 'credit_id': '52fe444ac3a368484e01aad5', 'gender': 0, 'id': 47439, 'name': 'Helen Hayes', 'order': 0, 'profile_path': '/6QJDTvIT0v5E9pR1rgPtq59Ej8.jpg'}, {'cast_id': 2, 'character': 'Lieutenant Frederic Henry', 'credit_id': '52fe444ac3a368484e01aad9', 'gender': 2, 'id': 4068, 'name': 'Gary Cooper', 'order': 1, 'profile_path': '/zVUK71x5IoBaJ5H9dTgE2CRmLKy.jpg'}, {'cast_id': 3, 'character': 'Major Rinaldi', 'credit_id': '52fe444ac3a368484e01aadd', 'gender': 2, 'id': 14563, 'name': 'Adolphe Menjou', 'order': 2, 'profile_path': '/jAZRVhDGvEfRfJgGQCGk1GXMp1C.jpg'}, {'cast_id': 4, 'character': 'Helen Ferguson', 'credit_id': '52fe444ac3a368484e01aae1', 'gender': 0, 'id': 48960, 'name': 'Mary Philips', 'order': 3, 'profile_path': '/A0s0J8W0rAXBrJYKXNiHEuldlTK.jpg'}, {'cast_id': 8, 'character': 'Priest', 'credit_id': '52fe444ac3a368484e01aaf7', 'gender': 2, 'id': 99347, 'name': 'Jack La Rue', 'order': 4, 'profile_path': '/hWOwpkNevqBwp2mrjMCrLrxvPsi.jpg'}, {'cast_id': 9, 'character': 'Head Nurse', 'credit_id': '52fe444ac3a368484e01aafb', 'gender': 0, 'id': 30159, 'name': 'Blanche Friderici', 'order': 5, 'profile_path': '/wIwVP4Y505MiN8qesi52Al8yUTC.jpg'}, {'cast_id': 10, 'character': 'Miss Van Campen', 'credit_id': '52fe444ac3a368484e01aaff', 'gender': 1, 'id': 81941, 'name': 'Mary Forbes', 'order': 6, 'profile_path': '/S3g8mvqSDng5oQCfwkELQ68kw4.jpg'}, {'cast_id': 11, 'character': 'British Major', 'credit_id': '52fe444ac3a368484e01ab03', 'gender': 0, 'id': 95757, 'name': 'Gilbert Emery', 'order': 7, 'profile_path': '/gKJeGDvOVIHqmtjdED9X6hfYsK.jpg'}, {'cast_id': 34, 'character': 'Giulio - Hospital Porter (uncredited)', 'credit_id': '598072eec3a368103901050d', 'gender': 2, 'id': 1016595, 'name': 'Agostino Borgato', 'order': 8, 'profile_path': None}]                                                                                                                                                                                                                                                                                                                                                                                                                                                                                                                                                                                                                                                                                                                                                                                                                                                                                                                                                                                                                                                                                                                                                                                                                                                                                                                                                                                                                                                                                                                                                                                                                                                                                                                                                                                                                                                                                                                                                                                                                                                                                                                                                                                                                                                                                                                                                                                                                                                                                                                                                                                                                                                                                                                                                                                                                                                                                                                                                                                                                                                                                                                                                                                                                                                                                                                                                                                                                                                                                                                                                                                                                                                                                                                                                                                                                                                                                                                                                                                                                                                                                                                                                                                                                                                                                                                                                                                                                                                                                                                                                                                                                                                                                                                                                                                                                                                                                                                                                                                                                                                                                                                                                                                                                                                                                                                                                                                                                                                                                                                                                                                                                                                                                                                                                                                                                                                                                                                                                                                                                                                                                                                                                                                                                                                                                                                                                                                                                                                                                                                                                                                                                                                                                                                                                                                                                                                                                                                                                                                                                                                                                                                                                                                                                                                                                                                                                                                                                                                                                                                                                                                                                                                                                                                                                                                                                                                                                                                                                                                                                                                                                                                                                                                                                                                                                                                                                                                                                                                                                                                                                                                                                                                                                                                                                                                                                                                                                                                                                                                                                                                                                                                                                                                                                                                                                                                                                                                                                                                                                                                                                                                                                                                                                                                                                                                                                                                                                                                                                                                                                                                                                                                                                                                                                                                                                                                                                                        [{'credit_id': '56d73d3e9251414291002436', 'department': 'Camera', 'gender': 2, 'id': 3148, 'job': 'Director of Photography', 'name': 'Charles Lang', 'profile_path': '/1k74XckQqxOwdPYvhvhEdZ9jl4l.jpg'}, {'credit_id': '56d73d6ec3a3681e3601a687', 'department': 'Costume & Make-Up', 'gender': 0, 'id': 7652, 'job': 'Costume Design', 'name': 'Travis Banton', 'profile_path': None}, {'credit_id': '56d73d66c3a36870ac007881', 'department': 'Art', 'gender': 2, 'id': 8622, 'job': 'Art Direction', 'name': 'Hans Dreier', 'profile_path': '/pyVz3McZwtOFOVjx3jSqawd45Zj.jpg'}, {'credit_id': '56d73da192514111eb005938', 'department': 'Sound', 'gender': 2, 'id': 9107, 'job': 'Sound', 'name': 'Harold Lewis', 'profile_path': None}, {'credit_id': '56d73d09925141719e005298', 'department': 'Sound', 'gender': 0, 'id': 13336, 'job': 'Original Music Composer', 'name': 'W. Franke Harling', 'profile_path': None}, {'credit_id': '52fe444ac3a368484e01aae7', 'department': 'Directing', 'gender': 2, 'id': 14855, 'job': 'Director', 'name': 'Frank Borzage', 'profile_path': '/ywsES5vf5uH4GelIDmaJWJAhdOG.jpg'}, {'credit_id': '56d73d47c3a3681e3601a67f', 'department': 'Editing', 'gender': 2, 'id': 14961, 'job': 'Editor', 'name': 'Otho Lovering', 'profile_path': None}, {'credit_id': '56d73d11c3a3681e3c01d459', 'department': 'Sound', 'gender': 2, 'id': 29810, 'job': 'Original Music Composer', 'name': 'Bernhard Kaun', 'profile_path': None}, {'credit_id': '56d73d19925141391f0072fa', 'department': 'Sound', 'gender': 0, 'id': 30256, 'job': 'Original Music Composer', 'name': 'John Leipold', 'profile_path': None}, {'credit_id': '52fe444ac3a368484e01aaed', 'department': 'Writing', 'gender': 2, 'id': 38233, 'job': 'Novel', 'name': 'Ernest Hemingway', 'profile_path': '/xchDU31q3QZqhS2mp3mqpBYd0kS.jpg'}, {'credit_id': '56d73d5fc3a3681e3601a683', 'department': 'Art', 'gender': 0, 'id': 47077, 'job': 'Art Direction', 'name': 'Roland Anderson', 'profile_path': None}, {'credit_id': '56d73ce1c3a3682cef009918', 'department': 'Writing', 'gender': 2, 'id': 86404, 'job': 'Screenplay', 'name': 'Oliver H.P. Garrett', 'profile_path': None}, {'credit_id': '52fe444ac3a368484e01aaf3', 'department': 'Writing', 'gender': 2, 'id': 89045, 'job': 'Screenplay', 'name': 'Benjamin Glazer', 'profile_path': None}, {'credit_id': '56d73cf6c3a3681e3601a676', 'department': 'Production', 'gender': 2, 'id': 89045, 'job': 'Associate Producer', 'name': 'Benjamin Glazer', 'profile_path': None}, {'credit_id': '56d73ceec3a36870ac007872', 'department': 'Production', 'gender': 0, 'id': 95752, 'job': 'Associate Producer', 'name': 'Edward A. Blatt', 'profile_path': None}, {'credit_id': '56d73d30c3a3681e50019324', 'department': 'Sound', 'gender': 0, 'id': 121115, 'job': 'Original Music Composer', 'name': 'Milan Roder', 'profile_path': None}, {'credit_id': '56d73d50925141391f007303', 'department': 'Editing', 'gender': 0, 'id': 585135, 'job': 'Editor', 'name': 'George Nichols Jr.', 'profile_path': None}, {'credit_id': '56d73d2992514112cd0037c6', 'department': 'Sound', 'gender': 2, 'id': 998190, 'job': 'Original Music Composer', 'name': 'Ralph Rainger', 'profile_path': None}, {'credit_id': '56d73d0192514111eb005921', 'department': 'Sound', 'gender': 2, 'id': 1092864, 'job': 'Original Music Composer', 'name': 'Herman Hand', 'profile_path': None}, {'credit_id': '56d73d7892514111eb00592f', 'department': 'Directing', 'gender': 2, 'id': 1456433, 'job': 'Assistant Director', 'name': 'Lew Borzage', 'profile_path': None}, {'credit_id': '56d73d8492514111eb005932', 'department': 'Directing', 'gender': 0, 'id': 1469564, 'job': 'Assistant Director', 'name': 'Charles Griffin', 'profile_path': None}, {'credit_id': '56d73d21925141391f0072fe', 'department': 'Sound', 'gender': 2, 'id': 1532469, 'job': 'Original Music Composer', 'name': 'Paul Marquardt', 'profile_path': None}, {'credit_id': '56d73d57c3a3681e4a01a17b', 'department': 'Production', 'gender': 0, 'id': 1532472, 'job': 'Casting', 'name': 'Fred A. Datig', 'profile_path': None}, {'credit_id': '56d73d8c92514118840064a6', 'department': 'Directing', 'gender': 0, 'id': 1533674, 'job': 'Assistant Director', 'name': 'Arthur Jacobson', 'profile_path': None}, {'credit_id': '56d73d99925141391f00730f', 'department': 'Sound', 'gender': 0, 'id': 1585484, 'job': 'Sound', 'name': 'Franklin Hansen', 'profile_path': None}]                                                                                                                                                                                                                                                                                                                                                                                                                                                                                                                                                                                                                                                                                           22649     2\n",
            "[]                                                                                                                                                                                                                                                                                                                                                                                                                                                                                                                                                                                                                                                                                                                                                                                                                                                                                                                                                                                                                                                                                                                                                                                                                                                                                                                                                                                                                                                                                                                                                                                                                                                                                                                                                                                                                                                                                                                                                                                                                                                                                                                                                                                                                                                                                                                                                                                                                                                                                                                                                                                                                                                                                                                                                                                                                                                                                                                                                                                                                                                                                                                                                                                                                                                                                                                                                                                                                                                                                                                                                                                                                                                                                                                                                                                                                                                                                                                                                                                                                                                                                                                                                                                                                                                                                                                                                                                                                                                                                                                                                                                                                                                                                                                                                                                                                                                                                                                                                                                                                                                                                                                                                                                                                                                                                                                                                                                                                                                                                                                                                                                                                                                                                                                                                                                                                                                                                                                                                                                                                                                                                                                                                                                                                                                                                                                                                                                                                                                                                                                                                                                                                                                                                                                                                                                                                                                                                                                                                                                                                                                                                                                                                                                                                                                                                                                                                                                                                                                                                                                                                                                                                                                                                                                                                                                                                                                                                                                                                                                                                                                                                                                                                                                                                                                                                                                                                                                                                                                                                                                                                                                                                                                                                                                                                                                                                                                                                                                                                                                                                                                                                                                                                                                                                                                                                                                                                                                                                                                                                                                                                                                                                                                                                                                                                                                                                                                                                                                                                                                                                                                                                                                                                                                                                                                                                                                                                                                                                                                                                                                                                                                                                                                                                                                                                                                                                                                                                                                                                                                                                                                                                                                                                                                                                                                                                                                                                                                                                                                                                                                                                                                                                                                                                                                                                                                                                                                                                                                                                                                                                                                                                                                                                                                                                                                                   [{'credit_id': '52fe4c10c3a36847f821fbdd', 'department': 'Writing', 'gender': 2, 'id': 6210, 'job': 'Author', 'name': 'William Shakespeare', 'profile_path': '/2z4njqosEQM4g26ttb9grG9rJUg.jpg'}, {'credit_id': '52fe4c10c3a36847f821fbe3', 'department': 'Directing', 'gender': 2, 'id': 158839, 'job': 'Director', 'name': 'John Gorrie', 'profile_path': None}]                                                                                                                                                                                                                                                                                                                                                                                                                                                                                                                                                                                                                                                                                                                                                                                                                                                                                                                                                                                                                                                                                                                                                                                                                                                                                                                                                                                                                                                                                                                                                                                                                                                                                                                                                                                                                                                                                                                                                                                                                                                                                                                                                                                                                                                                                                                                                                                                                                                                                                                                                                                                                                                                                                                                                                                                                                                                                                                                                                                                                                                                                                                                                                                                                                                                                                                                                                                                                                                                                                                                                                                                                                                                                                                                                                                                                                                                                                                                                                                                                                                                                                                                                                                                                                                                                                                                                                                                                                                                                                                                                                                                                                                                                                                                                                                                                                    119916    2\n",
            "[{'cast_id': 11, 'character': 'Jef Costello', 'credit_id': '52fe440ac3a36847f807ee17', 'gender': 2, 'id': 15135, 'name': 'Alain Delon', 'order': 0, 'profile_path': '/jNXHnLspNoh1ZOH7gwCkMrjLA7R.jpg'}, {'cast_id': 12, 'character': 'Superintendant', 'credit_id': '52fe440ac3a36847f807ee1b', 'gender': 2, 'id': 27440, 'name': 'François Périer', 'order': 1, 'profile_path': '/nYEA81FGfwT0O9obLX6gysC7VeO.jpg'}, {'cast_id': 13, 'character': 'Jane Lagrange', 'credit_id': '52fe440ac3a36847f807ee1f', 'gender': 1, 'id': 43814, 'name': 'Nathalie Delon', 'order': 2, 'profile_path': '/8rQzGV7ITkHYdG10RgGKXZsvf3n.jpg'}, {'cast_id': 14, 'character': 'Valerie, die Pianistin', 'credit_id': '52fe440ac3a36847f807ee23', 'gender': 1, 'id': 43815, 'name': 'Cathy Rosier', 'order': 3, 'profile_path': '/6kcDIq4ALG9iS6aqYbotYJ11Coq.jpg'}, {'cast_id': 15, 'character': 'La jeune fille du vestiaire', 'credit_id': '52fe440ac3a36847f807ee27', 'gender': 1, 'id': 20945, 'name': 'Catherine Jourdan', 'order': 4, 'profile_path': '/hLPxSkGrKjs6uN32AR8KaLNPJIa.jpg'}, {'cast_id': 17, 'character': \"L'homme de la passerelle\", 'credit_id': '57acb5dbc3a3682f18000394', 'gender': 0, 'id': 1664777, 'name': 'Jacques Leroy', 'order': 5, 'profile_path': None}, {'cast_id': 18, 'character': 'Wiener', 'credit_id': '57acb5f0925141473600157e', 'gender': 2, 'id': 35216, 'name': 'Michel Boisrond', 'order': 6, 'profile_path': '/djRMKctZJkSFVITNESlUe3KN6ma.jpg'}, {'cast_id': 19, 'character': 'Le barman', 'credit_id': '57acb6009251417f3e00042d', 'gender': 2, 'id': 277526, 'name': 'Robert Favart', 'order': 7, 'profile_path': '/suDSbW2IiphFfZe53vUa5bjRrdP.jpg'}, {'cast_id': 20, 'character': 'Olivier Rey', 'credit_id': '57acb60dc3a3682f180003af', 'gender': 2, 'id': 54403, 'name': 'Jean-Pierre Posier', 'order': 8, 'profile_path': None}, {'cast_id': 21, 'character': '1er inspecteur', 'credit_id': '57acb62fc3a3681e02002900', 'gender': 2, 'id': 1117806, 'name': 'Roger Fradet', 'order': 9, 'profile_path': None}, {'cast_id': 22, 'character': '2ème inspecteur', 'credit_id': '57acb644925141478000178f', 'gender': 2, 'id': 32372, 'name': 'Carlo Nell', 'order': 10, 'profile_path': '/rifzXd7xghJog2CwevsLmIuwF4N.jpg'}, {'cast_id': 23, 'character': '3ème inspecteur', 'credit_id': '57acb6519251414780001798', 'gender': 2, 'id': 1664779, 'name': 'Robert Rondo', 'order': 11, 'profile_path': None}, {'cast_id': 24, 'character': 'Le garagiste', 'credit_id': '57acb65dc3a3682d1c000467', 'gender': 2, 'id': 1664780, 'name': 'André Salgues', 'order': 12, 'profile_path': None}, {'cast_id': 25, 'character': 'Policier - chauffeur de taxi', 'credit_id': '57acb669c3a3682dc6000410', 'gender': 2, 'id': 44408, 'name': 'André Thorent', 'order': 13, 'profile_path': '/aF9ZRcjwYZju3QXUZIZf6EUogGT.jpg'}, {'cast_id': 26, 'character': 'Policier speaker', 'credit_id': '57acb6b0c3a3681daa002d64', 'gender': 2, 'id': 68371, 'name': 'Jacques Deschamps', 'order': 14, 'profile_path': '/keZBlDTA5kczbNVG47C3VNXViEe.jpg'}, {'cast_id': 27, 'character': 'Damolini', 'credit_id': '57acb79b9251417f3b0004ca', 'gender': 2, 'id': 326033, 'name': 'Georges Casati', 'order': 15, 'profile_path': None}, {'cast_id': 28, 'character': 'Garcia', 'credit_id': '57acb7afc3a3681e020029a0', 'gender': 2, 'id': 112760, 'name': 'Jacques Léonard', 'order': 16, 'profile_path': None}, {'cast_id': 29, 'character': '1er Policier de la visite nocturne', 'credit_id': '57acb7be9251411263002919', 'gender': 2, 'id': 1664786, 'name': 'Pierre Vaudier', 'order': 17, 'profile_path': None}, {'cast_id': 30, 'character': '2ème Policier de la visite nocturne', 'credit_id': '57acb7cdc3a368646c0016ff', 'gender': 2, 'id': 1664787, 'name': 'Maurice Magalon', 'order': 18, 'profile_path': None}, {'cast_id': 31, 'character': \"Maître d'hôtel\", 'credit_id': '57acb7de9251417f3e0004dd', 'gender': 2, 'id': 1100818, 'name': 'Gaston Meunier', 'order': 19, 'profile_path': None}, {'cast_id': 32, 'character': '1er client Night-Club', 'credit_id': '57acb7f2c3a368646c001710', 'gender': 2, 'id': 1326575, 'name': 'Jean Gold', 'order': 20, 'profile_path': '/4dSlBQuwBL9Sz3gyB6GTNIuBiAa.jpg'}, {'cast_id': 33, 'character': '2ème client Night-Club', 'credit_id': '57acb820c3a3682f1800047e', 'gender': 2, 'id': 1664788, 'name': 'Georges Billy', 'order': 21, 'profile_path': None}, {'cast_id': 34, 'character': 'Un joueur de poker', 'credit_id': '57acb83e9251414736001659', 'gender': 2, 'id': 1664789, 'name': 'Ari Aricardi', 'order': 22, 'profile_path': None}, {'cast_id': 35, 'character': 'Un joueur de poker', 'credit_id': '57acb84c9251417f3e000502', 'gender': 2, 'id': 54395, 'name': 'Guy Bonnafoux', 'order': 23, 'profile_path': '/2nONpprBKcyyGfHuW1xH8vL1VRe.jpg'}, {'cast_id': 36, 'character': 'Un inspecteur', 'credit_id': '57acb85ac3a3681f2e000959', 'gender': 2, 'id': 1174961, 'name': 'Humberto Catalano', 'order': 24, 'profile_path': '/zxoA4WFGmBJ70Qu4rl3UgfymOcA.jpg'}, {'cast_id': 37, 'character': 'Sosie Jef', 'credit_id': '57acb8699251417f0d0004f1', 'gender': 2, 'id': 1664790, 'name': 'Carl Lechner', 'order': 25, 'profile_path': None}, {'cast_id': 38, 'character': 'La jeune fille au chewing-gum', 'credit_id': '57acb874c3a3682dc60004e6', 'gender': 1, 'id': 1664791, 'name': 'Maria Maneva', 'order': 26, 'profile_path': None}]                                                                                                                                                                                                                                                                                                                                                                                                                                                                                                                                                                                                                                                                                                                                                                                                                                                                                                                                                                                                                                                                                                                                                                                                                                                                                                                                                                                                                                                                                                                                                                                                                                                                                                                                                                                                                                                                                                                                                                                                                                                                                                                                                                                                                                                                                                                                                                                                                                                                                                                                                                                                                                                                                                                                                                                                                                                                                                                                                                                                                                                                                                                                                                                                                                                                                                                                                                                                                                                                                                                                                                                                                                                                                                                                                                                                                                                                                                                                                                                                                                                                                                                                                                                                                                                                                                                                                                                                                                                                                                                                                                                                                                                                                                                                                                                                                                                                                                                                                                                                                                                                                                                                                                                                                                                                                                                                                                                                                                                                                                                                                                                                                                                                                                                                                                                                                                                                                                                                                                                                                                                                                                                                                                                                                                                                                                                                                                                                                                                                                                                                                                                                                                                                                                                                                                                                                  [{'credit_id': '52fe440ac3a36847f807ee01', 'department': 'Camera', 'gender': 2, 'id': 1657, 'job': 'Director of Photography', 'name': 'Henri Decaë', 'profile_path': None}, {'credit_id': '52fe440ac3a36847f807edef', 'department': 'Production', 'gender': 2, 'id': 2577, 'job': 'Producer', 'name': 'Raymond Borderie', 'profile_path': '/3OAqxzgb040FDscICkbK2hYpAzB.jpg'}, {'credit_id': '52fe440ac3a36847f807ede9', 'department': 'Writing', 'gender': 2, 'id': 3831, 'job': 'Screenplay', 'name': 'Jean-Pierre Melville', 'profile_path': '/f0wFxF6dLUdO6a9AIhcV51prFEK.jpg'}, {'credit_id': '52fe440ac3a36847f807eddd', 'department': 'Directing', 'gender': 2, 'id': 3831, 'job': 'Director', 'name': 'Jean-Pierre Melville', 'profile_path': '/f0wFxF6dLUdO6a9AIhcV51prFEK.jpg'}, {'credit_id': '52fe440ac3a36847f807ee07', 'department': 'Production', 'gender': 2, 'id': 3831, 'job': 'Producer', 'name': 'Jean-Pierre Melville', 'profile_path': '/f0wFxF6dLUdO6a9AIhcV51prFEK.jpg'}, {'credit_id': '52fe440ac3a36847f807edfb', 'department': 'Sound', 'gender': 2, 'id': 24775, 'job': 'Music', 'name': 'François de Roubaix', 'profile_path': '/kylSiLpGuVcZxxOKLhJmV6YRIBD.jpg'}, {'credit_id': '52fe440ac3a36847f807ede3', 'department': 'Writing', 'gender': 0, 'id': 43810, 'job': 'Screenplay', 'name': 'Georges Pellegrin', 'profile_path': None}, {'credit_id': '52fe440ac3a36847f807ee2d', 'department': 'Writing', 'gender': 0, 'id': 43810, 'job': 'Other', 'name': 'Georges Pellegrin', 'profile_path': None}, {'credit_id': '52fe440ac3a36847f807edf5', 'department': 'Production', 'gender': 0, 'id': 43811, 'job': 'Producer', 'name': 'Eugène Lépicier', 'profile_path': None}, {'credit_id': '52fe440ac3a36847f807ee0d', 'department': 'Editing', 'gender': 0, 'id': 43812, 'job': 'Editor', 'name': 'Monique Bonnot', 'profile_path': None}, {'credit_id': '52fe440ac3a36847f807ee13', 'department': 'Editing', 'gender': 0, 'id': 43813, 'job': 'Editor', 'name': 'Yolande Maurette', 'profile_path': None}, {'credit_id': '57accb31c3a3682d1c000e34', 'department': 'Writing', 'gender': 0, 'id': 1664823, 'job': 'Novel', 'name': 'Joan McLeod', 'profile_path': None}]                                                                                                                                                                                                                                                                                                                                                                                                                                                                                                                                                                                                                                                                                                                                                                                                                                                                                                                                                                                                                                                                                                                                                                                                                                                                                                                                                                                                                                                                                                                                                                                                                                                                                                                                                                                                                                                                                                                                                                                                                                                                                                                                                                                                                                                                                                                                                                                                                                                                                                                                                                                                                                                                                                                                                                                                                                                                                                                                                                                             5511      2\n",
            "[{'cast_id': 5, 'character': 'Sophie II', 'credit_id': '52fe4a44c3a36847f81c4655', 'gender': 1, 'id': 680, 'name': 'Corinna Harfouch', 'order': 0, 'profile_path': '/oEXqVyUnBLP1JxRVhpT6B3pIe37.jpg'}, {'cast_id': 6, 'character': 'Sophie I', 'credit_id': '52fe4a44c3a36847f81c4659', 'gender': 1, 'id': 8790, 'name': 'Meret Becker', 'order': 1, 'profile_path': '/104ahKJHYJtZAPZHHJFAoJQkuuv.jpg'}, {'cast_id': 7, 'character': 'Konrad', 'credit_id': '536a992bc3a368124a0085a9', 'gender': 2, 'id': 11951, 'name': 'August Zirner', 'order': 2, 'profile_path': '/51Bgab3YLjCFIbJoFiXrSK95BXI.jpg'}, {'cast_id': 8, 'character': 'Barbara', 'credit_id': '536a993bc3a3681231008608', 'gender': 1, 'id': 10627, 'name': 'Eva Mattes', 'order': 3, 'profile_path': '/9qUzPuHrQ2DV64CycNJMUFq4YvB.jpg'}, {'cast_id': 9, 'character': 'Müller', 'credit_id': '536a9948c3a3681226008272', 'gender': 2, 'id': 1865, 'name': 'Hark Bohm', 'order': 4, 'profile_path': '/ptmIE7lSIiCS6mlXHOz3WgT7D43.jpg'}, {'cast_id': 10, 'character': 'Professor Lorenz', 'credit_id': '536a9956c3a368121200830e', 'gender': 2, 'id': 2311, 'name': 'Otto Sander', 'order': 5, 'profile_path': '/AurmCt7XRXRMFJ4xVMwTVkL5hg5.jpg'}, {'cast_id': 11, 'character': 'Elisabeth', 'credit_id': '536a996ec3a3681226008278', 'gender': 1, 'id': 39908, 'name': 'Ulrike Krumbiegel', 'order': 6, 'profile_path': '/jf9gKA0GfdZ56PwxcthQiZC6BZ0.jpg'}, {'cast_id': 12, 'character': 'Harald I', 'credit_id': '5647c8479251413ae1004b64', 'gender': 0, 'id': 48370, 'name': 'Pierre Besson', 'order': 7, 'profile_path': '/4mJIPaY0gXANBHkwWIX3d8a1jWj.jpg'}, {'cast_id': 13, 'character': 'Sophies Tante', 'credit_id': '5647c8619251413ae1004b67', 'gender': 0, 'id': 10258, 'name': 'Tina Engel', 'order': 8, 'profile_path': '/6R3jDyKN3LETdfnCPh5n7tYskHT.jpg'}]                                                                                                                                                                                                                                                                                                                                                                                                                                                                                                                                                                                                                                                                                                                                                                                                                                                                                                                                                                                                                                                                                                                                                                                                                                                                                                                                                                                                                                                                                                                                                                                                                                                                                                                                                                                                                                                                                                                                                                                                                                                                                                                                                                                                                                                                                                                                                                                                                                                                                                                                                                                                                                                                                                                                                                                                                                                                                                                                                                                                                                                                                                                                                                                                                                                                                                                                                                                                                                                                                                                                                                                                                                                                                                                                                                                                                                                                                                                                                                                                                                                                                                                                                                                                                                                                                                                                                                                                                                                                                                                                                                                                                                                                                                                                                                                                                                                                                                                                                                                                                                                                                                                                                                                                                                                                                                                                                                                                                                                                                                                                                                                                                                                                                                                                                                                                                                                                                                                                                                                                                                                                                                                                                                                                                                                                                                                                                                                                                                                                                                                                                                                                                                                                                                                                                                                                                                                                                                                                                                                                                                                                                                                                                                                                                                                                                                                                                                                                                                                                                                                                                                                                                                                                                                                                                                                                                                                                                                                                                                                                                                                                                                                                                                                                                                                                                                                                                                                                                                                                                                                                                                                                                                                                                                                                                                                                                                                                                                                                                                                                                                                                                                                                                                                                                                                                                                                                                                                                                                                                                                                                                                                                                                                                                                                                                                                                                                                                                                                                                                                                                                                                                                                                                                                                                                                                                                                                                                                                                     [{'credit_id': '52fe4a44c3a36847f81c463f', 'department': 'Directing', 'gender': 1, 'id': 39298, 'job': 'Director', 'name': 'Margarethe von Trotta', 'profile_path': '/inHCKINOzP9gby9zCIMm902i1ln.jpg'}, {'credit_id': '52fe4a44c3a36847f81c4645', 'department': 'Writing', 'gender': 2, 'id': 169302, 'job': 'Writer', 'name': 'Peter Schneider', 'profile_path': None}, {'credit_id': '52fe4a44c3a36847f81c464b', 'department': 'Writing', 'gender': 0, 'id': 1037349, 'job': 'Writer', 'name': 'Felice Laudadio', 'profile_path': None}, {'credit_id': '52fe4a44c3a36847f81c4651', 'department': 'Writing', 'gender': 1, 'id': 39298, 'job': 'Writer', 'name': 'Margarethe von Trotta', 'profile_path': '/inHCKINOzP9gby9zCIMm902i1ln.jpg'}]                                                                                                                                                                                                                                                                                                                                                                                                                                                                                                                                                                                                                                                                                                                                                                                                                                                                                                                                                                                                                                                                                                                                                                                                                                                                                                                                                                                                                                                                                                                                                                                                                                                                                                                                                                                                                                                                                                                                                                                                                                                                                                                                                                                                                                                                                                                                                                                                                                                                                                                                                                                                                                                                                                                                                                                                                                                                                                                                                                                                                                                                                                                                                                                                                                                                                                                                                                                                                                                                                                                                                                                                                                                                                                                                                                                                                                                                                                                                                                                                                                                                                                                                                                                                                                                                                                                                                                                                                                                       105045    2\n",
            "                                                                                                                                                                                                                                                                                                                                                                                                                                                                                                                                                                                                                                                                                                                                                                                                                                                                                                                                                                                                                                                                                                                                                                                                                                                                                                                                                                                                                                                                                                                                                                                                                                                                                                                                                                                                                                                                                                                                                                                                                                                                                                                                                                                                                                                                                                                                                                                                                                                                                                                                                                                                                                                                                                                                                                                                                                                                                                                                                                                                                                                                                                                                                                                                                                                                                                                                                                                                                                                                                                                                                                                                                                                                                                                                                                                                                                                                                                                                                                                                                                                                                                                                                                                                                                                                                                                                                                                                                                                                                                                                                                                                                                                                                                                                                                                                                                                                                                                                                                                                                                                                                                                                                                                                                                                                                                                                                                                                                                                                                                                                                                                                                                                                                                                                                                                                                                                                                                                                                                                                                                                                                                                                                                                                                                                                                                                                                                                                                                                                                                                                                                                                                                                                                                                                                                                                                                                                                                                                                                                                                                                                                                                                                                                                                                                                                                                                                                                                                                                                                                                                                                                                                                                                                                                                                                                                                                                                                                                                                                                                                                                                                                                                                                                                                                                                                                                                                                                                                                                                                                                                                                                                                                                                                                                                                                                                                                                                                                                                                                                                                                                                                                                                                                                                                                                                                                                                                                                                                                                                                                                                                                                                                                                                                                                                                                                                                                                                                                                                                                                                                                                                                                                                                                                                                                                                                                                                                                                                                                                                                                                                                                                                                                                                                                                                                                                                                                                                                                                                                                                                                                                                                                                                                                                                                                                                                                                                                                                                                                                                                                                                                                                                                                                                                                                                                                                                                                                                                                                                                                                                                                                                                                                                                                                                                                                                                                                                                                                                                                                                                                                                                                                                                                                                                                                                                                                                                                                                                                                                                                                                                                                                                                                                                                                                                                                                                                                                                                                                                                                                                                                                                                                                                                                                                                                                                                                                                                                                                                                                                                                                                                                                                                                                                                                                                                                                                                                                                                                                                                                                                                                                                                                                                                                                                                                                                                                                                                                                                                                                                                                                                                                                                                                                                                                                                                                                                                                                                                                                                                                                                                                                                                                                                                                                                                                                                                                                                                                                                                                                                                                                                                                                                                                                                                                                                                                                                                                                                                                                                                                                                                                                                                                                                                                                                                                                                                                                                                                                                                                                                                                                                                                                                                                                                                                                                                                                                                                                                                                                                                                                                    ..\n",
            "[{'cast_id': 1, 'character': 'RJ (voice)', 'credit_id': '52fe4482c3a36847f809a4cd', 'gender': 2, 'id': 62, 'name': 'Bruce Willis', 'order': 0, 'profile_path': '/2B7RySy2WMVJKKEFN2XA3IFb8w0.jpg'}, {'cast_id': 2, 'character': 'Verne (voice)', 'credit_id': '52fe4482c3a36847f809a4d1', 'gender': 2, 'id': 52865, 'name': 'Garry Shandling', 'order': 1, 'profile_path': '/rMSod5msflCZBZ9LfJu8n4zYkuP.jpg'}, {'cast_id': 3, 'character': 'Hammy (voice)', 'credit_id': '52fe4482c3a36847f809a4d5', 'gender': 2, 'id': 4495, 'name': 'Steve Carell', 'order': 2, 'profile_path': '/dIbDse0ULWgA5QVoQDSFogczuc.jpg'}, {'cast_id': 4, 'character': 'Stella (voice)', 'credit_id': '52fe4482c3a36847f809a4d9', 'gender': 0, 'id': 27102, 'name': 'Wanda Sykes', 'order': 3, 'profile_path': '/pQ2Dw07FNLCurDxkkMrelqQhm0B.jpg'}, {'cast_id': 5, 'character': 'Ozzie (voice)', 'credit_id': '52fe4482c3a36847f809a4dd', 'gender': 2, 'id': 1748, 'name': 'William Shatner', 'order': 4, 'profile_path': '/4byp8PsbRkC3UQVuvMAh4bcj7E2.jpg'}, {'cast_id': 6, 'character': 'Vincent (voice)', 'credit_id': '52fe4482c3a36847f809a4e1', 'gender': 2, 'id': 1733, 'name': 'Nick Nolte', 'order': 5, 'profile_path': '/o6O7WP3vokKstxJFMiiyRMNyPsH.jpg'}, {'cast_id': 7, 'character': 'Dwayne (voice)', 'credit_id': '52fe4482c3a36847f809a4e5', 'gender': 2, 'id': 19159, 'name': 'Thomas Haden Church', 'order': 6, 'profile_path': '/a7a2cG0wtkKZ9NpkVfmcyn0UvOU.jpg'}, {'cast_id': 8, 'character': 'Gladys (voice)', 'credit_id': '52fe4482c3a36847f809a4e9', 'gender': 1, 'id': 19, 'name': 'Allison Janney', 'order': 7, 'profile_path': '/fido6hwI8tFSZNt6HtP2DZH2eu6.jpg'}, {'cast_id': 9, 'character': 'Lou (voice)', 'credit_id': '52fe4482c3a36847f809a4ed', 'gender': 2, 'id': 26510, 'name': 'Eugene Levy', 'order': 8, 'profile_path': '/69IBiDjU1gSqtrcGOA7PA7aEYsc.jpg'}, {'cast_id': 10, 'character': 'Penny (voice)', 'credit_id': '52fe4482c3a36847f809a4f1', 'gender': 0, 'id': 11514, 'name': \"Catherine O'Hara\", 'order': 9, 'profile_path': '/nDlIwrkmvz11mwsKSTAbM2dfDgC.jpg'}, {'cast_id': 11, 'character': 'Heather (voice)', 'credit_id': '52fe4482c3a36847f809a4f5', 'gender': 1, 'id': 52866, 'name': 'Avril Lavigne', 'order': 10, 'profile_path': '/q2OZC7fKPsBVWTQqOYGz7hPcDwB.jpg'}, {'cast_id': 12, 'character': 'Tiger (voice)', 'credit_id': '52fe4482c3a36847f809a4f9', 'gender': 2, 'id': 41379, 'name': 'Omid Djalili', 'order': 11, 'profile_path': '/2o8UqsQczH3NVW1HXBGCTibvOGF.jpg'}, {'cast_id': 13, 'character': 'Bucky (voice)', 'credit_id': '52fe4482c3a36847f809a4fd', 'gender': 0, 'id': 52867, 'name': 'Sami Kirkpatrick', 'order': 12, 'profile_path': '/6Bfb9D6KPa4HvwPHKxNrSEx8psD.jpg'}, {'cast_id': 14, 'character': 'Spike (voice)', 'credit_id': '52fe4482c3a36847f809a501', 'gender': 2, 'id': 52868, 'name': 'Shane Baumel', 'order': 13, 'profile_path': '/7RRdtecRNi9JY172MP8i71i9Z1Q.jpg'}, {'cast_id': 15, 'character': 'Quillo (voice)', 'credit_id': '52fe4482c3a36847f809a505', 'gender': 1, 'id': 52869, 'name': 'Madison Davenport', 'order': 14, 'profile_path': '/AjqfjA4cVbLgVg2IZxUwBaGISGZ.jpg'}, {'cast_id': 29, 'character': '(voice)', 'credit_id': '55ccd49592514131960001e8', 'gender': 1, 'id': 42160, 'name': 'Ariel Winter', 'order': 15, 'profile_path': '/rOYCjcG769I3FN4jc2MR1nR5HYF.jpg'}, {'cast_id': 30, 'character': 'voice)', 'credit_id': '55ccd4abc3a3681beb0001d9', 'gender': 1, 'id': 61304, 'name': 'Jessie Flower', 'order': 16, 'profile_path': '/xXd9MvK89QoUAhNDEKUVuwCQ1WR.jpg'}]                                                                                                                                                                                                                                                                                                                                                                                                                                                                                                                                                                                                                                                                                                                                                                                                                                                                                                                                                                                                                                                                                                                                                                                                                                                                                                                                                                                                                                                                                                                                                                                                                                                                                                                                                                                                                                                                                                                                                                                                                                                                                                                                                                                                                                                                                                                                                                                                                                                                                                                                                                                                                                                                                                                                                                                                                                                                                                                                                                                                                                                                                                                                                                                                                                                                                                                                                                                                                                                                                                                                                                                                                                                                                                                                                                                                                                                                                                                                                                                                                                                                                                                                                                                                                                                                                                                                                                                                                                                                                                                                                                                                                                                                                                                                                                                                                                                                                                                                                                                                                                                                                                                                                                                                                                                                                                                                                                                                                                                                                                                                                                                                                                                                                                                                                                                                                                                                                                                                                                                                                                                                                                                                                                                                                                                                                                                                                                                                                                                                                                                                                                                                                                                                                                                                                                                                                                                                                                                                                                                                                                                                                                                                                                                                                                                                                                                                                                                                                                                                                                                                                                                                                                                                                                                                                                                                                                                                                                                                                                                                                                                                                                                                                                                                                                                                                                                                                                                                                                                                                                                                                                                                                                                                                       [{'credit_id': '52fe4482c3a36847f809a535', 'department': 'Writing', 'gender': 2, 'id': 21223, 'job': 'Characters', 'name': 'Tom Lewis', 'profile_path': None}, {'credit_id': '52fe4482c3a36847f809a529', 'department': 'Writing', 'gender': 2, 'id': 52845, 'job': 'Screenplay', 'name': 'Karey Kirkpatrick', 'profile_path': '/duWAmZCC3R9B6WgoIaX56Q39hy4.jpg'}, {'credit_id': '52fe4482c3a36847f809a511', 'department': 'Directing', 'gender': 2, 'id': 52845, 'job': 'Director', 'name': 'Karey Kirkpatrick', 'profile_path': '/duWAmZCC3R9B6WgoIaX56Q39hy4.jpg'}, {'credit_id': '52fe4482c3a36847f809a50b', 'department': 'Directing', 'gender': 2, 'id': 52870, 'job': 'Director', 'name': 'Tim Johnson', 'profile_path': None}, {'credit_id': '52fe4482c3a36847f809a517', 'department': 'Writing', 'gender': 2, 'id': 52871, 'job': 'Screenplay', 'name': 'Len Blum', 'profile_path': None}, {'credit_id': '52fe4482c3a36847f809a51d', 'department': 'Writing', 'gender': 0, 'id': 52872, 'job': 'Screenplay', 'name': 'Lorne Cameron', 'profile_path': None}, {'credit_id': '52fe4482c3a36847f809a523', 'department': 'Writing', 'gender': 0, 'id': 52873, 'job': 'Screenplay', 'name': 'David Hoselton', 'profile_path': '/sSlG9u8nYtDlKfwCq2WoQRPsRrX.jpg'}, {'credit_id': '52fe4482c3a36847f809a52f', 'department': 'Writing', 'gender': 2, 'id': 52874, 'job': 'Characters', 'name': 'Michael Fry', 'profile_path': None}, {'credit_id': '5551a1c9c3a3683032003b8a', 'department': 'Writing', 'gender': 0, 'id': 87169, 'job': 'Storyboard', 'name': 'Steven E. Gordon', 'profile_path': None}, {'credit_id': '55404c6ac3a3681dab000a50', 'department': 'Art', 'gender': 0, 'id': 1447381, 'job': 'Art Department Manager', 'name': 'Simon Otto', 'profile_path': None}, {'credit_id': '55288ff792514111d6000b20', 'department': 'Art', 'gender': 0, 'id': 1452488, 'job': 'Art Department Manager', 'name': 'Pat Sito', 'profile_path': None}, {'credit_id': '553ff5029251414af300005f', 'department': 'Visual Effects', 'gender': 0, 'id': 1460472, 'job': 'Animation', 'name': 'Steve Cunningham', 'profile_path': None}, {'credit_id': '5548d1ccc3a368787e00215f', 'department': 'Visual Effects', 'gender': 0, 'id': 1460608, 'job': 'Animation', 'name': 'Emilio Ghorayeb', 'profile_path': None}]                                                                                                                                                                                                                                                                                                                                                                                                                                                                                                                                                                                                                                                                                                                                                                                                                                                                                                                                                                                                                                                                                                                                                                                                                                                                                                                                                                                                                                                                                                                                                                                                                                                                                                                                                                                                                                                                                                                                                                                                                                                                                                                                                                                                                                                                                                                                                                                                                                                                                                                                                                                                                                                                                                                                                                                                                                                                                  7518      1\n",
            "[{'cast_id': 1, 'character': 'RJ (voice)', 'credit_id': '52fe49559251416c910a9fad', 'gender': 2, 'id': 62, 'name': 'Bruce Willis', 'order': 0, 'profile_path': '/2B7RySy2WMVJKKEFN2XA3IFb8w0.jpg'}, {'cast_id': 2, 'character': 'Verne (voice)', 'credit_id': '52fe49559251416c910a9fb1', 'gender': 2, 'id': 52865, 'name': 'Garry Shandling', 'order': 1, 'profile_path': '/rMSod5msflCZBZ9LfJu8n4zYkuP.jpg'}, {'cast_id': 3, 'character': 'Hammy (voice)', 'credit_id': '52fe49559251416c910a9fb5', 'gender': 2, 'id': 4495, 'name': 'Steve Carell', 'order': 2, 'profile_path': '/dIbDse0ULWgA5QVoQDSFogczuc.jpg'}, {'cast_id': 4, 'character': 'Stella (voice)', 'credit_id': '52fe49569251416c910a9fb9', 'gender': 0, 'id': 27102, 'name': 'Wanda Sykes', 'order': 3, 'profile_path': '/pQ2Dw07FNLCurDxkkMrelqQhm0B.jpg'}, {'cast_id': 5, 'character': 'Bucky (voice)', 'credit_id': '52fe49569251416c910a9fbd', 'gender': 0, 'id': 932466, 'name': 'Sami Kirkpatrick', 'order': 4, 'profile_path': None}, {'cast_id': 6, 'character': 'Spike (voice)', 'credit_id': '52fe49569251416c910a9fc1', 'gender': 2, 'id': 52868, 'name': 'Shane Baumel', 'order': 5, 'profile_path': '/7RRdtecRNi9JY172MP8i71i9Z1Q.jpg'}, {'cast_id': 7, 'character': 'Quillo (voice)', 'credit_id': '52fe49569251416c910a9fc5', 'gender': 1, 'id': 52869, 'name': 'Madison Davenport', 'order': 6, 'profile_path': '/AjqfjA4cVbLgVg2IZxUwBaGISGZ.jpg'}]                                                                                                                                                                                                                                                                                                                                                                                                                                                                                                                                                                                                                                                                                                                                                                                                                                                                                                                                                                                                                                                                                                                                                                                                                                                                                                                                                                                                                                                                                                                                                                                                                                                                                                                                                                                                                                                                                                                                                                                                                                                                                                                                                                                                                                                                                                                                                                                                                                                                                                                                                                                                                                                                                                                                                                                                                                                                                                                                                                                                                                                                                                                                                                                                                                                                                                                                                                                                                                                                                                                                                                                                                                                                                                                                                                                                                                                                                                                                                                                                                                                                                                                                                                                                                                                                                                                                                                                                                                                                                                                                                                                                                                                                                                                                                                                                                                                                                                                                                                                                                                                                                                                                                                                                                                                                                                                                                                                                                                                                                                                                                                                                                                                                                                                                                                                                                                                                                                                                                                                                                                                                                                                                                                                                                                                                                                                                                                                                                                                                                                                                                                                                                                                                                                                                                                                                                                                                                                                                                                                                                                                                                                                                                                                                                                                                                                                                                                                                                                                                                                                                                                                                                                                                                                                                                                                                                                                                                                                                                                                                                                                                                                                                                                                                                                                                                                                                                                                                                                                                                                                                                                                                                                                                                                                                                                                                                                                                                                                                                                                                                                                                                                                                                                                                                                                                                                                                                                                                                                                                                                                                                                                                                                                                                                                                                                                                                                                                                                                                                                                                                                                                                                                                                                                                                                                                                                                                                                                                                                                                                                                                                                                                                                                                                                                                                                                                                              [{'credit_id': '52fe49569251416c910a9fcb', 'department': 'Directing', 'gender': 2, 'id': 70287, 'job': 'Director', 'name': 'Will Finn', 'profile_path': '/lbFB2MFrDocpKqzgGlXBvtrLQmw.jpg'}, {'credit_id': '52fe49569251416c910a9fd1', 'department': 'Writing', 'gender': 0, 'id': 587411, 'job': 'Story', 'name': 'Tom Owens', 'profile_path': None}]                                                                                                                                                                                                                                                                                                                                                                                                                                                                                                                                                                                                                                                                                                                                                                                                                                                                                                                                                                                                                                                                                                                                                                                                                                                                                                                                                                                                                                                                                                                                                                                                                                                                                                                                                                                                                                                                                                                                                                                                                                                                                                                                                                                                                                                                                                                                                                                                                                                                                                                                                                                                                                                                                                                                                                                                                                                                                                                                                                                                                                                                                                                                                                                                                                                                                                                                                                                                                                                                                                                                                                                                                                                                                                                                                                                                                                                                                                                                                                                                                                                                                                                                                                                                                                                                                                                                                                                                                                                                                                                                                                                                                                                                                                                                                                                                                                                85693     1\n",
            "[{'cast_id': 1, 'character': 'Raakel', 'credit_id': '52fe443cc3a368484e01763f', 'gender': 0, 'id': 88847, 'name': 'Marjut Maristo', 'order': 0, 'profile_path': None}, {'cast_id': 2, 'character': 'Maria', 'credit_id': '52fe443cc3a368484e017643', 'gender': 0, 'id': 88848, 'name': 'Amanda Pilke', 'order': 1, 'profile_path': '/gWBwcCgfZoMC7hEv6EQuAaQ8go6.jpg'}, {'cast_id': 3, 'character': 'Eeva', 'credit_id': '52fe443cc3a368484e017647', 'gender': 0, 'id': 88851, 'name': 'Malla Malmivaara', 'order': 2, 'profile_path': '/8SLKjuLli4WLDJllba712hLDK4y.jpg'}, {'cast_id': 4, 'character': 'Toni', 'credit_id': '52fe443cc3a368484e01764b', 'gender': 0, 'id': 88852, 'name': 'Joel Mäkinen', 'order': 3, 'profile_path': None}, {'cast_id': 5, 'character': 'Jussi', 'credit_id': '52fe443cc3a368484e01764f', 'gender': 0, 'id': 88853, 'name': 'Jarkko Niemi', 'order': 4, 'profile_path': '/4RyHzqpguXzUco8wHI4aokJIjUG.jpg'}, {'cast_id': 6, 'character': 'Johannes', 'credit_id': '52fe443cc3a368484e017653', 'gender': 0, 'id': 88854, 'name': 'Olavi Uusivirta', 'order': 5, 'profile_path': '/tbFiwJkcVJmivBFt3ZPOG78GEZ.jpg'}, {'cast_id': 7, 'character': 'Luukas', 'credit_id': '52fe443cc3a368484e017657', 'gender': 0, 'id': 88855, 'name': 'Timo Tikka', 'order': 6, 'profile_path': None}, {'cast_id': 8, 'character': 'Ilari', 'credit_id': '52fe443cc3a368484e01765b', 'gender': 2, 'id': 88856, 'name': 'Jani Volanen', 'order': 7, 'profile_path': '/wbERJ4e09APzsb1uppXusZGpfD2.jpg'}]                                                                                                                                                                                                                                                                                                                                                                                                                                                                                                                                                                                                                                                                                                                                                                                                                                                                                                                                                                                                                                                                                                                                                                                                                                                                                                                                                                                                                                                                                                                                                                                                                                                                                                                                                                                                                                                                                                                                                                                                                                                                                                                                                                                                                                                                                                                                                                                                                                                                                                                                                                                                                                                                                                                                                                                                                                                                                                                                                                                                                                                                                                                                                                                                                                                                                                                                                                                                                                                                                                                                                                                                                                                                                                                                                                                                                                                                                                                                                                                                                                                                                                                                                                                                                                                                                                                                                                                                                                                                                                                                                                                                                                                                                                                                                                                                                                                                                                                                                                                                                                                                                                                                                                                                                                                                                                                                                                                                                                                                                                                                                                                                                                                                                                                                                                                                                                                                                                                                                                                                                                                                                                                                                                                                                                                                                                                                                                                                                                                                                                                                                                                                                                                                                                                                                                                                                                                                                                                                                                                                                                                                                                                                                                                                                                                                                                                                                                                                                                                                                                                                                                                                                                                                                                                                                                                                                                                                                                                                                                                                                                                                                                                                                                                                                                                                                                                                                                                                                                                                                                                                                                                                                                                                                                                                                                                                                                                                                                                                                                                                                                                                                                                                                                                                                                                                                                                                                                                                                                                                                                                                                                                                                                                                                                                                                                                                                                                                                                                                                                                                                                                                                                                                                                                                                                                                                                                                                                                                                                                                                                                                                                                                                                                                                                                                              [{'credit_id': '59567241c3a368138806e392', 'department': 'Sound', 'gender': 0, 'id': 73091, 'job': 'Original Music Composer', 'name': 'Adam Nordén', 'profile_path': None}, {'credit_id': '52fe443cc3a368484e017661', 'department': 'Directing', 'gender': 2, 'id': 88857, 'job': 'Director', 'name': 'Dome Karukoski', 'profile_path': '/sEWJvMuVl3stQt54hdBdswZR6iC.jpg'}, {'credit_id': '52fe443cc3a368484e017667', 'department': 'Writing', 'gender': 0, 'id': 88858, 'job': 'Screenplay', 'name': 'Aleksi Bardy', 'profile_path': None}, {'credit_id': '5956724ec3a368151c060e06', 'department': 'Editing', 'gender': 0, 'id': 1101420, 'job': 'Editor', 'name': 'Harri Ylönen', 'profile_path': None}, {'credit_id': '59567248c3a3680d7305ed94', 'department': 'Camera', 'gender': 0, 'id': 1144119, 'job': 'Director of Photography', 'name': 'Tuomo Hutri', 'profile_path': None}, {'credit_id': '595672549251412ac406a232', 'department': 'Production', 'gender': 0, 'id': 1276496, 'job': 'Casting', 'name': 'Pia Pesonen', 'profile_path': None}, {'credit_id': '595672709251412ac406a255', 'department': 'Costume & Make-Up', 'gender': 1, 'id': 1596518, 'job': 'Costume Design', 'name': 'Anna Vilppunen', 'profile_path': None}, {'credit_id': '5956726ac3a36809c606c1b2', 'department': 'Art', 'gender': 0, 'id': 1841827, 'job': 'Art Direction', 'name': 'Antti Nikkinen', 'profile_path': None}, {'credit_id': '5956725d925141691403b1de', 'department': 'Art', 'gender': 0, 'id': 1841882, 'job': 'Production Design', 'name': 'Antti Mattila', 'profile_path': None}, {'credit_id': '59567264c3a36814ae071b0a', 'department': 'Art', 'gender': 0, 'id': 1841882, 'job': 'Art Direction', 'name': 'Antti Mattila', 'profile_path': None}]                                                                                                                                                                                                                                                                                                                                                                                                                                                                                                                                                                                                                                                                                                                                                                                                                                                                                                                                                                                                                                                                                                                                                                                                                                                                                                                                                                                                                                                                                                                                                                                                                                                                                                                                                                                                                                                                                                                                                                                                                                                                                                                                                                                                                                                                                                                                                                                                                                                                                                                                                                                                                                                                                                                                                                                                                                                                                                                                                                                                                                                                                                                                                                                                                                                                                                                                                                                                                                         22326     1\n",
            "[{'cast_id': 1, 'character': 'Race Darnell', 'credit_id': '52fe46899251416c91057989', 'gender': 2, 'id': 723, 'name': 'Patrick Swayze', 'order': 0, 'profile_path': '/3mpjuYiGfglDeaGjwFmSBBzwbc1.jpg'}, {'cast_id': 2, 'character': 'Lita', 'credit_id': '52fe46899251416c9105798d', 'gender': 1, 'id': 14226, 'name': 'Gia Carides', 'order': 1, 'profile_path': '/9EUb7Wbbl3cn6WcHtxXF5O1iOpW.jpg'}, {'cast_id': 3, 'character': 'Horton', 'credit_id': '52fe46899251416c91057991', 'gender': 2, 'id': 42156, 'name': 'Roger E. Mosley', 'order': 2, 'profile_path': '/dAQA1V6JeuvgFLpIVOFZhysbRSR.jpg'}, {'cast_id': 5, 'character': 'Gloria Stevens', 'credit_id': '52fe46899251416c9105799b', 'gender': 1, 'id': 55958, 'name': 'Kim Myers', 'order': 3, 'profile_path': '/y6G5XZg2YknJLZETlnNF196cKlJ.jpg'}, {'cast_id': 6, 'character': 'Stephanie', 'credit_id': '534660870e0a265fe60011e7', 'gender': 1, 'id': 129420, 'name': 'Olivia Birkelund', 'order': 4, 'profile_path': '/kdBHFbXI0orEg94VRUjMKLJr5F1.jpg'}, {'cast_id': 8, 'character': 'Elizabeth', 'credit_id': '59021fd79251410a95001251', 'gender': 1, 'id': 57992, 'name': 'Tina Lifford', 'order': 5, 'profile_path': '/rfeR698pIXf5Ge3aXfNhXW2awrd.jpg'}, {'cast_id': 9, 'character': 'Judith Sutton', 'credit_id': '59021ff29251410acb0011ae', 'gender': 1, 'id': 95857, 'name': 'Elizabeth Ruscio', 'order': 6, 'profile_path': '/1hFtaKTo36a9rUsnnIFcvz0jJIJ.jpg'}, {'cast_id': 10, 'character': 'Brinker', 'credit_id': '59022052c3a3684066001252', 'gender': 2, 'id': 14888, 'name': 'Bruce McGill', 'order': 7, 'profile_path': '/r9UNvqwTYB9C3AcGyBpcjzkCnVD.jpg'}, {'cast_id': 11, 'character': \"O'Dell\", 'credit_id': '590220629251410a910012dc', 'gender': 2, 'id': 6576, 'name': 'Mark Rolston', 'order': 8, 'profile_path': '/bsh3cqDNwVvux4NdaY1Bj4S7mNS.jpg'}, {'cast_id': 12, 'character': 'Geary', 'credit_id': '5902207a9251410a950012c7', 'gender': 2, 'id': 130129, 'name': 'Don Stark', 'order': 9, 'profile_path': '/M4zP41qHZvDkIFVJ7YM6v0s7oy.jpg'}, {'cast_id': 13, 'character': 'Singleton', 'credit_id': '5902214d9251410ad00012cc', 'gender': 1, 'id': 162683, 'name': 'Katy Selverstone', 'order': 10, 'profile_path': '/pNzfFFZoyG4TilvmHGkFu1zXGck.jpg'}, {'cast_id': 14, 'character': 'Parker', 'credit_id': '590222819251410acb001355', 'gender': 2, 'id': 2234, 'name': 'Michael Bowen', 'order': 11, 'profile_path': '/xGNcy5uCe0Ke5vqC7oZlOV3GGDx.jpg'}, {'cast_id': 15, 'character': 'Cutler', 'credit_id': '5902228dc3a36840be00134f', 'gender': 2, 'id': 34395, 'name': 'Kevin Chamberlin', 'order': 12, 'profile_path': '/wRbmptQghO6Dy2E1a93GepGEbcZ.jpg'}, {'cast_id': 16, 'character': 'Morgan', 'credit_id': '5902250e9251410a91001620', 'gender': 0, 'id': 1805135, 'name': 'Sam Atkinson', 'order': 13, 'profile_path': None}, {'cast_id': 17, 'character': 'Singing Inmate', 'credit_id': '5902252e9251410ab4001586', 'gender': 0, 'id': 1805136, 'name': 'Armand Reiser', 'order': 14, 'profile_path': None}, {'cast_id': 18, 'character': 'Lunging Inmate', 'credit_id': '5902253dc3a36840be001525', 'gender': 2, 'id': 1196494, 'name': 'James Staszkiel', 'order': 15, 'profile_path': None}, {'cast_id': 19, 'character': 'Crying Inmate', 'credit_id': '59022557c3a36840900015c3', 'gender': 2, 'id': 106974, 'name': 'Scott Lincoln', 'order': 16, 'profile_path': None}, {'cast_id': 20, 'character': 'Teen Inmate', 'credit_id': '59022565c3a36840660015e8', 'gender': 0, 'id': 1332244, 'name': \"Robert 'Duckie' Carpenter\", 'order': 17, 'profile_path': None}, {'cast_id': 21, 'character': 'Headbanging Inmate', 'credit_id': '590225759251410a9500163e', 'gender': 0, 'id': 43010, 'name': 'Thomas Rosales, Jr.', 'order': 18, 'profile_path': '/ffDrcpKGvjPgpcjd0t9T6EtQ2hz.jpg'}, {'cast_id': 22, 'character': 'Prison Guard', 'credit_id': '590239d7c3a36840db0026dc', 'gender': 0, 'id': 1398466, 'name': 'Gary Roberts', 'order': 19, 'profile_path': None}, {'cast_id': 23, 'character': 'Judge', 'credit_id': '590239f69251410a950024cf', 'gender': 0, 'id': 1754544, 'name': 'Charles Hutchins', 'order': 20, 'profile_path': None}, {'cast_id': 24, 'character': 'T.V. Reporter', 'credit_id': '59023a0cc3a3684090002480', 'gender': 1, 'id': 1805169, 'name': 'Carey Webber', 'order': 21, 'profile_path': None}, {'cast_id': 25, 'character': 'Reporter #1', 'credit_id': '59023a2bc3a368410700217b', 'gender': 1, 'id': 100232, 'name': 'Raye Hollitt', 'order': 22, 'profile_path': '/1KUxqtMNuSWHWXDUb4gyDJaHk5p.jpg'}, {'cast_id': 26, 'character': 'Supporter #1', 'credit_id': '59023a5fc3a368409d002413', 'gender': 1, 'id': 1087586, 'name': 'Lane Lenhart', 'order': 23, 'profile_path': None}, {'cast_id': 27, 'character': 'Supporter #2', 'credit_id': '59023bf69251410acb0024c9', 'gender': 1, 'id': 1805172, 'name': 'Natalia Ongaro', 'order': 24, 'profile_path': None}, {'cast_id': 28, 'character': 'Angry Man', 'credit_id': '59023c58c3a36840db002884', 'gender': 2, 'id': 65808, 'name': 'Fulvio Cecere', 'order': 25, 'profile_path': '/gli7qpzQtZ1hwKq2ejXnIFnAq8s.jpg'}, {'cast_id': 29, 'character': 'Ed', 'credit_id': '59023c639251410a95002661', 'gender': 0, 'id': 1357661, 'name': 'Thom Vernon', 'order': 26, 'profile_path': None}, {'cast_id': 30, 'character': 'Marshall Prentise', 'credit_id': '59023c719251410a9b00260e', 'gender': 0, 'id': 1805173, 'name': 'Alan Echeverria', 'order': 27, 'profile_path': None}, {'cast_id': 31, 'character': 'Deejay', 'credit_id': '59023c8f9251410acb002536', 'gender': 2, 'id': 1493496, 'name': 'Steve Ireland', 'order': 28, 'profile_path': None}, {'cast_id': 32, 'character': 'Detective Hudson', 'credit_id': '59023ca29251410ad000251e', 'gender': 0, 'id': 1805176, 'name': 'Jay Morran', 'order': 29, 'profile_path': None}, {'cast_id': 33, 'character': 'Kansas City Cop', 'credit_id': '59023cb2c3a36840db0028c1', 'gender': 0, 'id': 1805178, 'name': 'Joe Hulser', 'order': 30, 'profile_path': None}, {'cast_id': 34, 'character': 'Country Bar Cop #1', 'credit_id': '59023cc09251410aa8002625', 'gender': 0, 'id': 1805179, 'name': \"Patrick N. O'Brien\", 'order': 31, 'profile_path': None}, {'cast_id': 35, 'character': 'Country Bar Cop #2', 'credit_id': '59023ccf9251410a950026b2', 'gender': 0, 'id': 1805180, 'name': 'Frank T. DiResta', 'order': 32, 'profile_path': None}, {'cast_id': 36, 'character': 'Helicopter Pilot', 'credit_id': '59023ce59251410aa30027aa', 'gender': 2, 'id': 104384, 'name': 'Lucas Dudley', 'order': 33, 'profile_path': None}, {'cast_id': 37, 'character': 'State Trooper', 'credit_id': '59023d08c3a36840660025d6', 'gender': 2, 'id': 9312, 'name': 'Greg Travis', 'order': 34, 'profile_path': '/i08bAo3ZRB9QWBvpcqviJHyU8EH.jpg'}, {'cast_id': 38, 'character': 'Man on Bus', 'credit_id': '59023d1b9251410aa800267d', 'gender': 0, 'id': 1099534, 'name': 'Randal Keith', 'order': 35, 'profile_path': None}, {'cast_id': 39, 'character': 'Taxi Driver', 'credit_id': '59023d319251410acb0025b6', 'gender': 2, 'id': 102906, 'name': 'Brad Blaisdell', 'order': 36, 'profile_path': None}, {'cast_id': 40, 'character': 'Young Lita', 'credit_id': '59023d55c3a3684066002630', 'gender': 1, 'id': 1805181, 'name': 'Katie Hagan', 'order': 37, 'profile_path': None}, {'cast_id': 41, 'character': \"Lita's Ex-husband\", 'credit_id': '59023db89251410a95002793', 'gender': 2, 'id': 1105627, 'name': 'Jon Gale', 'order': 38, 'profile_path': None}, {'cast_id': 42, 'character': \"Lita's Dad\", 'credit_id': '59023dd1c3a368409000272f', 'gender': 2, 'id': 930944, 'name': 'Chris Byrne', 'order': 39, 'profile_path': '/9vPSTgYXB3YAITWIk4qEpDSesHI.jpg'}, {'cast_id': 43, 'character': 'Building Manager', 'credit_id': '59023deac3a3684090002742', 'gender': 0, 'id': 1497322, 'name': 'Michael Adler', 'order': 40, 'profile_path': None}, {'cast_id': 44, 'character': 'Officer', 'credit_id': '59023dff9251410ad0002674', 'gender': 2, 'id': 129013, 'name': 'Roger Hewlett', 'order': 41, 'profile_path': '/fVX5UUZPX8YV52V8ATuI6hAgbde.jpg'}, {'cast_id': 45, 'character': 'Officer', 'credit_id': '59023e15c3a36840ed002b46', 'gender': 0, 'id': 1785647, 'name': 'James Willett', 'order': 42, 'profile_path': None}, {'cast_id': 46, 'character': 'Sniper', 'credit_id': '59023e23c3a368409d0026d6', 'gender': 0, 'id': 94149, 'name': 'Ron Roggé', 'order': 43, 'profile_path': '/2QtQvpwYKpQIaepbgtdwCUPNePg.jpg'}, {'cast_id': 47, 'character': 'Lead Prosecutor', 'credit_id': '59023e39c3a36840be0026c8', 'gender': 0, 'id': 1330875, 'name': 'Steven R. Barnett', 'order': 44, 'profile_path': None}, {'cast_id': 48, 'character': 'The Witness', 'credit_id': '59023e46c3a36840ed002b76', 'gender': 0, 'id': 1805182, 'name': 'Thomas J. Hamilton', 'order': 45, 'profile_path': None}, {'cast_id': 49, 'character': 'DNA Expert', 'credit_id': '59023e5bc3a36840db002a79', 'gender': 0, 'id': 1014852, 'name': 'Michael G. Wilkinson', 'order': 46, 'profile_path': None}, {'cast_id': 50, 'character': 'Jury Foreman', 'credit_id': '59023e71c3a36840be0026fc', 'gender': 1, 'id': 1805183, 'name': 'M. Sharon Madigan', 'order': 47, 'profile_path': None}, {'cast_id': 51, 'character': 'Kid #1', 'credit_id': '59023ea59251410a9500285f', 'gender': 0, 'id': 1805184, 'name': 'Zane Graham', 'order': 48, 'profile_path': None}, {'cast_id': 52, 'character': 'Kid #2', 'credit_id': '59023ebb9251410aa800283a', 'gender': 1, 'id': 1581156, 'name': 'Brigitte Graham', 'order': 49, 'profile_path': '/eN1YuN9uvxa4eH0VqNkbEeYJTm6.jpg'}, {'cast_id': 53, 'character': 'Bar Patron', 'credit_id': '59023ef0c3a36840be002761', 'gender': 2, 'id': 1383838, 'name': 'Greg Bronson', 'order': 50, 'profile_path': '/t8tzdPzXoSDqvg5XaCK5JNtQRYD.jpg'}, {'cast_id': 54, 'character': 'Utah State Trooper #1', 'credit_id': '59023f02c3a368409d002780', 'gender': 0, 'id': 1805185, 'name': 'Darrell Bryan', 'order': 51, 'profile_path': None}, {'cast_id': 55, 'character': 'Bar Patron', 'credit_id': '59023f22c3a3684090002827', 'gender': 1, 'id': 1805186, 'name': 'Eva Ford', 'order': 52, 'profile_path': None}, {'cast_id': 56, 'character': 'Flower Shop Owner', 'credit_id': '59023f549251410aa30029f5', 'gender': 1, 'id': 55617, 'name': 'Marcy Goldman', 'order': 53, 'profile_path': '/4GdOJykQX4kqQPgVT98PvobQ6C9.jpg'}, {'cast_id': 57, 'character': 'Cab Driver', 'credit_id': '59023fa4c3a36840be002808', 'gender': 0, 'id': 1805187, 'name': 'Michael Haddad', 'order': 54, 'profile_path': None}, {'cast_id': 58, 'character': 'Bus Driver', 'credit_id': '59023fb19251410aa3002a4f', 'gender': 2, 'id': 84421, 'name': 'Lyle Kanouse', 'order': 55, 'profile_path': '/8haoaqa7rcsyFtpbKxT43xxXP2N.jpg'}, {'cast_id': 59, 'character': 'Detective at Crime Scene', 'credit_id': '59023fc2c3a36840db002bc6', 'gender': 2, 'id': 193320, 'name': 'John Lizzi', 'order': 56, 'profile_path': '/5UyEhGeLyx9fcCcjpQGAohK29ch.jpg'}, {'cast_id': 60, 'character': 'Country Bar Waitress', 'credit_id': '59023fd09251410a9b002922', 'gender': 1, 'id': 1451115, 'name': 'Marilyn Monrovia', 'order': 57, 'profile_path': '/qcHjuYiTrdrHLQWH63fQj0ajYK8.jpg'}, {'cast_id': 61, 'character': 'Woman in Crowd', 'credit_id': '590240139251410ad0002831', 'gender': 1, 'id': 94055, 'name': 'Lisa Niemi', 'order': 58, 'profile_path': '/gtY0OCJeENyvz0OdL5rOVKZdK2G.jpg'}, {'cast_id': 62, 'character': 'Casino Cocktail Waitress', 'credit_id': '590240269251410ad0002842', 'gender': 1, 'id': 106243, 'name': 'Mary Ann Schmidt', 'order': 59, 'profile_path': '/3IjoYrC0VPFzRMp8rZORFUmRgah.jpg'}, {'cast_id': 63, 'character': 'FBI Agent', 'credit_id': '5902404b9251410a91002a3e', 'gender': 0, 'id': 1573628, 'name': 'Brian Smallwood', 'order': 60, 'profile_path': None}, {'cast_id': 64, 'character': 'Marksman', 'credit_id': '590240619251410ab400296d', 'gender': 0, 'id': 1805188, 'name': 'Sterling Wolfe', 'order': 61, 'profile_path': None}, {'cast_id': 65, 'character': 'Driver', 'credit_id': '59024079c3a368409d0028be', 'gender': 0, 'id': 1786025, 'name': 'Annette Young', 'order': 62, 'profile_path': None}]  [{'credit_id': '5902415c9251410aa3002ba7', 'department': 'Camera', 'gender': 2, 'id': 1153, 'job': 'Director of Photography', 'name': 'John A. Alonzo', 'profile_path': '/7HN8Ifyp5hNBhBurx0q3rlsQX8r.jpg'}, {'credit_id': '52fe46899251416c91057997', 'department': 'Directing', 'gender': 2, 'id': 2380, 'job': 'Director', 'name': 'David Carson', 'profile_path': '/bErwoKKZwUuYz77micPIwjhHFyx.jpg'}, {'credit_id': '5902414d9251410aa3002b9d', 'department': 'Sound', 'gender': 2, 'id': 2398, 'job': 'Music', 'name': 'Dennis McCarthy', 'profile_path': None}, {'credit_id': '590241d69251410ab4002abe', 'department': 'Production', 'gender': 2, 'id': 2504, 'job': 'Unit Production Manager', 'name': 'Marty Hornstein', 'profile_path': None}, {'credit_id': '590240e49251410ad00028cd', 'department': 'Production', 'gender': 2, 'id': 2504, 'job': 'Line Producer', 'name': 'Marty Hornstein', 'profile_path': None}, {'credit_id': '590241149251410a95002a75', 'department': 'Production', 'gender': 2, 'id': 4007, 'job': 'Producer', 'name': 'Bertil Ohlsson', 'profile_path': None}, {'credit_id': '590241ba9251410aa8002abf', 'department': 'Art', 'gender': 2, 'id': 8867, 'job': 'Set Decoration', 'name': 'Marvin March', 'profile_path': None}, {'credit_id': '59024180c3a36840ed002e9e', 'department': 'Production', 'gender': 1, 'id': 8864, 'job': 'Casting', 'name': 'Karen Rea', 'profile_path': None}, {'credit_id': '59024365c3a3684102002909', 'department': 'Crew', 'gender': 2, 'id': 34338, 'job': 'Post Production Supervisor', 'name': 'Michael Jackman', 'profile_path': None}, {'credit_id': '590240fb9251410a9b002a05', 'department': 'Production', 'gender': 2, 'id': 34338, 'job': 'Associate Producer', 'name': 'Michael Jackman', 'profile_path': None}, {'credit_id': '59024198c3a36840ed002eb4', 'department': 'Art', 'gender': 0, 'id': 53811, 'job': 'Production Design', 'name': 'Stephen J. Lineweaver', 'profile_path': None}, {'credit_id': '590241a49251410a95002b09', 'department': 'Art', 'gender': 2, 'id': 54585, 'job': 'Art Direction', 'name': 'Clayton Hartley', 'profile_path': None}, {'credit_id': '590240ad9251410a91002a9a', 'department': 'Writing', 'gender': 1, 'id': 64848, 'job': 'Screenplay', 'name': 'Shelley Miller', 'profile_path': None}, {'credit_id': '59024109c3a3684107002633', 'department': 'Production', 'gender': 1, 'id': 64848, 'job': 'Executive Producer', 'name': 'Shelley Miller', 'profile_path': None}, {'credit_id': '590244d09251410a9b002d16', 'department': 'Crew', 'gender': 0, 'id': 95812, 'job': 'Pilot', 'name': 'Dirk Vahle', 'profile_path': None}, {'credit_id': '5902412ac3a368410200272e', 'department': 'Production', 'gender': 0, 'id': 229385, 'job': 'Producer', 'name': 'Peter Snell', 'profile_path': None}, {'credit_id': '59024093c3a36840be0028c9', 'department': 'Writing', 'gender': 0, 'id': 1227792, 'job': 'Screenplay', 'name': 'Nicholas Hicks-Beach', 'profile_path': None}, {'credit_id': '590240d89251410aa80029ee', 'department': 'Production', 'gender': 0, 'id': 1227792, 'job': 'Executive Producer', 'name': 'Nicholas Hicks-Beach', 'profile_path': None}, {'credit_id': '590241c89251410a91002b97', 'department': 'Costume & Make-Up', 'gender': 1, 'id': 1317898, 'job': 'Costume Design', 'name': 'Lyn Paolo', 'profile_path': '/3PqKLSuaznRqF5TzyDTIDZAvyyr.jpg'}, {'credit_id': '59024477c3a36841020029d2', 'department': 'Crew', 'gender': 2, 'id': 1379517, 'job': 'Pilot', 'name': 'Craig Hosking', 'profile_path': '/20skttiZY1KxmMSRkD9c2ykBBYL.jpg'}, {'credit_id': '590243fcc3a36840ed0030d8', 'department': 'Directing', 'gender': 1, 'id': 1424319, 'job': 'Script Supervisor', 'name': 'Paula Barrett-Barbier', 'profile_path': None}, {'credit_id': '590241e5c3a36840be0029f5', 'department': 'Production', 'gender': 1, 'id': 1693548, 'job': 'Production Supervisor', 'name': 'Cindy M. Ichikawa', 'profile_path': None}, {'credit_id': '59024498c3a3684090002ca9', 'department': 'Production', 'gender': 1, 'id': 1783084, 'job': 'Production Coordinator', 'name': 'Debbie Schwab', 'profile_path': None}, {'credit_id': '5900c6b492514161be00d1ab', 'department': 'Writing', 'gender': 0, 'id': 1804248, 'job': 'Story', 'name': 'John Foster', 'profile_path': None}, {'credit_id': '5902416ac3a36840ed002e80', 'department': 'Editing', 'gender': 0, 'id': 1805191, 'job': 'Editor', 'name': 'Lance Luckey', 'profile_path': None}, {'credit_id': '59024374c3a36840be002b09', 'department': 'Art', 'gender': 0, 'id': 1805199, 'job': 'Set Designer', 'name': 'Henry Alberti', 'profile_path': None}, {'credit_id': '5902439cc3a3684066002b6d', 'department': 'Production', 'gender': 1, 'id': 1805201, 'job': 'Casting Assistant', 'name': 'Susan Maas', 'profile_path': None}, {'credit_id': '590243d8c3a368409d002b76', 'department': 'Production', 'gender': 0, 'id': 1805202, 'job': 'Location Manager', 'name': 'Dennis Curren', 'profile_path': None}, {'credit_id': '590243e5c3a368409d002b89', 'department': 'Production', 'gender': 0, 'id': 1805203, 'job': 'Location Manager', 'name': 'George Larson', 'profile_path': None}]  38017     1\n",
            "[{'cast_id': 1, 'character': 'Quinn Fabray', 'credit_id': '52fe4771c3a368484e0c72ad', 'gender': 1, 'id': 141687, 'name': 'Dianna Agron', 'order': 0, 'profile_path': '/pX5VmcuyLai3XZvaJJgk1x5X9Sr.jpg'}, {'cast_id': 2, 'character': 'Rachel Berry', 'credit_id': '52fe4771c3a368484e0c72b1', 'gender': 1, 'id': 128206, 'name': 'Lea Michele', 'order': 1, 'profile_path': '/pv0Bt2pJ40iQfoido2D8LI4Z0il.jpg'}, {'cast_id': 3, 'character': 'Holly Holliday', 'credit_id': '52fe4771c3a368484e0c72b5', 'gender': 1, 'id': 12052, 'name': 'Gwyneth Paltrow', 'order': 2, 'profile_path': '/uSidH77gLyon3Zpg6y1GxpKJMdZ.jpg'}, {'cast_id': 4, 'character': 'Blaine Anderson', 'credit_id': '52fe4771c3a368484e0c72b9', 'gender': 2, 'id': 228721, 'name': 'Darren Criss', 'order': 3, 'profile_path': '/8Ia3ZJXonTxQEFQvbA1ASMFtjto.jpg'}, {'cast_id': 31, 'character': 'Kurt Hummel', 'credit_id': '52fe4771c3a368484e0c7337', 'gender': 2, 'id': 221607, 'name': 'Chris Colfer', 'order': 4, 'profile_path': '/pp9JdjcDdsZxQvRbavaAWtmDhWK.jpg'}, {'cast_id': 6, 'character': 'Sue Sylvester', 'credit_id': '52fe4771c3a368484e0c72bd', 'gender': 1, 'id': 43775, 'name': 'Jane Lynch', 'order': 5, 'profile_path': '/1vjkjyIfphST9onBsMTKmTSl3z8.jpg'}, {'cast_id': 7, 'character': 'Finn Hudson', 'credit_id': '52fe4771c3a368484e0c72c1', 'gender': 2, 'id': 33352, 'name': 'Cory Monteith', 'order': 6, 'profile_path': '/oaz0CoWbU5h0rasU6MFdtqyIMzb.jpg'}, {'cast_id': 8, 'character': 'Brittany Pierce', 'credit_id': '52fe4771c3a368484e0c72c5', 'gender': 1, 'id': 221606, 'name': 'Heather Morris', 'order': 7, 'profile_path': '/koExd1GaoNDXtDe07DqfgIYpewC.jpg'}, {'cast_id': 9, 'character': 'Artie Abrams', 'credit_id': '52fe4771c3a368484e0c72c9', 'gender': 2, 'id': 197070, 'name': 'Kevin McHale', 'order': 8, 'profile_path': '/fXodLMsNTd1UnWHHQKLP4NZRh9m.jpg'}, {'cast_id': 10, 'character': 'Sam Evans', 'credit_id': '52fe4771c3a368484e0c72cd', 'gender': 2, 'id': 232501, 'name': 'Chord Overstreet', 'order': 9, 'profile_path': '/9XbxQ0uJQYYrrgYLIYEg82wyIiI.jpg'}, {'cast_id': 11, 'character': \"Noah 'Puck' Puckerman\", 'credit_id': '52fe4771c3a368484e0c72d1', 'gender': 2, 'id': 102723, 'name': 'Mark Salling', 'order': 10, 'profile_path': '/zVB5EAQaotoxu5qEqp9rlr9OILX.jpg'}, {'cast_id': 12, 'character': 'Santana Lopez', 'credit_id': '52fe4771c3a368484e0c72d5', 'gender': 1, 'id': 158136, 'name': 'Naya Rivera', 'order': 11, 'profile_path': '/9psfsaOBTy3RFgg9FQGLtHrGJt1.jpg'}, {'cast_id': 13, 'character': 'Mike Chang', 'credit_id': '52fe4771c3a368484e0c72d9', 'gender': 2, 'id': 232499, 'name': 'Harry Shum Jr.', 'order': 12, 'profile_path': '/oNHxpW7Ql4y857Ii03vSMBl2KLN.jpg'}, {'cast_id': 14, 'character': 'Mercedes Jones', 'credit_id': '52fe4771c3a368484e0c72dd', 'gender': 1, 'id': 213109, 'name': 'Amber Riley', 'order': 13, 'profile_path': '/8PkXQMOhB6YgxsCVAh9jCbd46tq.jpg'}, {'cast_id': 15, 'character': 'Tina Cohen-Chang', 'credit_id': '52fe4771c3a368484e0c72e1', 'gender': 1, 'id': 221609, 'name': 'Jenna Ushkowitz', 'order': 14, 'profile_path': '/hghH3OBto0Gbg62603oVzI6YB4R.jpg'}, {'cast_id': 16, 'character': 'Lauren Zizes', 'credit_id': '52fe4771c3a368484e0c72e5', 'gender': 1, 'id': 564629, 'name': 'Ashley Fink', 'order': 15, 'profile_path': '/xC7bgJSis5sQscRrRi0ChncOLiU.jpg'}, {'cast_id': 17, 'character': 'Jeff', 'credit_id': '52fe4771c3a368484e0c72e9', 'gender': 0, 'id': 564630, 'name': 'Riker Lynch', 'order': 16, 'profile_path': None}, {'cast_id': 18, 'character': 'Nick', 'credit_id': '52fe4771c3a368484e0c72ed', 'gender': 0, 'id': 564631, 'name': 'Curt Mega', 'order': 17, 'profile_path': None}, {'cast_id': 19, 'character': 'David', 'credit_id': '52fe4771c3a368484e0c72f1', 'gender': 2, 'id': 564632, 'name': 'Titus Makin Jr.', 'order': 18, 'profile_path': '/iI9ZX7HCdL4GGXkuQcAL8j2iShI.jpg'}]                                                                                                                                                                                                                                                                                                                                                                                                                                                                                                                                                                                                                                                                                                                                                                                                                                                                                                                                                                                                                                                                                                                                                                                                                                                                                                                                                                                                                                                                                                                                                                                                                                                                                                                                                                                                                                                                                                                                                                                                                                                                                                                                                                                                                                                                                                                                                                                                                                                                                                                                                                                                                                                                                                                                                                                                                                                                                                                                                                                                                                                                                                                                                                                                                                                                                                                                                                                                                                                                                                                                                                                                                                                                                                                                                                                                                                                                                                                                                                                                                                                                                                                                                                                                                                                                                                                                                                                                                                                                                                                                                                                                                                                                                                                                                                                                                                                                                                                                                                                                                                                                                                                                                                                                                                                                                                                                                                                                                                                                                                                                                                                                                                                                                                                                                                                                                                                                                                                                                                                                                                                                                                                                                                                                                                                                                                                                                                                                                                                                                                                                                                                                                                                                                                                                                                                                                                                                                                                                                                                                                                                                                                                                                                                                                                                                                                                                                                                                                                                                                                                                                                                                                                                                                                                                                                                                                                                                                                                                                                                                                                                                                                                                                                                                                                                                                                                                  [{'credit_id': '52fe4771c3a368484e0c732d', 'department': 'Editing', 'gender': 0, 'id': 5388, 'job': 'Editor', 'name': 'Myron I. Kerstein', 'profile_path': None}, {'credit_id': '52fe4771c3a368484e0c7327', 'department': 'Camera', 'gender': 2, 'id': 22818, 'job': 'Director of Photography', 'name': 'Glen MacPherson', 'profile_path': None}, {'credit_id': '52fe4771c3a368484e0c7321', 'department': 'Production', 'gender': 2, 'id': 8305, 'job': 'Executive Producer', 'name': 'David Nicksay', 'profile_path': None}, {'credit_id': '560c368bc3a368680b006440', 'department': 'Crew', 'gender': 0, 'id': 29216, 'job': 'Choreographer', 'name': 'Zachary Woodlee', 'profile_path': None}, {'credit_id': '560c388992514150190003bc', 'department': 'Production', 'gender': 0, 'id': 29216, 'job': 'Co-Producer', 'name': 'Zachary Woodlee', 'profile_path': None}, {'credit_id': '52fe4771c3a368484e0c7309', 'department': 'Writing', 'gender': 2, 'id': 52779, 'job': 'Writer', 'name': 'Ryan Murphy', 'profile_path': '/AbNcWPwj4VYlFPxiows5jm0W6Pf.jpg'}, {'credit_id': '52fe4771c3a368484e0c730f', 'department': 'Production', 'gender': 2, 'id': 59595, 'job': 'Executive Producer', 'name': 'Ian Brennan', 'profile_path': '/fGSLQRPAQvx58jQVZsWZit50fsQ.jpg'}, {'credit_id': '52fe4771c3a368484e0c72fd', 'department': 'Writing', 'gender': 2, 'id': 59595, 'job': 'Writer', 'name': 'Ian Brennan', 'profile_path': '/fGSLQRPAQvx58jQVZsWZit50fsQ.jpg'}, {'credit_id': '52fe4771c3a368484e0c72f7', 'department': 'Directing', 'gender': 2, 'id': 101518, 'job': 'Director', 'name': 'Kevin Tancharoen', 'profile_path': '/eukjHprzZ8lW2cXedMDcTBXJAop.jpg'}, {'credit_id': '52fe4771c3a368484e0c7315', 'department': 'Production', 'gender': 0, 'id': 111048, 'job': 'Producer', 'name': 'Dante Di Loreto', 'profile_path': None}, {'credit_id': '52fe4771c3a368484e0c7333', 'department': 'Costume & Make-Up', 'gender': 2, 'id': 964511, 'job': 'Costume Design', 'name': 'Paul Marlow', 'profile_path': None}, {'credit_id': '55f7c9b49251416f8700152e', 'department': 'Writing', 'gender': 2, 'id': 1224030, 'job': 'Writer', 'name': 'Brad Falchuk', 'profile_path': '/6EeDya5bTeegMZ08K4WkX9ypk7H.jpg'}]                                                                                                                                                                                                                                                                                                                                                                                                                                                                                                                                                                                                                                                                                                                                                                                                                                                                                                                                                                                                                                                                                                                                                                                                                                                                                                                                                                                                                                                                                                                                                                                                                                                                                                                                                                                                                                                                                                                                                                                                                                                                                                                                                                                                                                                                                                                                                                                                                                                                                                                                                                                                                                                                                                                                                                                                                                                                                                                                                                          67675     1\n",
            "Name: count, Length: 45439, dtype: int64\n"
          ]
        }
      ]
    },
    {
      "cell_type": "code",
      "source": [
        "keywords = pd.read_csv('/content/keywords.csv')\n",
        "print(keywords.head())"
      ],
      "metadata": {
        "colab": {
          "base_uri": "https://localhost:8080/"
        },
        "id": "cetocrGYiFeR",
        "outputId": "63c33f1a-c51b-42d0-8bcc-9a49ae407f70"
      },
      "execution_count": 178,
      "outputs": [
        {
          "output_type": "stream",
          "name": "stdout",
          "text": [
            "      id                                           keywords\n",
            "0    862  [{'id': 931, 'name': 'jealousy'}, {'id': 4290,...\n",
            "1   8844  [{'id': 10090, 'name': 'board game'}, {'id': 1...\n",
            "2  15602  [{'id': 1495, 'name': 'fishing'}, {'id': 12392...\n",
            "3  31357  [{'id': 818, 'name': 'based on novel'}, {'id':...\n",
            "4  11862  [{'id': 1009, 'name': 'baby'}, {'id': 1599, 'n...\n"
          ]
        }
      ]
    },
    {
      "cell_type": "code",
      "source": [
        "keywords.shape"
      ],
      "metadata": {
        "colab": {
          "base_uri": "https://localhost:8080/"
        },
        "id": "864xgNr0iHgN",
        "outputId": "ffc16923-aac2-45fe-b8ea-4f2a4443d2ac"
      },
      "execution_count": 179,
      "outputs": [
        {
          "output_type": "execute_result",
          "data": {
            "text/plain": [
              "(46419, 2)"
            ]
          },
          "metadata": {},
          "execution_count": 179
        }
      ]
    },
    {
      "cell_type": "code",
      "source": [
        "keywords.info()"
      ],
      "metadata": {
        "colab": {
          "base_uri": "https://localhost:8080/"
        },
        "id": "n7BtKTHriJS5",
        "outputId": "d63a214f-19e6-4bd6-8cfb-1d63c0e1be5b"
      },
      "execution_count": 180,
      "outputs": [
        {
          "output_type": "stream",
          "name": "stdout",
          "text": [
            "<class 'pandas.core.frame.DataFrame'>\n",
            "RangeIndex: 46419 entries, 0 to 46418\n",
            "Data columns (total 2 columns):\n",
            " #   Column    Non-Null Count  Dtype \n",
            "---  ------    --------------  ----- \n",
            " 0   id        46419 non-null  int64 \n",
            " 1   keywords  46419 non-null  object\n",
            "dtypes: int64(1), object(1)\n",
            "memory usage: 725.4+ KB\n"
          ]
        }
      ]
    },
    {
      "cell_type": "code",
      "source": [
        "ratings = pd.read_csv('/content/ratings.csv')\n",
        "links = pd.read_csv('/content/links.csv')"
      ],
      "metadata": {
        "id": "vUQNp5WTETa7"
      },
      "execution_count": 181,
      "outputs": []
    },
    {
      "cell_type": "code",
      "source": [
        "ratings.head()"
      ],
      "metadata": {
        "colab": {
          "base_uri": "https://localhost:8080/",
          "height": 206
        },
        "id": "oTpkNv1fGIen",
        "outputId": "c43d6840-860c-4f38-f5d0-ff1d0ebefbae"
      },
      "execution_count": 182,
      "outputs": [
        {
          "output_type": "execute_result",
          "data": {
            "text/plain": [
              "   userId  movieId  rating   timestamp\n",
              "0       1      110     1.0  1425941529\n",
              "1       1      147     4.5  1425942435\n",
              "2       1      858     5.0  1425941523\n",
              "3       1     1221     5.0  1425941546\n",
              "4       1     1246     5.0  1425941556"
            ],
            "text/html": [
              "\n",
              "  <div id=\"df-181a82b2-55ac-40ee-afd7-4a6a9e6392ae\" class=\"colab-df-container\">\n",
              "    <div>\n",
              "<style scoped>\n",
              "    .dataframe tbody tr th:only-of-type {\n",
              "        vertical-align: middle;\n",
              "    }\n",
              "\n",
              "    .dataframe tbody tr th {\n",
              "        vertical-align: top;\n",
              "    }\n",
              "\n",
              "    .dataframe thead th {\n",
              "        text-align: right;\n",
              "    }\n",
              "</style>\n",
              "<table border=\"1\" class=\"dataframe\">\n",
              "  <thead>\n",
              "    <tr style=\"text-align: right;\">\n",
              "      <th></th>\n",
              "      <th>userId</th>\n",
              "      <th>movieId</th>\n",
              "      <th>rating</th>\n",
              "      <th>timestamp</th>\n",
              "    </tr>\n",
              "  </thead>\n",
              "  <tbody>\n",
              "    <tr>\n",
              "      <th>0</th>\n",
              "      <td>1</td>\n",
              "      <td>110</td>\n",
              "      <td>1.0</td>\n",
              "      <td>1425941529</td>\n",
              "    </tr>\n",
              "    <tr>\n",
              "      <th>1</th>\n",
              "      <td>1</td>\n",
              "      <td>147</td>\n",
              "      <td>4.5</td>\n",
              "      <td>1425942435</td>\n",
              "    </tr>\n",
              "    <tr>\n",
              "      <th>2</th>\n",
              "      <td>1</td>\n",
              "      <td>858</td>\n",
              "      <td>5.0</td>\n",
              "      <td>1425941523</td>\n",
              "    </tr>\n",
              "    <tr>\n",
              "      <th>3</th>\n",
              "      <td>1</td>\n",
              "      <td>1221</td>\n",
              "      <td>5.0</td>\n",
              "      <td>1425941546</td>\n",
              "    </tr>\n",
              "    <tr>\n",
              "      <th>4</th>\n",
              "      <td>1</td>\n",
              "      <td>1246</td>\n",
              "      <td>5.0</td>\n",
              "      <td>1425941556</td>\n",
              "    </tr>\n",
              "  </tbody>\n",
              "</table>\n",
              "</div>\n",
              "    <div class=\"colab-df-buttons\">\n",
              "\n",
              "  <div class=\"colab-df-container\">\n",
              "    <button class=\"colab-df-convert\" onclick=\"convertToInteractive('df-181a82b2-55ac-40ee-afd7-4a6a9e6392ae')\"\n",
              "            title=\"Convert this dataframe to an interactive table.\"\n",
              "            style=\"display:none;\">\n",
              "\n",
              "  <svg xmlns=\"http://www.w3.org/2000/svg\" height=\"24px\" viewBox=\"0 -960 960 960\">\n",
              "    <path d=\"M120-120v-720h720v720H120Zm60-500h600v-160H180v160Zm220 220h160v-160H400v160Zm0 220h160v-160H400v160ZM180-400h160v-160H180v160Zm440 0h160v-160H620v160ZM180-180h160v-160H180v160Zm440 0h160v-160H620v160Z\"/>\n",
              "  </svg>\n",
              "    </button>\n",
              "\n",
              "  <style>\n",
              "    .colab-df-container {\n",
              "      display:flex;\n",
              "      gap: 12px;\n",
              "    }\n",
              "\n",
              "    .colab-df-convert {\n",
              "      background-color: #E8F0FE;\n",
              "      border: none;\n",
              "      border-radius: 50%;\n",
              "      cursor: pointer;\n",
              "      display: none;\n",
              "      fill: #1967D2;\n",
              "      height: 32px;\n",
              "      padding: 0 0 0 0;\n",
              "      width: 32px;\n",
              "    }\n",
              "\n",
              "    .colab-df-convert:hover {\n",
              "      background-color: #E2EBFA;\n",
              "      box-shadow: 0px 1px 2px rgba(60, 64, 67, 0.3), 0px 1px 3px 1px rgba(60, 64, 67, 0.15);\n",
              "      fill: #174EA6;\n",
              "    }\n",
              "\n",
              "    .colab-df-buttons div {\n",
              "      margin-bottom: 4px;\n",
              "    }\n",
              "\n",
              "    [theme=dark] .colab-df-convert {\n",
              "      background-color: #3B4455;\n",
              "      fill: #D2E3FC;\n",
              "    }\n",
              "\n",
              "    [theme=dark] .colab-df-convert:hover {\n",
              "      background-color: #434B5C;\n",
              "      box-shadow: 0px 1px 3px 1px rgba(0, 0, 0, 0.15);\n",
              "      filter: drop-shadow(0px 1px 2px rgba(0, 0, 0, 0.3));\n",
              "      fill: #FFFFFF;\n",
              "    }\n",
              "  </style>\n",
              "\n",
              "    <script>\n",
              "      const buttonEl =\n",
              "        document.querySelector('#df-181a82b2-55ac-40ee-afd7-4a6a9e6392ae button.colab-df-convert');\n",
              "      buttonEl.style.display =\n",
              "        google.colab.kernel.accessAllowed ? 'block' : 'none';\n",
              "\n",
              "      async function convertToInteractive(key) {\n",
              "        const element = document.querySelector('#df-181a82b2-55ac-40ee-afd7-4a6a9e6392ae');\n",
              "        const dataTable =\n",
              "          await google.colab.kernel.invokeFunction('convertToInteractive',\n",
              "                                                    [key], {});\n",
              "        if (!dataTable) return;\n",
              "\n",
              "        const docLinkHtml = 'Like what you see? Visit the ' +\n",
              "          '<a target=\"_blank\" href=https://colab.research.google.com/notebooks/data_table.ipynb>data table notebook</a>'\n",
              "          + ' to learn more about interactive tables.';\n",
              "        element.innerHTML = '';\n",
              "        dataTable['output_type'] = 'display_data';\n",
              "        await google.colab.output.renderOutput(dataTable, element);\n",
              "        const docLink = document.createElement('div');\n",
              "        docLink.innerHTML = docLinkHtml;\n",
              "        element.appendChild(docLink);\n",
              "      }\n",
              "    </script>\n",
              "  </div>\n",
              "\n",
              "\n",
              "    <div id=\"df-01380f08-5a37-4786-991f-933effd272ce\">\n",
              "      <button class=\"colab-df-quickchart\" onclick=\"quickchart('df-01380f08-5a37-4786-991f-933effd272ce')\"\n",
              "                title=\"Suggest charts\"\n",
              "                style=\"display:none;\">\n",
              "\n",
              "<svg xmlns=\"http://www.w3.org/2000/svg\" height=\"24px\"viewBox=\"0 0 24 24\"\n",
              "     width=\"24px\">\n",
              "    <g>\n",
              "        <path d=\"M19 3H5c-1.1 0-2 .9-2 2v14c0 1.1.9 2 2 2h14c1.1 0 2-.9 2-2V5c0-1.1-.9-2-2-2zM9 17H7v-7h2v7zm4 0h-2V7h2v10zm4 0h-2v-4h2v4z\"/>\n",
              "    </g>\n",
              "</svg>\n",
              "      </button>\n",
              "\n",
              "<style>\n",
              "  .colab-df-quickchart {\n",
              "      --bg-color: #E8F0FE;\n",
              "      --fill-color: #1967D2;\n",
              "      --hover-bg-color: #E2EBFA;\n",
              "      --hover-fill-color: #174EA6;\n",
              "      --disabled-fill-color: #AAA;\n",
              "      --disabled-bg-color: #DDD;\n",
              "  }\n",
              "\n",
              "  [theme=dark] .colab-df-quickchart {\n",
              "      --bg-color: #3B4455;\n",
              "      --fill-color: #D2E3FC;\n",
              "      --hover-bg-color: #434B5C;\n",
              "      --hover-fill-color: #FFFFFF;\n",
              "      --disabled-bg-color: #3B4455;\n",
              "      --disabled-fill-color: #666;\n",
              "  }\n",
              "\n",
              "  .colab-df-quickchart {\n",
              "    background-color: var(--bg-color);\n",
              "    border: none;\n",
              "    border-radius: 50%;\n",
              "    cursor: pointer;\n",
              "    display: none;\n",
              "    fill: var(--fill-color);\n",
              "    height: 32px;\n",
              "    padding: 0;\n",
              "    width: 32px;\n",
              "  }\n",
              "\n",
              "  .colab-df-quickchart:hover {\n",
              "    background-color: var(--hover-bg-color);\n",
              "    box-shadow: 0 1px 2px rgba(60, 64, 67, 0.3), 0 1px 3px 1px rgba(60, 64, 67, 0.15);\n",
              "    fill: var(--button-hover-fill-color);\n",
              "  }\n",
              "\n",
              "  .colab-df-quickchart-complete:disabled,\n",
              "  .colab-df-quickchart-complete:disabled:hover {\n",
              "    background-color: var(--disabled-bg-color);\n",
              "    fill: var(--disabled-fill-color);\n",
              "    box-shadow: none;\n",
              "  }\n",
              "\n",
              "  .colab-df-spinner {\n",
              "    border: 2px solid var(--fill-color);\n",
              "    border-color: transparent;\n",
              "    border-bottom-color: var(--fill-color);\n",
              "    animation:\n",
              "      spin 1s steps(1) infinite;\n",
              "  }\n",
              "\n",
              "  @keyframes spin {\n",
              "    0% {\n",
              "      border-color: transparent;\n",
              "      border-bottom-color: var(--fill-color);\n",
              "      border-left-color: var(--fill-color);\n",
              "    }\n",
              "    20% {\n",
              "      border-color: transparent;\n",
              "      border-left-color: var(--fill-color);\n",
              "      border-top-color: var(--fill-color);\n",
              "    }\n",
              "    30% {\n",
              "      border-color: transparent;\n",
              "      border-left-color: var(--fill-color);\n",
              "      border-top-color: var(--fill-color);\n",
              "      border-right-color: var(--fill-color);\n",
              "    }\n",
              "    40% {\n",
              "      border-color: transparent;\n",
              "      border-right-color: var(--fill-color);\n",
              "      border-top-color: var(--fill-color);\n",
              "    }\n",
              "    60% {\n",
              "      border-color: transparent;\n",
              "      border-right-color: var(--fill-color);\n",
              "    }\n",
              "    80% {\n",
              "      border-color: transparent;\n",
              "      border-right-color: var(--fill-color);\n",
              "      border-bottom-color: var(--fill-color);\n",
              "    }\n",
              "    90% {\n",
              "      border-color: transparent;\n",
              "      border-bottom-color: var(--fill-color);\n",
              "    }\n",
              "  }\n",
              "</style>\n",
              "\n",
              "      <script>\n",
              "        async function quickchart(key) {\n",
              "          const quickchartButtonEl =\n",
              "            document.querySelector('#' + key + ' button');\n",
              "          quickchartButtonEl.disabled = true;  // To prevent multiple clicks.\n",
              "          quickchartButtonEl.classList.add('colab-df-spinner');\n",
              "          try {\n",
              "            const charts = await google.colab.kernel.invokeFunction(\n",
              "                'suggestCharts', [key], {});\n",
              "          } catch (error) {\n",
              "            console.error('Error during call to suggestCharts:', error);\n",
              "          }\n",
              "          quickchartButtonEl.classList.remove('colab-df-spinner');\n",
              "          quickchartButtonEl.classList.add('colab-df-quickchart-complete');\n",
              "        }\n",
              "        (() => {\n",
              "          let quickchartButtonEl =\n",
              "            document.querySelector('#df-01380f08-5a37-4786-991f-933effd272ce button');\n",
              "          quickchartButtonEl.style.display =\n",
              "            google.colab.kernel.accessAllowed ? 'block' : 'none';\n",
              "        })();\n",
              "      </script>\n",
              "    </div>\n",
              "\n",
              "    </div>\n",
              "  </div>\n"
            ],
            "application/vnd.google.colaboratory.intrinsic+json": {
              "type": "dataframe",
              "variable_name": "ratings"
            }
          },
          "metadata": {},
          "execution_count": 182
        }
      ]
    },
    {
      "cell_type": "code",
      "source": [
        "ratings.shape"
      ],
      "metadata": {
        "colab": {
          "base_uri": "https://localhost:8080/"
        },
        "id": "YNOVPfXTGKm3",
        "outputId": "65c03c3d-c07f-4419-f514-d637115695e5"
      },
      "execution_count": 183,
      "outputs": [
        {
          "output_type": "execute_result",
          "data": {
            "text/plain": [
              "(26024289, 4)"
            ]
          },
          "metadata": {},
          "execution_count": 183
        }
      ]
    },
    {
      "cell_type": "code",
      "source": [
        "ratings.info()"
      ],
      "metadata": {
        "colab": {
          "base_uri": "https://localhost:8080/"
        },
        "id": "5xLyOufRGMvc",
        "outputId": "ebf82ede-1b09-4661-9adf-ab9b5632e3e9"
      },
      "execution_count": 184,
      "outputs": [
        {
          "output_type": "stream",
          "name": "stdout",
          "text": [
            "<class 'pandas.core.frame.DataFrame'>\n",
            "RangeIndex: 26024289 entries, 0 to 26024288\n",
            "Data columns (total 4 columns):\n",
            " #   Column     Dtype  \n",
            "---  ------     -----  \n",
            " 0   userId     int64  \n",
            " 1   movieId    int64  \n",
            " 2   rating     float64\n",
            " 3   timestamp  int64  \n",
            "dtypes: float64(1), int64(3)\n",
            "memory usage: 794.2 MB\n"
          ]
        }
      ]
    },
    {
      "cell_type": "code",
      "source": [
        "# Get average user rating for each movieId\n",
        "avg_ratings = ratings.groupby('movieId')['rating'].mean().reset_index()\n",
        "avg_ratings.rename(columns={'rating': 'user_avg_rating'}, inplace=True)"
      ],
      "metadata": {
        "id": "JD9qL49aEXgv"
      },
      "execution_count": 185,
      "outputs": []
    },
    {
      "cell_type": "code",
      "source": [
        "avg_ratings.shape"
      ],
      "metadata": {
        "colab": {
          "base_uri": "https://localhost:8080/"
        },
        "id": "pdcZ_fMqEY6i",
        "outputId": "a02ab23c-f2a0-423e-804a-4950d9967e91"
      },
      "execution_count": 186,
      "outputs": [
        {
          "output_type": "execute_result",
          "data": {
            "text/plain": [
              "(45115, 2)"
            ]
          },
          "metadata": {},
          "execution_count": 186
        }
      ]
    },
    {
      "cell_type": "code",
      "source": [
        "avg_ratings.head()"
      ],
      "metadata": {
        "colab": {
          "base_uri": "https://localhost:8080/",
          "height": 206
        },
        "id": "cGLcebVLGQY3",
        "outputId": "dd8b38b5-708b-4ecc-8887-a920ed3e40d8"
      },
      "execution_count": 187,
      "outputs": [
        {
          "output_type": "execute_result",
          "data": {
            "text/plain": [
              "   movieId  user_avg_rating\n",
              "0        1         3.888157\n",
              "1        2         3.236953\n",
              "2        3         3.175550\n",
              "3        4         2.875713\n",
              "4        5         3.079565"
            ],
            "text/html": [
              "\n",
              "  <div id=\"df-477d76f8-43be-45f6-acfb-bc27a4500a01\" class=\"colab-df-container\">\n",
              "    <div>\n",
              "<style scoped>\n",
              "    .dataframe tbody tr th:only-of-type {\n",
              "        vertical-align: middle;\n",
              "    }\n",
              "\n",
              "    .dataframe tbody tr th {\n",
              "        vertical-align: top;\n",
              "    }\n",
              "\n",
              "    .dataframe thead th {\n",
              "        text-align: right;\n",
              "    }\n",
              "</style>\n",
              "<table border=\"1\" class=\"dataframe\">\n",
              "  <thead>\n",
              "    <tr style=\"text-align: right;\">\n",
              "      <th></th>\n",
              "      <th>movieId</th>\n",
              "      <th>user_avg_rating</th>\n",
              "    </tr>\n",
              "  </thead>\n",
              "  <tbody>\n",
              "    <tr>\n",
              "      <th>0</th>\n",
              "      <td>1</td>\n",
              "      <td>3.888157</td>\n",
              "    </tr>\n",
              "    <tr>\n",
              "      <th>1</th>\n",
              "      <td>2</td>\n",
              "      <td>3.236953</td>\n",
              "    </tr>\n",
              "    <tr>\n",
              "      <th>2</th>\n",
              "      <td>3</td>\n",
              "      <td>3.175550</td>\n",
              "    </tr>\n",
              "    <tr>\n",
              "      <th>3</th>\n",
              "      <td>4</td>\n",
              "      <td>2.875713</td>\n",
              "    </tr>\n",
              "    <tr>\n",
              "      <th>4</th>\n",
              "      <td>5</td>\n",
              "      <td>3.079565</td>\n",
              "    </tr>\n",
              "  </tbody>\n",
              "</table>\n",
              "</div>\n",
              "    <div class=\"colab-df-buttons\">\n",
              "\n",
              "  <div class=\"colab-df-container\">\n",
              "    <button class=\"colab-df-convert\" onclick=\"convertToInteractive('df-477d76f8-43be-45f6-acfb-bc27a4500a01')\"\n",
              "            title=\"Convert this dataframe to an interactive table.\"\n",
              "            style=\"display:none;\">\n",
              "\n",
              "  <svg xmlns=\"http://www.w3.org/2000/svg\" height=\"24px\" viewBox=\"0 -960 960 960\">\n",
              "    <path d=\"M120-120v-720h720v720H120Zm60-500h600v-160H180v160Zm220 220h160v-160H400v160Zm0 220h160v-160H400v160ZM180-400h160v-160H180v160Zm440 0h160v-160H620v160ZM180-180h160v-160H180v160Zm440 0h160v-160H620v160Z\"/>\n",
              "  </svg>\n",
              "    </button>\n",
              "\n",
              "  <style>\n",
              "    .colab-df-container {\n",
              "      display:flex;\n",
              "      gap: 12px;\n",
              "    }\n",
              "\n",
              "    .colab-df-convert {\n",
              "      background-color: #E8F0FE;\n",
              "      border: none;\n",
              "      border-radius: 50%;\n",
              "      cursor: pointer;\n",
              "      display: none;\n",
              "      fill: #1967D2;\n",
              "      height: 32px;\n",
              "      padding: 0 0 0 0;\n",
              "      width: 32px;\n",
              "    }\n",
              "\n",
              "    .colab-df-convert:hover {\n",
              "      background-color: #E2EBFA;\n",
              "      box-shadow: 0px 1px 2px rgba(60, 64, 67, 0.3), 0px 1px 3px 1px rgba(60, 64, 67, 0.15);\n",
              "      fill: #174EA6;\n",
              "    }\n",
              "\n",
              "    .colab-df-buttons div {\n",
              "      margin-bottom: 4px;\n",
              "    }\n",
              "\n",
              "    [theme=dark] .colab-df-convert {\n",
              "      background-color: #3B4455;\n",
              "      fill: #D2E3FC;\n",
              "    }\n",
              "\n",
              "    [theme=dark] .colab-df-convert:hover {\n",
              "      background-color: #434B5C;\n",
              "      box-shadow: 0px 1px 3px 1px rgba(0, 0, 0, 0.15);\n",
              "      filter: drop-shadow(0px 1px 2px rgba(0, 0, 0, 0.3));\n",
              "      fill: #FFFFFF;\n",
              "    }\n",
              "  </style>\n",
              "\n",
              "    <script>\n",
              "      const buttonEl =\n",
              "        document.querySelector('#df-477d76f8-43be-45f6-acfb-bc27a4500a01 button.colab-df-convert');\n",
              "      buttonEl.style.display =\n",
              "        google.colab.kernel.accessAllowed ? 'block' : 'none';\n",
              "\n",
              "      async function convertToInteractive(key) {\n",
              "        const element = document.querySelector('#df-477d76f8-43be-45f6-acfb-bc27a4500a01');\n",
              "        const dataTable =\n",
              "          await google.colab.kernel.invokeFunction('convertToInteractive',\n",
              "                                                    [key], {});\n",
              "        if (!dataTable) return;\n",
              "\n",
              "        const docLinkHtml = 'Like what you see? Visit the ' +\n",
              "          '<a target=\"_blank\" href=https://colab.research.google.com/notebooks/data_table.ipynb>data table notebook</a>'\n",
              "          + ' to learn more about interactive tables.';\n",
              "        element.innerHTML = '';\n",
              "        dataTable['output_type'] = 'display_data';\n",
              "        await google.colab.output.renderOutput(dataTable, element);\n",
              "        const docLink = document.createElement('div');\n",
              "        docLink.innerHTML = docLinkHtml;\n",
              "        element.appendChild(docLink);\n",
              "      }\n",
              "    </script>\n",
              "  </div>\n",
              "\n",
              "\n",
              "    <div id=\"df-9ca93d78-5761-44e0-a91e-30c40778d1d9\">\n",
              "      <button class=\"colab-df-quickchart\" onclick=\"quickchart('df-9ca93d78-5761-44e0-a91e-30c40778d1d9')\"\n",
              "                title=\"Suggest charts\"\n",
              "                style=\"display:none;\">\n",
              "\n",
              "<svg xmlns=\"http://www.w3.org/2000/svg\" height=\"24px\"viewBox=\"0 0 24 24\"\n",
              "     width=\"24px\">\n",
              "    <g>\n",
              "        <path d=\"M19 3H5c-1.1 0-2 .9-2 2v14c0 1.1.9 2 2 2h14c1.1 0 2-.9 2-2V5c0-1.1-.9-2-2-2zM9 17H7v-7h2v7zm4 0h-2V7h2v10zm4 0h-2v-4h2v4z\"/>\n",
              "    </g>\n",
              "</svg>\n",
              "      </button>\n",
              "\n",
              "<style>\n",
              "  .colab-df-quickchart {\n",
              "      --bg-color: #E8F0FE;\n",
              "      --fill-color: #1967D2;\n",
              "      --hover-bg-color: #E2EBFA;\n",
              "      --hover-fill-color: #174EA6;\n",
              "      --disabled-fill-color: #AAA;\n",
              "      --disabled-bg-color: #DDD;\n",
              "  }\n",
              "\n",
              "  [theme=dark] .colab-df-quickchart {\n",
              "      --bg-color: #3B4455;\n",
              "      --fill-color: #D2E3FC;\n",
              "      --hover-bg-color: #434B5C;\n",
              "      --hover-fill-color: #FFFFFF;\n",
              "      --disabled-bg-color: #3B4455;\n",
              "      --disabled-fill-color: #666;\n",
              "  }\n",
              "\n",
              "  .colab-df-quickchart {\n",
              "    background-color: var(--bg-color);\n",
              "    border: none;\n",
              "    border-radius: 50%;\n",
              "    cursor: pointer;\n",
              "    display: none;\n",
              "    fill: var(--fill-color);\n",
              "    height: 32px;\n",
              "    padding: 0;\n",
              "    width: 32px;\n",
              "  }\n",
              "\n",
              "  .colab-df-quickchart:hover {\n",
              "    background-color: var(--hover-bg-color);\n",
              "    box-shadow: 0 1px 2px rgba(60, 64, 67, 0.3), 0 1px 3px 1px rgba(60, 64, 67, 0.15);\n",
              "    fill: var(--button-hover-fill-color);\n",
              "  }\n",
              "\n",
              "  .colab-df-quickchart-complete:disabled,\n",
              "  .colab-df-quickchart-complete:disabled:hover {\n",
              "    background-color: var(--disabled-bg-color);\n",
              "    fill: var(--disabled-fill-color);\n",
              "    box-shadow: none;\n",
              "  }\n",
              "\n",
              "  .colab-df-spinner {\n",
              "    border: 2px solid var(--fill-color);\n",
              "    border-color: transparent;\n",
              "    border-bottom-color: var(--fill-color);\n",
              "    animation:\n",
              "      spin 1s steps(1) infinite;\n",
              "  }\n",
              "\n",
              "  @keyframes spin {\n",
              "    0% {\n",
              "      border-color: transparent;\n",
              "      border-bottom-color: var(--fill-color);\n",
              "      border-left-color: var(--fill-color);\n",
              "    }\n",
              "    20% {\n",
              "      border-color: transparent;\n",
              "      border-left-color: var(--fill-color);\n",
              "      border-top-color: var(--fill-color);\n",
              "    }\n",
              "    30% {\n",
              "      border-color: transparent;\n",
              "      border-left-color: var(--fill-color);\n",
              "      border-top-color: var(--fill-color);\n",
              "      border-right-color: var(--fill-color);\n",
              "    }\n",
              "    40% {\n",
              "      border-color: transparent;\n",
              "      border-right-color: var(--fill-color);\n",
              "      border-top-color: var(--fill-color);\n",
              "    }\n",
              "    60% {\n",
              "      border-color: transparent;\n",
              "      border-right-color: var(--fill-color);\n",
              "    }\n",
              "    80% {\n",
              "      border-color: transparent;\n",
              "      border-right-color: var(--fill-color);\n",
              "      border-bottom-color: var(--fill-color);\n",
              "    }\n",
              "    90% {\n",
              "      border-color: transparent;\n",
              "      border-bottom-color: var(--fill-color);\n",
              "    }\n",
              "  }\n",
              "</style>\n",
              "\n",
              "      <script>\n",
              "        async function quickchart(key) {\n",
              "          const quickchartButtonEl =\n",
              "            document.querySelector('#' + key + ' button');\n",
              "          quickchartButtonEl.disabled = true;  // To prevent multiple clicks.\n",
              "          quickchartButtonEl.classList.add('colab-df-spinner');\n",
              "          try {\n",
              "            const charts = await google.colab.kernel.invokeFunction(\n",
              "                'suggestCharts', [key], {});\n",
              "          } catch (error) {\n",
              "            console.error('Error during call to suggestCharts:', error);\n",
              "          }\n",
              "          quickchartButtonEl.classList.remove('colab-df-spinner');\n",
              "          quickchartButtonEl.classList.add('colab-df-quickchart-complete');\n",
              "        }\n",
              "        (() => {\n",
              "          let quickchartButtonEl =\n",
              "            document.querySelector('#df-9ca93d78-5761-44e0-a91e-30c40778d1d9 button');\n",
              "          quickchartButtonEl.style.display =\n",
              "            google.colab.kernel.accessAllowed ? 'block' : 'none';\n",
              "        })();\n",
              "      </script>\n",
              "    </div>\n",
              "\n",
              "    </div>\n",
              "  </div>\n"
            ],
            "application/vnd.google.colaboratory.intrinsic+json": {
              "type": "dataframe",
              "variable_name": "avg_ratings",
              "summary": "{\n  \"name\": \"avg_ratings\",\n  \"rows\": 45115,\n  \"fields\": [\n    {\n      \"column\": \"movieId\",\n      \"properties\": {\n        \"dtype\": \"number\",\n        \"std\": 57367,\n        \"min\": 1,\n        \"max\": 176275,\n        \"num_unique_values\": 45115,\n        \"samples\": [\n          5786,\n          167036,\n          71164\n        ],\n        \"semantic_type\": \"\",\n        \"description\": \"\"\n      }\n    },\n    {\n      \"column\": \"user_avg_rating\",\n      \"properties\": {\n        \"dtype\": \"number\",\n        \"std\": 0.7311861191526767,\n        \"min\": 0.5,\n        \"max\": 5.0,\n        \"num_unique_values\": 12545,\n        \"samples\": [\n          2.335476956055734,\n          3.9680557472057405,\n          3.0906019922044177\n        ],\n        \"semantic_type\": \"\",\n        \"description\": \"\"\n      }\n    }\n  ]\n}"
            }
          },
          "metadata": {},
          "execution_count": 187
        }
      ]
    },
    {
      "cell_type": "code",
      "source": [
        "# Show rows where 'id' is not a valid integer\n",
        "non_numeric_ids = movies[~movies['id'].apply(lambda x: str(x).isnumeric())]\n",
        "\n",
        "# Display just the problematic IDs (or the whole row for context)\n",
        "print(non_numeric_ids[['id', 'title']])"
      ],
      "metadata": {
        "colab": {
          "base_uri": "https://localhost:8080/"
        },
        "id": "HmIO8ffhiLBd",
        "outputId": "8136258e-0a05-4702-eb9b-8ec84b41cc01"
      },
      "execution_count": 188,
      "outputs": [
        {
          "output_type": "stream",
          "name": "stdout",
          "text": [
            "               id title\n",
            "19730  1997-08-20   NaN\n",
            "29503  2012-09-29   NaN\n",
            "35587  2014-01-01   NaN\n"
          ]
        }
      ]
    },
    {
      "cell_type": "code",
      "source": [
        "# Remove rows where 'id' is not numeric\n",
        "movies = movies[movies['id'].apply(lambda x: str(x).isnumeric())].copy()\n",
        "\n",
        "# Convert 'id' to int64 in all DataFrames\n",
        "movies['id'] = movies['id'].astype('int64')"
      ],
      "metadata": {
        "id": "672XW-2-iOR6"
      },
      "execution_count": 189,
      "outputs": []
    },
    {
      "cell_type": "code",
      "source": [
        "# Show rows where 'id' is not a valid integer\n",
        "non_numeric_ids = movies[~movies['id'].apply(lambda x: str(x).isnumeric())]\n",
        "\n",
        "# Display just the problematic IDs (or the whole row for context)\n",
        "print(non_numeric_ids[['id', 'title']])"
      ],
      "metadata": {
        "colab": {
          "base_uri": "https://localhost:8080/"
        },
        "id": "B4YTm_Lo65Pd",
        "outputId": "8f50b10c-6360-494d-efcf-29a8c3873d28"
      },
      "execution_count": 190,
      "outputs": [
        {
          "output_type": "stream",
          "name": "stdout",
          "text": [
            "Empty DataFrame\n",
            "Columns: [id, title]\n",
            "Index: []\n"
          ]
        }
      ]
    },
    {
      "cell_type": "code",
      "source": [
        "# Convert tmdbId to int (some rows are NaN)\n",
        "links = links[links['tmdbId'].notnull()].copy()\n",
        "links['tmdbId'] = links['tmdbId'].astype(int)"
      ],
      "metadata": {
        "id": "2zMMyZ9rEldr"
      },
      "execution_count": 191,
      "outputs": []
    },
    {
      "cell_type": "markdown",
      "source": [
        "MERGING THE DATA INTO A SINGLE DATASET AND MAKING A FINAL MOVIES DATASET WITH REQUIRED DATA ONLY"
      ],
      "metadata": {
        "id": "cjZRW_MBGZ1B"
      }
    },
    {
      "cell_type": "code",
      "source": [
        "# Merge avg rating with links → then with movies\n",
        "links_avg = links.merge(avg_ratings, on='movieId', how='left')\n",
        "movies = movies.merge(links_avg, left_on='id', right_on='tmdbId', how='left')"
      ],
      "metadata": {
        "id": "jbt-fr8NEo5L"
      },
      "execution_count": 192,
      "outputs": []
    },
    {
      "cell_type": "code",
      "source": [
        "# Merge with credits\n",
        "movies_rated_credits = movies.merge(credits, on='id', how='left')\n",
        "\n",
        "# Merge with keywords\n",
        "final_movies = movies_rated_credits.merge(keywords, on='id', how='left')\n",
        "\n",
        "# Check shape of the final merged data\n",
        "print(\"Final merged data:\", final_movies.info())"
      ],
      "metadata": {
        "colab": {
          "base_uri": "https://localhost:8080/"
        },
        "id": "BKxxASjsiQDP",
        "outputId": "e3a23dd4-78c4-413b-98e8-e21ed6e5b20c"
      },
      "execution_count": 193,
      "outputs": [
        {
          "output_type": "stream",
          "name": "stdout",
          "text": [
            "<class 'pandas.core.frame.DataFrame'>\n",
            "RangeIndex: 46911 entries, 0 to 46910\n",
            "Data columns (total 31 columns):\n",
            " #   Column                 Non-Null Count  Dtype  \n",
            "---  ------                 --------------  -----  \n",
            " 0   adult                  46911 non-null  object \n",
            " 1   belongs_to_collection  4602 non-null   object \n",
            " 2   budget                 46911 non-null  object \n",
            " 3   genres                 46911 non-null  object \n",
            " 4   homepage               8049 non-null   object \n",
            " 5   id                     46911 non-null  int64  \n",
            " 6   imdb_id                46894 non-null  object \n",
            " 7   original_language      46900 non-null  object \n",
            " 8   original_title         46911 non-null  object \n",
            " 9   overview               45916 non-null  object \n",
            " 10  popularity             46907 non-null  object \n",
            " 11  poster_path            46512 non-null  object \n",
            " 12  production_companies   46907 non-null  object \n",
            " 13  production_countries   46907 non-null  object \n",
            " 14  release_date           46823 non-null  object \n",
            " 15  revenue                46907 non-null  float64\n",
            " 16  runtime                46643 non-null  float64\n",
            " 17  spoken_languages       46907 non-null  object \n",
            " 18  status                 46825 non-null  object \n",
            " 19  tagline                20909 non-null  object \n",
            " 20  title                  46907 non-null  object \n",
            " 21  video                  46907 non-null  object \n",
            " 22  vote_average           46907 non-null  float64\n",
            " 23  vote_count             46907 non-null  float64\n",
            " 24  movieId                46911 non-null  int64  \n",
            " 25  imdbId                 46911 non-null  int64  \n",
            " 26  tmdbId                 46911 non-null  int64  \n",
            " 27  user_avg_rating        46166 non-null  float64\n",
            " 28  cast                   46910 non-null  object \n",
            " 29  crew                   46910 non-null  object \n",
            " 30  keywords               46910 non-null  object \n",
            "dtypes: float64(5), int64(4), object(22)\n",
            "memory usage: 11.1+ MB\n",
            "Final merged data: None\n"
          ]
        }
      ]
    },
    {
      "cell_type": "code",
      "source": [
        "# Keeping only the required columns\n",
        "columns_to_keep = ['id', 'title', 'overview', 'genres', 'cast', 'crew', 'keywords', 'tagline','user_avg_rating']\n",
        "final_dataset = final_movies[columns_to_keep]"
      ],
      "metadata": {
        "id": "zUVs1eAuiZoi"
      },
      "execution_count": 194,
      "outputs": []
    },
    {
      "cell_type": "code",
      "source": [
        "final_dataset.info()"
      ],
      "metadata": {
        "colab": {
          "base_uri": "https://localhost:8080/"
        },
        "id": "kU2T-Sn3idQd",
        "outputId": "48ec486d-b4fe-43d0-e047-fabd363593dc"
      },
      "execution_count": 195,
      "outputs": [
        {
          "output_type": "stream",
          "name": "stdout",
          "text": [
            "<class 'pandas.core.frame.DataFrame'>\n",
            "RangeIndex: 46911 entries, 0 to 46910\n",
            "Data columns (total 9 columns):\n",
            " #   Column           Non-Null Count  Dtype  \n",
            "---  ------           --------------  -----  \n",
            " 0   id               46911 non-null  int64  \n",
            " 1   title            46907 non-null  object \n",
            " 2   overview         45916 non-null  object \n",
            " 3   genres           46911 non-null  object \n",
            " 4   cast             46910 non-null  object \n",
            " 5   crew             46910 non-null  object \n",
            " 6   keywords         46910 non-null  object \n",
            " 7   tagline          20909 non-null  object \n",
            " 8   user_avg_rating  46166 non-null  float64\n",
            "dtypes: float64(1), int64(1), object(7)\n",
            "memory usage: 3.2+ MB\n"
          ]
        }
      ]
    },
    {
      "cell_type": "code",
      "source": [
        "final_dataset.shape"
      ],
      "metadata": {
        "colab": {
          "base_uri": "https://localhost:8080/"
        },
        "id": "tEZmSBAAie_j",
        "outputId": "ba913e26-80d9-4f1d-e1be-334fe9540561"
      },
      "execution_count": 196,
      "outputs": [
        {
          "output_type": "execute_result",
          "data": {
            "text/plain": [
              "(46911, 9)"
            ]
          },
          "metadata": {},
          "execution_count": 196
        }
      ]
    },
    {
      "cell_type": "markdown",
      "source": [
        "DATA CLEANING"
      ],
      "metadata": {
        "id": "6ijvnfaGGsyX"
      }
    },
    {
      "cell_type": "code",
      "source": [
        "# Checking for null values in final_dataset\n",
        "print(final_dataset.isnull().sum())"
      ],
      "metadata": {
        "colab": {
          "base_uri": "https://localhost:8080/"
        },
        "id": "Uyd9A8exiiH1",
        "outputId": "cb406da7-c2fa-48f3-c6ea-5665f7e87f77"
      },
      "execution_count": 197,
      "outputs": [
        {
          "output_type": "stream",
          "name": "stdout",
          "text": [
            "id                     0\n",
            "title                  4\n",
            "overview             995\n",
            "genres                 0\n",
            "cast                   1\n",
            "crew                   1\n",
            "keywords               1\n",
            "tagline            26002\n",
            "user_avg_rating      745\n",
            "dtype: int64\n"
          ]
        }
      ]
    },
    {
      "cell_type": "code",
      "source": [
        "# Drop all the rows without a title\n",
        "final_dataset = final_dataset.dropna(subset=['title', 'overview']).copy()\n",
        "print(final_dataset.isnull().sum())"
      ],
      "metadata": {
        "colab": {
          "base_uri": "https://localhost:8080/"
        },
        "id": "8FlW_Zq8ikHR",
        "outputId": "a534f43a-78e5-4e51-d466-b16ee8b244a1"
      },
      "execution_count": 198,
      "outputs": [
        {
          "output_type": "stream",
          "name": "stdout",
          "text": [
            "id                     0\n",
            "title                  0\n",
            "overview               0\n",
            "genres                 0\n",
            "cast                   1\n",
            "crew                   1\n",
            "keywords               1\n",
            "tagline            25012\n",
            "user_avg_rating      728\n",
            "dtype: int64\n"
          ]
        }
      ]
    },
    {
      "cell_type": "code",
      "source": [
        "final_dataset.shape"
      ],
      "metadata": {
        "colab": {
          "base_uri": "https://localhost:8080/"
        },
        "id": "8OCcGzE-il00",
        "outputId": "a2b41f36-c7db-4f63-ec49-e6a986bca26c"
      },
      "execution_count": 199,
      "outputs": [
        {
          "output_type": "execute_result",
          "data": {
            "text/plain": [
              "(45912, 9)"
            ]
          },
          "metadata": {},
          "execution_count": 199
        }
      ]
    },
    {
      "cell_type": "code",
      "source": [
        "# Checking for duplicate values\n",
        "final_dataset.duplicated().sum()"
      ],
      "metadata": {
        "colab": {
          "base_uri": "https://localhost:8080/"
        },
        "id": "-MqV_nRnimOW",
        "outputId": "c08e4526-adcb-4acc-cf48-f6614cadf3ee"
      },
      "execution_count": 200,
      "outputs": [
        {
          "output_type": "execute_result",
          "data": {
            "text/plain": [
              "np.int64(1393)"
            ]
          },
          "metadata": {},
          "execution_count": 200
        }
      ]
    },
    {
      "cell_type": "code",
      "source": [
        "# Dropping the duplicate rows\n",
        "final_dataset = final_dataset.drop_duplicates().copy()\n",
        "final_dataset.reset_index(drop=True, inplace=True)"
      ],
      "metadata": {
        "id": "dSPzWQEQin9R"
      },
      "execution_count": 201,
      "outputs": []
    },
    {
      "cell_type": "code",
      "source": [
        "final_dataset"
      ],
      "metadata": {
        "colab": {
          "base_uri": "https://localhost:8080/",
          "height": 927
        },
        "id": "eI3MtYtCDM5L",
        "outputId": "da8c4b27-7b99-4ce9-aeb6-c30a68249021"
      },
      "execution_count": 202,
      "outputs": [
        {
          "output_type": "execute_result",
          "data": {
            "text/plain": [
              "           id                        title  \\\n",
              "0         862                    Toy Story   \n",
              "1        8844                      Jumanji   \n",
              "2       15602             Grumpier Old Men   \n",
              "3       31357            Waiting to Exhale   \n",
              "4       11862  Father of the Bride Part II   \n",
              "...       ...                          ...   \n",
              "44514  439050                       Subdue   \n",
              "44515  111109          Century of Birthing   \n",
              "44516   67758                     Betrayal   \n",
              "44517  227506             Satan Triumphant   \n",
              "44518  461257                     Queerama   \n",
              "\n",
              "                                                overview  \\\n",
              "0      Led by Woody, Andy's toys live happily in his ...   \n",
              "1      When siblings Judy and Peter discover an encha...   \n",
              "2      A family wedding reignites the ancient feud be...   \n",
              "3      Cheated on, mistreated and stepped on, the wom...   \n",
              "4      Just when George Banks has recovered from his ...   \n",
              "...                                                  ...   \n",
              "44514        Rising and falling between a man and woman.   \n",
              "44515  An artist struggles to finish his work while a...   \n",
              "44516  When one of her hits goes wrong, a professiona...   \n",
              "44517  In a small town live two brothers, one a minis...   \n",
              "44518  50 years after decriminalisation of homosexual...   \n",
              "\n",
              "                                                  genres  \\\n",
              "0      [{'id': 16, 'name': 'Animation'}, {'id': 35, '...   \n",
              "1      [{'id': 12, 'name': 'Adventure'}, {'id': 14, '...   \n",
              "2      [{'id': 10749, 'name': 'Romance'}, {'id': 35, ...   \n",
              "3      [{'id': 35, 'name': 'Comedy'}, {'id': 18, 'nam...   \n",
              "4                         [{'id': 35, 'name': 'Comedy'}]   \n",
              "...                                                  ...   \n",
              "44514  [{'id': 18, 'name': 'Drama'}, {'id': 10751, 'n...   \n",
              "44515                      [{'id': 18, 'name': 'Drama'}]   \n",
              "44516  [{'id': 28, 'name': 'Action'}, {'id': 18, 'nam...   \n",
              "44517                                                 []   \n",
              "44518                                                 []   \n",
              "\n",
              "                                                    cast  \\\n",
              "0      [{'cast_id': 14, 'character': 'Woody (voice)',...   \n",
              "1      [{'cast_id': 1, 'character': 'Alan Parrish', '...   \n",
              "2      [{'cast_id': 2, 'character': 'Max Goldman', 'c...   \n",
              "3      [{'cast_id': 1, 'character': \"Savannah 'Vannah...   \n",
              "4      [{'cast_id': 1, 'character': 'George Banks', '...   \n",
              "...                                                  ...   \n",
              "44514  [{'cast_id': 0, 'character': '', 'credit_id': ...   \n",
              "44515  [{'cast_id': 1002, 'character': 'Sister Angela...   \n",
              "44516  [{'cast_id': 6, 'character': 'Emily Shaw', 'cr...   \n",
              "44517  [{'cast_id': 2, 'character': '', 'credit_id': ...   \n",
              "44518                                                 []   \n",
              "\n",
              "                                                    crew  \\\n",
              "0      [{'credit_id': '52fe4284c3a36847f8024f49', 'de...   \n",
              "1      [{'credit_id': '52fe44bfc3a36847f80a7cd1', 'de...   \n",
              "2      [{'credit_id': '52fe466a9251416c75077a89', 'de...   \n",
              "3      [{'credit_id': '52fe44779251416c91011acb', 'de...   \n",
              "4      [{'credit_id': '52fe44959251416c75039ed7', 'de...   \n",
              "...                                                  ...   \n",
              "44514  [{'credit_id': '5894a97d925141426c00818c', 'de...   \n",
              "44515  [{'credit_id': '52fe4af1c3a36847f81e9b15', 'de...   \n",
              "44516  [{'credit_id': '52fe4776c3a368484e0c8387', 'de...   \n",
              "44517  [{'credit_id': '533bccebc3a36844cf0011a7', 'de...   \n",
              "44518  [{'credit_id': '593e676c92514105b702e68e', 'de...   \n",
              "\n",
              "                                                keywords  \\\n",
              "0      [{'id': 931, 'name': 'jealousy'}, {'id': 4290,...   \n",
              "1      [{'id': 10090, 'name': 'board game'}, {'id': 1...   \n",
              "2      [{'id': 1495, 'name': 'fishing'}, {'id': 12392...   \n",
              "3      [{'id': 818, 'name': 'based on novel'}, {'id':...   \n",
              "4      [{'id': 1009, 'name': 'baby'}, {'id': 1599, 'n...   \n",
              "...                                                  ...   \n",
              "44514             [{'id': 10703, 'name': 'tragic love'}]   \n",
              "44515  [{'id': 2679, 'name': 'artist'}, {'id': 14531,...   \n",
              "44516                                                 []   \n",
              "44517                                                 []   \n",
              "44518                                                 []   \n",
              "\n",
              "                                                 tagline  user_avg_rating  \n",
              "0                                                    NaN         3.888157  \n",
              "1              Roll the dice and unleash the excitement!         3.236953  \n",
              "2      Still Yelling. Still Fighting. Still Ready for...         3.175550  \n",
              "3      Friends are the people who let you be yourself...         2.875713  \n",
              "4      Just When His World Is Back To Normal... He's ...         3.079565  \n",
              "...                                                  ...              ...  \n",
              "44514         Rising and falling between a man and woman         3.500000  \n",
              "44515                                                NaN         5.000000  \n",
              "44516                             A deadly game of wits.         1.000000  \n",
              "44517                                                NaN         3.000000  \n",
              "44518                                                NaN              NaN  \n",
              "\n",
              "[44519 rows x 9 columns]"
            ],
            "text/html": [
              "\n",
              "  <div id=\"df-1b88ede6-2805-4094-8dcd-7bef05d4e997\" class=\"colab-df-container\">\n",
              "    <div>\n",
              "<style scoped>\n",
              "    .dataframe tbody tr th:only-of-type {\n",
              "        vertical-align: middle;\n",
              "    }\n",
              "\n",
              "    .dataframe tbody tr th {\n",
              "        vertical-align: top;\n",
              "    }\n",
              "\n",
              "    .dataframe thead th {\n",
              "        text-align: right;\n",
              "    }\n",
              "</style>\n",
              "<table border=\"1\" class=\"dataframe\">\n",
              "  <thead>\n",
              "    <tr style=\"text-align: right;\">\n",
              "      <th></th>\n",
              "      <th>id</th>\n",
              "      <th>title</th>\n",
              "      <th>overview</th>\n",
              "      <th>genres</th>\n",
              "      <th>cast</th>\n",
              "      <th>crew</th>\n",
              "      <th>keywords</th>\n",
              "      <th>tagline</th>\n",
              "      <th>user_avg_rating</th>\n",
              "    </tr>\n",
              "  </thead>\n",
              "  <tbody>\n",
              "    <tr>\n",
              "      <th>0</th>\n",
              "      <td>862</td>\n",
              "      <td>Toy Story</td>\n",
              "      <td>Led by Woody, Andy's toys live happily in his ...</td>\n",
              "      <td>[{'id': 16, 'name': 'Animation'}, {'id': 35, '...</td>\n",
              "      <td>[{'cast_id': 14, 'character': 'Woody (voice)',...</td>\n",
              "      <td>[{'credit_id': '52fe4284c3a36847f8024f49', 'de...</td>\n",
              "      <td>[{'id': 931, 'name': 'jealousy'}, {'id': 4290,...</td>\n",
              "      <td>NaN</td>\n",
              "      <td>3.888157</td>\n",
              "    </tr>\n",
              "    <tr>\n",
              "      <th>1</th>\n",
              "      <td>8844</td>\n",
              "      <td>Jumanji</td>\n",
              "      <td>When siblings Judy and Peter discover an encha...</td>\n",
              "      <td>[{'id': 12, 'name': 'Adventure'}, {'id': 14, '...</td>\n",
              "      <td>[{'cast_id': 1, 'character': 'Alan Parrish', '...</td>\n",
              "      <td>[{'credit_id': '52fe44bfc3a36847f80a7cd1', 'de...</td>\n",
              "      <td>[{'id': 10090, 'name': 'board game'}, {'id': 1...</td>\n",
              "      <td>Roll the dice and unleash the excitement!</td>\n",
              "      <td>3.236953</td>\n",
              "    </tr>\n",
              "    <tr>\n",
              "      <th>2</th>\n",
              "      <td>15602</td>\n",
              "      <td>Grumpier Old Men</td>\n",
              "      <td>A family wedding reignites the ancient feud be...</td>\n",
              "      <td>[{'id': 10749, 'name': 'Romance'}, {'id': 35, ...</td>\n",
              "      <td>[{'cast_id': 2, 'character': 'Max Goldman', 'c...</td>\n",
              "      <td>[{'credit_id': '52fe466a9251416c75077a89', 'de...</td>\n",
              "      <td>[{'id': 1495, 'name': 'fishing'}, {'id': 12392...</td>\n",
              "      <td>Still Yelling. Still Fighting. Still Ready for...</td>\n",
              "      <td>3.175550</td>\n",
              "    </tr>\n",
              "    <tr>\n",
              "      <th>3</th>\n",
              "      <td>31357</td>\n",
              "      <td>Waiting to Exhale</td>\n",
              "      <td>Cheated on, mistreated and stepped on, the wom...</td>\n",
              "      <td>[{'id': 35, 'name': 'Comedy'}, {'id': 18, 'nam...</td>\n",
              "      <td>[{'cast_id': 1, 'character': \"Savannah 'Vannah...</td>\n",
              "      <td>[{'credit_id': '52fe44779251416c91011acb', 'de...</td>\n",
              "      <td>[{'id': 818, 'name': 'based on novel'}, {'id':...</td>\n",
              "      <td>Friends are the people who let you be yourself...</td>\n",
              "      <td>2.875713</td>\n",
              "    </tr>\n",
              "    <tr>\n",
              "      <th>4</th>\n",
              "      <td>11862</td>\n",
              "      <td>Father of the Bride Part II</td>\n",
              "      <td>Just when George Banks has recovered from his ...</td>\n",
              "      <td>[{'id': 35, 'name': 'Comedy'}]</td>\n",
              "      <td>[{'cast_id': 1, 'character': 'George Banks', '...</td>\n",
              "      <td>[{'credit_id': '52fe44959251416c75039ed7', 'de...</td>\n",
              "      <td>[{'id': 1009, 'name': 'baby'}, {'id': 1599, 'n...</td>\n",
              "      <td>Just When His World Is Back To Normal... He's ...</td>\n",
              "      <td>3.079565</td>\n",
              "    </tr>\n",
              "    <tr>\n",
              "      <th>...</th>\n",
              "      <td>...</td>\n",
              "      <td>...</td>\n",
              "      <td>...</td>\n",
              "      <td>...</td>\n",
              "      <td>...</td>\n",
              "      <td>...</td>\n",
              "      <td>...</td>\n",
              "      <td>...</td>\n",
              "      <td>...</td>\n",
              "    </tr>\n",
              "    <tr>\n",
              "      <th>44514</th>\n",
              "      <td>439050</td>\n",
              "      <td>Subdue</td>\n",
              "      <td>Rising and falling between a man and woman.</td>\n",
              "      <td>[{'id': 18, 'name': 'Drama'}, {'id': 10751, 'n...</td>\n",
              "      <td>[{'cast_id': 0, 'character': '', 'credit_id': ...</td>\n",
              "      <td>[{'credit_id': '5894a97d925141426c00818c', 'de...</td>\n",
              "      <td>[{'id': 10703, 'name': 'tragic love'}]</td>\n",
              "      <td>Rising and falling between a man and woman</td>\n",
              "      <td>3.500000</td>\n",
              "    </tr>\n",
              "    <tr>\n",
              "      <th>44515</th>\n",
              "      <td>111109</td>\n",
              "      <td>Century of Birthing</td>\n",
              "      <td>An artist struggles to finish his work while a...</td>\n",
              "      <td>[{'id': 18, 'name': 'Drama'}]</td>\n",
              "      <td>[{'cast_id': 1002, 'character': 'Sister Angela...</td>\n",
              "      <td>[{'credit_id': '52fe4af1c3a36847f81e9b15', 'de...</td>\n",
              "      <td>[{'id': 2679, 'name': 'artist'}, {'id': 14531,...</td>\n",
              "      <td>NaN</td>\n",
              "      <td>5.000000</td>\n",
              "    </tr>\n",
              "    <tr>\n",
              "      <th>44516</th>\n",
              "      <td>67758</td>\n",
              "      <td>Betrayal</td>\n",
              "      <td>When one of her hits goes wrong, a professiona...</td>\n",
              "      <td>[{'id': 28, 'name': 'Action'}, {'id': 18, 'nam...</td>\n",
              "      <td>[{'cast_id': 6, 'character': 'Emily Shaw', 'cr...</td>\n",
              "      <td>[{'credit_id': '52fe4776c3a368484e0c8387', 'de...</td>\n",
              "      <td>[]</td>\n",
              "      <td>A deadly game of wits.</td>\n",
              "      <td>1.000000</td>\n",
              "    </tr>\n",
              "    <tr>\n",
              "      <th>44517</th>\n",
              "      <td>227506</td>\n",
              "      <td>Satan Triumphant</td>\n",
              "      <td>In a small town live two brothers, one a minis...</td>\n",
              "      <td>[]</td>\n",
              "      <td>[{'cast_id': 2, 'character': '', 'credit_id': ...</td>\n",
              "      <td>[{'credit_id': '533bccebc3a36844cf0011a7', 'de...</td>\n",
              "      <td>[]</td>\n",
              "      <td>NaN</td>\n",
              "      <td>3.000000</td>\n",
              "    </tr>\n",
              "    <tr>\n",
              "      <th>44518</th>\n",
              "      <td>461257</td>\n",
              "      <td>Queerama</td>\n",
              "      <td>50 years after decriminalisation of homosexual...</td>\n",
              "      <td>[]</td>\n",
              "      <td>[]</td>\n",
              "      <td>[{'credit_id': '593e676c92514105b702e68e', 'de...</td>\n",
              "      <td>[]</td>\n",
              "      <td>NaN</td>\n",
              "      <td>NaN</td>\n",
              "    </tr>\n",
              "  </tbody>\n",
              "</table>\n",
              "<p>44519 rows × 9 columns</p>\n",
              "</div>\n",
              "    <div class=\"colab-df-buttons\">\n",
              "\n",
              "  <div class=\"colab-df-container\">\n",
              "    <button class=\"colab-df-convert\" onclick=\"convertToInteractive('df-1b88ede6-2805-4094-8dcd-7bef05d4e997')\"\n",
              "            title=\"Convert this dataframe to an interactive table.\"\n",
              "            style=\"display:none;\">\n",
              "\n",
              "  <svg xmlns=\"http://www.w3.org/2000/svg\" height=\"24px\" viewBox=\"0 -960 960 960\">\n",
              "    <path d=\"M120-120v-720h720v720H120Zm60-500h600v-160H180v160Zm220 220h160v-160H400v160Zm0 220h160v-160H400v160ZM180-400h160v-160H180v160Zm440 0h160v-160H620v160ZM180-180h160v-160H180v160Zm440 0h160v-160H620v160Z\"/>\n",
              "  </svg>\n",
              "    </button>\n",
              "\n",
              "  <style>\n",
              "    .colab-df-container {\n",
              "      display:flex;\n",
              "      gap: 12px;\n",
              "    }\n",
              "\n",
              "    .colab-df-convert {\n",
              "      background-color: #E8F0FE;\n",
              "      border: none;\n",
              "      border-radius: 50%;\n",
              "      cursor: pointer;\n",
              "      display: none;\n",
              "      fill: #1967D2;\n",
              "      height: 32px;\n",
              "      padding: 0 0 0 0;\n",
              "      width: 32px;\n",
              "    }\n",
              "\n",
              "    .colab-df-convert:hover {\n",
              "      background-color: #E2EBFA;\n",
              "      box-shadow: 0px 1px 2px rgba(60, 64, 67, 0.3), 0px 1px 3px 1px rgba(60, 64, 67, 0.15);\n",
              "      fill: #174EA6;\n",
              "    }\n",
              "\n",
              "    .colab-df-buttons div {\n",
              "      margin-bottom: 4px;\n",
              "    }\n",
              "\n",
              "    [theme=dark] .colab-df-convert {\n",
              "      background-color: #3B4455;\n",
              "      fill: #D2E3FC;\n",
              "    }\n",
              "\n",
              "    [theme=dark] .colab-df-convert:hover {\n",
              "      background-color: #434B5C;\n",
              "      box-shadow: 0px 1px 3px 1px rgba(0, 0, 0, 0.15);\n",
              "      filter: drop-shadow(0px 1px 2px rgba(0, 0, 0, 0.3));\n",
              "      fill: #FFFFFF;\n",
              "    }\n",
              "  </style>\n",
              "\n",
              "    <script>\n",
              "      const buttonEl =\n",
              "        document.querySelector('#df-1b88ede6-2805-4094-8dcd-7bef05d4e997 button.colab-df-convert');\n",
              "      buttonEl.style.display =\n",
              "        google.colab.kernel.accessAllowed ? 'block' : 'none';\n",
              "\n",
              "      async function convertToInteractive(key) {\n",
              "        const element = document.querySelector('#df-1b88ede6-2805-4094-8dcd-7bef05d4e997');\n",
              "        const dataTable =\n",
              "          await google.colab.kernel.invokeFunction('convertToInteractive',\n",
              "                                                    [key], {});\n",
              "        if (!dataTable) return;\n",
              "\n",
              "        const docLinkHtml = 'Like what you see? Visit the ' +\n",
              "          '<a target=\"_blank\" href=https://colab.research.google.com/notebooks/data_table.ipynb>data table notebook</a>'\n",
              "          + ' to learn more about interactive tables.';\n",
              "        element.innerHTML = '';\n",
              "        dataTable['output_type'] = 'display_data';\n",
              "        await google.colab.output.renderOutput(dataTable, element);\n",
              "        const docLink = document.createElement('div');\n",
              "        docLink.innerHTML = docLinkHtml;\n",
              "        element.appendChild(docLink);\n",
              "      }\n",
              "    </script>\n",
              "  </div>\n",
              "\n",
              "\n",
              "    <div id=\"df-d1b815c5-5031-47d3-b542-8a73f0ef4a97\">\n",
              "      <button class=\"colab-df-quickchart\" onclick=\"quickchart('df-d1b815c5-5031-47d3-b542-8a73f0ef4a97')\"\n",
              "                title=\"Suggest charts\"\n",
              "                style=\"display:none;\">\n",
              "\n",
              "<svg xmlns=\"http://www.w3.org/2000/svg\" height=\"24px\"viewBox=\"0 0 24 24\"\n",
              "     width=\"24px\">\n",
              "    <g>\n",
              "        <path d=\"M19 3H5c-1.1 0-2 .9-2 2v14c0 1.1.9 2 2 2h14c1.1 0 2-.9 2-2V5c0-1.1-.9-2-2-2zM9 17H7v-7h2v7zm4 0h-2V7h2v10zm4 0h-2v-4h2v4z\"/>\n",
              "    </g>\n",
              "</svg>\n",
              "      </button>\n",
              "\n",
              "<style>\n",
              "  .colab-df-quickchart {\n",
              "      --bg-color: #E8F0FE;\n",
              "      --fill-color: #1967D2;\n",
              "      --hover-bg-color: #E2EBFA;\n",
              "      --hover-fill-color: #174EA6;\n",
              "      --disabled-fill-color: #AAA;\n",
              "      --disabled-bg-color: #DDD;\n",
              "  }\n",
              "\n",
              "  [theme=dark] .colab-df-quickchart {\n",
              "      --bg-color: #3B4455;\n",
              "      --fill-color: #D2E3FC;\n",
              "      --hover-bg-color: #434B5C;\n",
              "      --hover-fill-color: #FFFFFF;\n",
              "      --disabled-bg-color: #3B4455;\n",
              "      --disabled-fill-color: #666;\n",
              "  }\n",
              "\n",
              "  .colab-df-quickchart {\n",
              "    background-color: var(--bg-color);\n",
              "    border: none;\n",
              "    border-radius: 50%;\n",
              "    cursor: pointer;\n",
              "    display: none;\n",
              "    fill: var(--fill-color);\n",
              "    height: 32px;\n",
              "    padding: 0;\n",
              "    width: 32px;\n",
              "  }\n",
              "\n",
              "  .colab-df-quickchart:hover {\n",
              "    background-color: var(--hover-bg-color);\n",
              "    box-shadow: 0 1px 2px rgba(60, 64, 67, 0.3), 0 1px 3px 1px rgba(60, 64, 67, 0.15);\n",
              "    fill: var(--button-hover-fill-color);\n",
              "  }\n",
              "\n",
              "  .colab-df-quickchart-complete:disabled,\n",
              "  .colab-df-quickchart-complete:disabled:hover {\n",
              "    background-color: var(--disabled-bg-color);\n",
              "    fill: var(--disabled-fill-color);\n",
              "    box-shadow: none;\n",
              "  }\n",
              "\n",
              "  .colab-df-spinner {\n",
              "    border: 2px solid var(--fill-color);\n",
              "    border-color: transparent;\n",
              "    border-bottom-color: var(--fill-color);\n",
              "    animation:\n",
              "      spin 1s steps(1) infinite;\n",
              "  }\n",
              "\n",
              "  @keyframes spin {\n",
              "    0% {\n",
              "      border-color: transparent;\n",
              "      border-bottom-color: var(--fill-color);\n",
              "      border-left-color: var(--fill-color);\n",
              "    }\n",
              "    20% {\n",
              "      border-color: transparent;\n",
              "      border-left-color: var(--fill-color);\n",
              "      border-top-color: var(--fill-color);\n",
              "    }\n",
              "    30% {\n",
              "      border-color: transparent;\n",
              "      border-left-color: var(--fill-color);\n",
              "      border-top-color: var(--fill-color);\n",
              "      border-right-color: var(--fill-color);\n",
              "    }\n",
              "    40% {\n",
              "      border-color: transparent;\n",
              "      border-right-color: var(--fill-color);\n",
              "      border-top-color: var(--fill-color);\n",
              "    }\n",
              "    60% {\n",
              "      border-color: transparent;\n",
              "      border-right-color: var(--fill-color);\n",
              "    }\n",
              "    80% {\n",
              "      border-color: transparent;\n",
              "      border-right-color: var(--fill-color);\n",
              "      border-bottom-color: var(--fill-color);\n",
              "    }\n",
              "    90% {\n",
              "      border-color: transparent;\n",
              "      border-bottom-color: var(--fill-color);\n",
              "    }\n",
              "  }\n",
              "</style>\n",
              "\n",
              "      <script>\n",
              "        async function quickchart(key) {\n",
              "          const quickchartButtonEl =\n",
              "            document.querySelector('#' + key + ' button');\n",
              "          quickchartButtonEl.disabled = true;  // To prevent multiple clicks.\n",
              "          quickchartButtonEl.classList.add('colab-df-spinner');\n",
              "          try {\n",
              "            const charts = await google.colab.kernel.invokeFunction(\n",
              "                'suggestCharts', [key], {});\n",
              "          } catch (error) {\n",
              "            console.error('Error during call to suggestCharts:', error);\n",
              "          }\n",
              "          quickchartButtonEl.classList.remove('colab-df-spinner');\n",
              "          quickchartButtonEl.classList.add('colab-df-quickchart-complete');\n",
              "        }\n",
              "        (() => {\n",
              "          let quickchartButtonEl =\n",
              "            document.querySelector('#df-d1b815c5-5031-47d3-b542-8a73f0ef4a97 button');\n",
              "          quickchartButtonEl.style.display =\n",
              "            google.colab.kernel.accessAllowed ? 'block' : 'none';\n",
              "        })();\n",
              "      </script>\n",
              "    </div>\n",
              "\n",
              "  <div id=\"id_0005453a-8845-4f41-8710-d38a24b1c282\">\n",
              "    <style>\n",
              "      .colab-df-generate {\n",
              "        background-color: #E8F0FE;\n",
              "        border: none;\n",
              "        border-radius: 50%;\n",
              "        cursor: pointer;\n",
              "        display: none;\n",
              "        fill: #1967D2;\n",
              "        height: 32px;\n",
              "        padding: 0 0 0 0;\n",
              "        width: 32px;\n",
              "      }\n",
              "\n",
              "      .colab-df-generate:hover {\n",
              "        background-color: #E2EBFA;\n",
              "        box-shadow: 0px 1px 2px rgba(60, 64, 67, 0.3), 0px 1px 3px 1px rgba(60, 64, 67, 0.15);\n",
              "        fill: #174EA6;\n",
              "      }\n",
              "\n",
              "      [theme=dark] .colab-df-generate {\n",
              "        background-color: #3B4455;\n",
              "        fill: #D2E3FC;\n",
              "      }\n",
              "\n",
              "      [theme=dark] .colab-df-generate:hover {\n",
              "        background-color: #434B5C;\n",
              "        box-shadow: 0px 1px 3px 1px rgba(0, 0, 0, 0.15);\n",
              "        filter: drop-shadow(0px 1px 2px rgba(0, 0, 0, 0.3));\n",
              "        fill: #FFFFFF;\n",
              "      }\n",
              "    </style>\n",
              "    <button class=\"colab-df-generate\" onclick=\"generateWithVariable('final_dataset')\"\n",
              "            title=\"Generate code using this dataframe.\"\n",
              "            style=\"display:none;\">\n",
              "\n",
              "  <svg xmlns=\"http://www.w3.org/2000/svg\" height=\"24px\"viewBox=\"0 0 24 24\"\n",
              "       width=\"24px\">\n",
              "    <path d=\"M7,19H8.4L18.45,9,17,7.55,7,17.6ZM5,21V16.75L18.45,3.32a2,2,0,0,1,2.83,0l1.4,1.43a1.91,1.91,0,0,1,.58,1.4,1.91,1.91,0,0,1-.58,1.4L9.25,21ZM18.45,9,17,7.55Zm-12,3A5.31,5.31,0,0,0,4.9,8.1,5.31,5.31,0,0,0,1,6.5,5.31,5.31,0,0,0,4.9,4.9,5.31,5.31,0,0,0,6.5,1,5.31,5.31,0,0,0,8.1,4.9,5.31,5.31,0,0,0,12,6.5,5.46,5.46,0,0,0,6.5,12Z\"/>\n",
              "  </svg>\n",
              "    </button>\n",
              "    <script>\n",
              "      (() => {\n",
              "      const buttonEl =\n",
              "        document.querySelector('#id_0005453a-8845-4f41-8710-d38a24b1c282 button.colab-df-generate');\n",
              "      buttonEl.style.display =\n",
              "        google.colab.kernel.accessAllowed ? 'block' : 'none';\n",
              "\n",
              "      buttonEl.onclick = () => {\n",
              "        google.colab.notebook.generateWithVariable('final_dataset');\n",
              "      }\n",
              "      })();\n",
              "    </script>\n",
              "  </div>\n",
              "\n",
              "    </div>\n",
              "  </div>\n"
            ],
            "application/vnd.google.colaboratory.intrinsic+json": {
              "type": "dataframe",
              "variable_name": "final_dataset",
              "summary": "{\n  \"name\": \"final_dataset\",\n  \"rows\": 44519,\n  \"fields\": [\n    {\n      \"column\": \"id\",\n      \"properties\": {\n        \"dtype\": \"number\",\n        \"std\": 111825,\n        \"min\": 2,\n        \"max\": 469172,\n        \"num_unique_values\": 44476,\n        \"samples\": [\n          37352,\n          52841,\n          104378\n        ],\n        \"semantic_type\": \"\",\n        \"description\": \"\"\n      }\n    },\n    {\n      \"column\": \"title\",\n      \"properties\": {\n        \"dtype\": \"string\",\n        \"num_unique_values\": 41371,\n        \"samples\": [\n          \"The Time Being\",\n          \"Confidential Assignment\",\n          \"Solar Crisis\"\n        ],\n        \"semantic_type\": \"\",\n        \"description\": \"\"\n      }\n    },\n    {\n      \"column\": \"overview\",\n      \"properties\": {\n        \"dtype\": \"string\",\n        \"num_unique_values\": 44303,\n        \"samples\": [\n          \"A group of people stop by a mansion during a storm and discover two magical toy makers, and their haunted collection of dolls.\",\n          \"A close-up look at the turbulent world of women's professional wrestling as a New York City waitress decides to become a professional wrestler.\",\n          \"Inspector Joshi is a grieving father searching for his daughter Aruna, kidnapped years ago when she was six. In his despair, life converges with a recurring dream in which Joshi pursues a shadowy figure who leads him to 'Paradise', a night-club where teenage girls dance to a leering crowd. He is convinced he will find Aruna there and vows to bring her back to Leela, his broken wife.\"\n        ],\n        \"semantic_type\": \"\",\n        \"description\": \"\"\n      }\n    },\n    {\n      \"column\": \"genres\",\n      \"properties\": {\n        \"dtype\": \"category\",\n        \"num_unique_values\": 4045,\n        \"samples\": [\n          \"[{'id': 10769, 'name': 'Foreign'}, {'id': 10751, 'name': 'Family'}, {'id': 35, 'name': 'Comedy'}, {'id': 12, 'name': 'Adventure'}, {'id': 18, 'name': 'Drama'}]\",\n          \"[{'id': 16, 'name': 'Animation'}]\",\n          \"[{'id': 10770, 'name': 'TV Movie'}, {'id': 80, 'name': 'Crime'}, {'id': 9648, 'name': 'Mystery'}, {'id': 53, 'name': 'Thriller'}]\"\n        ],\n        \"semantic_type\": \"\",\n        \"description\": \"\"\n      }\n    },\n    {\n      \"column\": \"cast\",\n      \"properties\": {\n        \"dtype\": \"string\",\n        \"num_unique_values\": 42140,\n        \"samples\": [\n          \"[{'cast_id': 11, 'character': 'Farrel', 'credit_id': '58fb6d7d925141642f00e64c', 'gender': 0, 'id': 1801265, 'name': 'Juan Fern\\u00e1ndez', 'order': 1, 'profile_path': None}, {'cast_id': 12, 'character': 'Trujillo', 'credit_id': '58fb6d8bc3a3687a2a00d89b', 'gender': 0, 'id': 1801267, 'name': 'Nieves Cabrera', 'order': 2, 'profile_path': None}, {'cast_id': 13, 'character': 'Anal\\u00eda', 'credit_id': '58fb6d97c3a36879be00e593', 'gender': 0, 'id': 1801269, 'name': 'Giselle Irrazabal', 'order': 3, 'profile_path': None}]\",\n          \"[{'cast_id': 3, 'character': 'Adam Hitchens', 'credit_id': '563c9803c3a3681b52026a42', 'gender': 2, 'id': 119783, 'name': 'Joseph Mawle', 'order': 0, 'profile_path': '/bJVvO7h2OVoboF5H8sTjjnfM8Ov.jpg'}, {'cast_id': 4, 'character': 'Clare Hitchens', 'credit_id': '563c98129251414c70006876', 'gender': 0, 'id': 81682, 'name': 'Bojana Novakovi\\u0107', 'order': 1, 'profile_path': '/mcKcdFzjtG59YIE8fjKS9UxT7CE.jpg'}, {'cast_id': 5, 'character': 'Colm Donnelly', 'credit_id': '563c98209251413b1300872d', 'gender': 2, 'id': 73288, 'name': 'Michael McElhatton', 'order': 2, 'profile_path': '/yNwAo0LGS9fLd6Hathxt0wN6r9O.jpg'}, {'cast_id': 6, 'character': 'Doyle', 'credit_id': '563c982c9251413b13008731', 'gender': 0, 'id': 93209, 'name': 'Gary Lydon', 'order': 3, 'profile_path': '/ro0TbLExRY93xMFh6wyK8zAQsYH.jpg'}, {'cast_id': 2, 'character': 'Contractor Paul Williams', 'credit_id': '558a7f299251415fb60004bc', 'gender': 2, 'id': 18993, 'name': 'Stuart Graham', 'order': 4, 'profile_path': '/nbmECI9jthzBuXwpaCXVXveY0NZ.jpg'}, {'cast_id': 7, 'character': 'Sinuous Hallow', 'credit_id': '563c98499251417819003bac', 'gender': 0, 'id': 1532258, 'name': 'Conor Craig Stephens', 'order': 5, 'profile_path': None}, {'cast_id': 8, 'character': 'Small Hallow', 'credit_id': '563c98579251414cc9006779', 'gender': 0, 'id': 1532259, 'name': 'Joss Wyre', 'order': 6, 'profile_path': None}, {'cast_id': 1, 'character': 'Jules', 'credit_id': '558a7f0d9251410f400007e5', 'gender': 0, 'id': 1362814, 'name': 'Stephen Cromwell', 'order': 7, 'profile_path': '/tuER3rNS8k6iWqywyVr2ezcB12c.jpg'}, {'cast_id': 28, 'character': '', 'credit_id': '5682fd359251414f6300e890', 'gender': 2, 'id': 17078, 'name': 'Michael Smiley', 'order': 8, 'profile_path': '/muzJQpsKJ4srfVpyRa7qkrRYWSq.jpg'}]\",\n          \"[{'cast_id': 2, 'character': 'Charles Schine', 'credit_id': '52fe44d0c3a36847f80ab7ff', 'gender': 2, 'id': 2296, 'name': 'Clive Owen', 'order': 0, 'profile_path': '/jm2as6tLcvHCYQvmMYM4VK6JEnr.jpg'}, {'cast_id': 5, 'character': 'Lucinda Harris', 'credit_id': '52fe44d0c3a36847f80ab80b', 'gender': 1, 'id': 4491, 'name': 'Jennifer Aniston', 'order': 1, 'profile_path': '/4d4wvNyDuvN86DoneawbLOpr8gH.jpg'}, {'cast_id': 1, 'character': 'LaRoche', 'credit_id': '52fe44d0c3a36847f80ab7fb', 'gender': 2, 'id': 1925, 'name': 'Vincent Cassel', 'order': 2, 'profile_path': '/yTTyX7xziiMibm0nzcH5z6xxLLv.jpg'}, {'cast_id': 4, 'character': 'Deanna Schine', 'credit_id': '52fe44d0c3a36847f80ab807', 'gender': 1, 'id': 27755, 'name': 'Melissa George', 'order': 3, 'profile_path': '/6FwOUF7oxvMA7AEZ8uVQwAhQIpH.jpg'}, {'cast_id': 3, 'character': 'Amy Schine', 'credit_id': '52fe44d0c3a36847f80ab803', 'gender': 1, 'id': 56542, 'name': 'Addison Timlin', 'order': 4, 'profile_path': '/sPBq9HnhXejrFhgfNdlsFByAQny.jpg'}, {'cast_id': 14, 'character': 'Dexter', 'credit_id': '52fe44d0c3a36847f80ab82b', 'gender': 2, 'id': 336, 'name': 'Xzibit', 'order': 5, 'profile_path': '/t2sIYECHIrLIF8X8mcJeqzm4S2f.jpg'}, {'cast_id': 22, 'character': 'Winston Boyko', 'credit_id': '52fe44d0c3a36847f80ab853', 'gender': 2, 'id': 150, 'name': 'RZA', 'order': 6, 'profile_path': '/v5bwcyzUWVqjmczWu4PrdwnL6t6.jpg'}, {'cast_id': 6, 'character': 'Train Conductor', 'credit_id': '52fe44d0c3a36847f80ab80f', 'gender': 0, 'id': 56543, 'name': 'Sandra Bee', 'order': 7, 'profile_path': None}, {'cast_id': 36, 'character': 'Accountant', 'credit_id': '576cb8c5c3a36830890031fb', 'gender': 2, 'id': 29616, 'name': 'William Armstrong', 'order': 8, 'profile_path': '/tvDYVuankQhCze9O2PXs6raOXPf.jpg'}, {'cast_id': 24, 'character': 'Eliot Firth', 'credit_id': '52fe44d0c3a36847f80ab85b', 'gender': 0, 'id': 71010, 'name': 'Tom Conti', 'order': 9, 'profile_path': '/5C7s1rvzEId3A3JkhAChDr2FOC7.jpg'}, {'cast_id': 37, 'character': 'Susan Davis', 'credit_id': '576cb91e925141483d002d9f', 'gender': 1, 'id': 57830, 'name': 'Rachael Blake', 'order': 10, 'profile_path': '/gNsgRU6ykRG1255aQuVkVvgSa7q.jpg'}, {'cast_id': 25, 'character': 'Night Clerk Ray', 'credit_id': '52fe44d0c3a36847f80ab85f', 'gender': 2, 'id': 16792, 'name': 'Richard Leaf', 'order': 11, 'profile_path': '/8TLhzJ9VOjZPm9myvZaWMsuOW0j.jpg'}, {'cast_id': 38, 'character': 'Avery Price Receptionist', 'credit_id': '576cb964c3a3685c0e001988', 'gender': 1, 'id': 1212613, 'name': 'Catherine McCord', 'order': 12, 'profile_path': '/2WKWqcwR71FKTxxV1kJJoU1Wo8e.jpg'}, {'cast_id': 26, 'character': 'Jerry the Lawyer', 'credit_id': '52fe44d0c3a36847f80ab863', 'gender': 2, 'id': 81681, 'name': \\\"Denis O'Hare\\\", 'order': 13, 'profile_path': '/jU4YvyeUDZxirG1rHlPxonxkprR.jpg'}, {'cast_id': 39, 'character': 'Candy', 'credit_id': '576cb98892514169510015d1', 'gender': 1, 'id': 41547, 'name': 'Georgina Chapman', 'order': 14, 'profile_path': '/nSdhtkVAJ2N0YWWviLS42mMktwC.jpg'}, {'cast_id': 23, 'character': 'Detective Church', 'credit_id': '52fe44d0c3a36847f80ab857', 'gender': 2, 'id': 4808, 'name': 'Giancarlo Esposito', 'order': 15, 'profile_path': '/7oLo0CMGzBtWmePnTnGldnM4jQE.jpg'}, {'cast_id': 27, 'character': 'Sam Griffin', 'credit_id': '52fe44d0c3a36847f80ab867', 'gender': 2, 'id': 18616, 'name': 'David Morrissey', 'order': 16, 'profile_path': '/y8L9zlrIzsAwu2Hufol6KqoDS4I.jpg'}, {'cast_id': 44, 'character': 'Patrol Officer', 'credit_id': '57e23d879251412463002d2c', 'gender': 2, 'id': 35013, 'name': 'David Oyelowo', 'order': 17, 'profile_path': '/uhFLGQqNmhLgcqgITkoGoHy9FTl.jpg'}, {'cast_id': 45, 'character': 'Real Estate Agent', 'credit_id': '57e23d9dc3a3680a11002f41', 'gender': 0, 'id': 1189227, 'name': 'Jennifer Joan Taylor', 'order': 18, 'profile_path': None}]\"\n        ],\n        \"semantic_type\": \"\",\n        \"description\": \"\"\n      }\n    },\n    {\n      \"column\": \"crew\",\n      \"properties\": {\n        \"dtype\": \"string\",\n        \"num_unique_values\": 43783,\n        \"samples\": [\n          \"[{'credit_id': '52fe4ad7c3a368484e169f39', 'department': 'Production', 'gender': 0, 'id': 19112, 'job': 'Producer', 'name': 'Pascal Caucheteux', 'profile_path': None}, {'credit_id': '57221b52c3a3685fba000b19', 'department': 'Camera', 'gender': 2, 'id': 19113, 'job': 'Director of Photography', 'name': 'St\\u00e9phane Fontaine', 'profile_path': '/1754RMxLmK5JUwPTEkUHcEHDRq2.jpg'}, {'credit_id': '52fe4ad7c3a368484e169efb', 'department': 'Directing', 'gender': 2, 'id': 38883, 'job': 'Director', 'name': 'Arnaud Desplechin', 'profile_path': '/g9uXGLhm15lNpykDY2IS7XHA5iG.jpg'}, {'credit_id': '52fe4ad7c3a368484e169f3f', 'department': 'Production', 'gender': 2, 'id': 38883, 'job': 'Producer', 'name': 'Arnaud Desplechin', 'profile_path': '/g9uXGLhm15lNpykDY2IS7XHA5iG.jpg'}, {'credit_id': '52fe4ad7c3a368484e169f27', 'department': 'Writing', 'gender': 2, 'id': 38883, 'job': 'Adaptation', 'name': 'Arnaud Desplechin', 'profile_path': '/g9uXGLhm15lNpykDY2IS7XHA5iG.jpg'}, {'credit_id': '52fe4ad7c3a368484e169f21', 'department': 'Writing', 'gender': 0, 'id': 56587, 'job': 'Adaptation', 'name': 'Emmanuel Bourdieu', 'profile_path': None}, {'credit_id': '52fe4ad7c3a368484e169f2d', 'department': 'Writing', 'gender': 0, 'id': 69788, 'job': 'Adaptation', 'name': 'Nicolas Saada', 'profile_path': None}, {'credit_id': '52fe4ad8c3a368484e169f57', 'department': 'Editing', 'gender': 0, 'id': 81744, 'job': 'Editor', 'name': 'Laurence Briaud', 'profile_path': None}, {'credit_id': '52fe4ad8c3a368484e169f4b', 'department': 'Sound', 'gender': 2, 'id': 208637, 'job': 'Music', 'name': 'Paul Weller', 'profile_path': '/i7TiCddk5r0HV7jpvnZaEkKTVMn.jpg'}, {'credit_id': '52fe4ad8c3a368484e169f45', 'department': 'Sound', 'gender': 0, 'id': 565140, 'job': 'Music', 'name': 'Krishna Levy', 'profile_path': None}, {'credit_id': '52fe4ad7c3a368484e169f33', 'department': 'Production', 'gender': 0, 'id': 1275327, 'job': 'Producer', 'name': 'Ga\\u00eblle Bayssi\\u00e8re', 'profile_path': None}]\",\n          \"[{'credit_id': '52fe44e0c3a368484e03c02d', 'department': 'Camera', 'gender': 2, 'id': 2774, 'job': 'Director of Photography', 'name': 'Ernest Haller', 'profile_path': None}, {'credit_id': '52fe44e0c3a368484e03c033', 'department': 'Production', 'gender': 2, 'id': 4123, 'job': 'Executive Producer', 'name': 'Hal B. Wallis', 'profile_path': None}, {'credit_id': '52fe44e0c3a368484e03c039', 'department': 'Production', 'gender': 2, 'id': 14446, 'job': 'Producer', 'name': 'Henry Blanke', 'profile_path': None}, {'credit_id': '52fe44e0c3a368484e03c03f', 'department': 'Writing', 'gender': 2, 'id': 14875, 'job': 'Writer', 'name': 'Robert Rossen', 'profile_path': '/5hSUgiQlfzkyUbx1hluJanhwN8b.jpg'}, {'credit_id': '52fe44e0c3a368484e03c027', 'department': 'Sound', 'gender': 2, 'id': 30268, 'job': 'Original Music Composer', 'name': 'Heinz Roemheld', 'profile_path': None}, {'credit_id': '52fe44e0c3a368484e03c005', 'department': 'Directing', 'gender': 2, 'id': 37361, 'job': 'Director', 'name': 'Anatole Litvak', 'profile_path': '/dwFC6oB4TC7ACFAtfII1dGXJZql.jpg'}]\",\n          \"[{'credit_id': '52fe4bb79251416c7510bcbf', 'department': 'Directing', 'gender': 2, 'id': 100888, 'job': 'Director', 'name': 'Chuck Jones', 'profile_path': '/6JpwLPN4ugD5sw5Z0zjPQf6nhh8.jpg'}, {'credit_id': '52fe4bb79251416c7510bccd', 'department': 'Production', 'gender': 2, 'id': 149374, 'job': 'Producer', 'name': 'Leon Schlesinger', 'profile_path': '/bdOU5R4lI1KVUpylbPQqpEPs3VZ.jpg'}, {'credit_id': '52fe4bb79251416c7510bcd3', 'department': 'Sound', 'gender': 2, 'id': 551674, 'job': 'Music', 'name': 'Carl W. Stalling', 'profile_path': '/7w0TsnkpyHLIYsAyYFVbdIBj2RU.jpg'}]\"\n        ],\n        \"semantic_type\": \"\",\n        \"description\": \"\"\n      }\n    },\n    {\n      \"column\": \"keywords\",\n      \"properties\": {\n        \"dtype\": \"string\",\n        \"num_unique_values\": 25860,\n        \"samples\": [\n          \"[{'id': 417, 'name': 'corruption'}, {'id': 14536, 'name': 'crime'}]\",\n          \"[{'id': 2708, 'name': 'hitman'}, {'id': 2820, 'name': 'wound'}, {'id': 5828, 'name': 'yoga'}, {'id': 8636, 'name': 'blood splatter'}, {'id': 9826, 'name': 'murder'}, {'id': 9866, 'name': 'basement'}, {'id': 11221, 'name': 'blood'}]\",\n          \"[{'id': 1820, 'name': 'trip'}, {'id': 5657, 'name': 'australia'}, {'id': 6783, 'name': 'orphanage'}, {'id': 7665, 'name': \\\"girls' boarding school\\\"}, {'id': 9054, 'name': 'hanging rock'}, {'id': 9672, 'name': 'based on true story'}, {'id': 9937, 'name': 'suspense'}, {'id': 9950, 'name': 'thriller'}]\"\n        ],\n        \"semantic_type\": \"\",\n        \"description\": \"\"\n      }\n    },\n    {\n      \"column\": \"tagline\",\n      \"properties\": {\n        \"dtype\": \"category\",\n        \"num_unique_values\": 20275,\n        \"samples\": [\n          \"Chaos is coming to town.\",\n          \"Roaring soon\",\n          \"Get ready to experience the dark side of the moon!\"\n        ],\n        \"semantic_type\": \"\",\n        \"description\": \"\"\n      }\n    },\n    {\n      \"column\": \"user_avg_rating\",\n      \"properties\": {\n        \"dtype\": \"number\",\n        \"std\": 0.7247833965843178,\n        \"min\": 0.5,\n        \"max\": 5.0,\n        \"num_unique_values\": 12488,\n        \"samples\": [\n          3.6541501976284585,\n          3.074074074074074,\n          3.6202672605790647\n        ],\n        \"semantic_type\": \"\",\n        \"description\": \"\"\n      }\n    }\n  ]\n}"
            }
          },
          "metadata": {},
          "execution_count": 202
        }
      ]
    },
    {
      "cell_type": "code",
      "source": [
        "final_dataset.shape"
      ],
      "metadata": {
        "colab": {
          "base_uri": "https://localhost:8080/"
        },
        "id": "9I_lGBtTDUOq",
        "outputId": "06f713e6-a0f1-4752-dbe7-9f5c796bf785"
      },
      "execution_count": 203,
      "outputs": [
        {
          "output_type": "execute_result",
          "data": {
            "text/plain": [
              "(44519, 9)"
            ]
          },
          "metadata": {},
          "execution_count": 203
        }
      ]
    },
    {
      "cell_type": "code",
      "source": [
        "import ast\n",
        "\n",
        "# Generic function to extract names from a list of dicts\n",
        "def extract_names(obj_str):\n",
        "    try:\n",
        "        return [item['name'] for item in ast.literal_eval(obj_str)]\n",
        "    except:\n",
        "        return []"
      ],
      "metadata": {
        "id": "Fu1VzQGMisVe"
      },
      "execution_count": 204,
      "outputs": []
    },
    {
      "cell_type": "code",
      "source": [
        "# For director (from crew)\n",
        "def extract_director(crew_str):\n",
        "    try:\n",
        "        crew = ast.literal_eval(crew_str)\n",
        "        return [member['name'] for member in crew if member['job'] == 'Director']\n",
        "    except:\n",
        "        return []"
      ],
      "metadata": {
        "id": "uSYk_DHdiuK7"
      },
      "execution_count": 205,
      "outputs": []
    },
    {
      "cell_type": "code",
      "source": [
        "final_dataset['genres'] = final_dataset['genres'].apply(extract_names)\n",
        "final_dataset['genres']"
      ],
      "metadata": {
        "colab": {
          "base_uri": "https://localhost:8080/",
          "height": 458
        },
        "id": "rK1u7JSLiwBa",
        "outputId": "3bec1562-2199-4523-db7f-e68a1ed53ec8"
      },
      "execution_count": 206,
      "outputs": [
        {
          "output_type": "execute_result",
          "data": {
            "text/plain": [
              "0         [Animation, Comedy, Family]\n",
              "1        [Adventure, Fantasy, Family]\n",
              "2                   [Romance, Comedy]\n",
              "3            [Comedy, Drama, Romance]\n",
              "4                            [Comedy]\n",
              "                     ...             \n",
              "44514                 [Drama, Family]\n",
              "44515                         [Drama]\n",
              "44516       [Action, Drama, Thriller]\n",
              "44517                              []\n",
              "44518                              []\n",
              "Name: genres, Length: 44519, dtype: object"
            ],
            "text/html": [
              "<div>\n",
              "<style scoped>\n",
              "    .dataframe tbody tr th:only-of-type {\n",
              "        vertical-align: middle;\n",
              "    }\n",
              "\n",
              "    .dataframe tbody tr th {\n",
              "        vertical-align: top;\n",
              "    }\n",
              "\n",
              "    .dataframe thead th {\n",
              "        text-align: right;\n",
              "    }\n",
              "</style>\n",
              "<table border=\"1\" class=\"dataframe\">\n",
              "  <thead>\n",
              "    <tr style=\"text-align: right;\">\n",
              "      <th></th>\n",
              "      <th>genres</th>\n",
              "    </tr>\n",
              "  </thead>\n",
              "  <tbody>\n",
              "    <tr>\n",
              "      <th>0</th>\n",
              "      <td>[Animation, Comedy, Family]</td>\n",
              "    </tr>\n",
              "    <tr>\n",
              "      <th>1</th>\n",
              "      <td>[Adventure, Fantasy, Family]</td>\n",
              "    </tr>\n",
              "    <tr>\n",
              "      <th>2</th>\n",
              "      <td>[Romance, Comedy]</td>\n",
              "    </tr>\n",
              "    <tr>\n",
              "      <th>3</th>\n",
              "      <td>[Comedy, Drama, Romance]</td>\n",
              "    </tr>\n",
              "    <tr>\n",
              "      <th>4</th>\n",
              "      <td>[Comedy]</td>\n",
              "    </tr>\n",
              "    <tr>\n",
              "      <th>...</th>\n",
              "      <td>...</td>\n",
              "    </tr>\n",
              "    <tr>\n",
              "      <th>44514</th>\n",
              "      <td>[Drama, Family]</td>\n",
              "    </tr>\n",
              "    <tr>\n",
              "      <th>44515</th>\n",
              "      <td>[Drama]</td>\n",
              "    </tr>\n",
              "    <tr>\n",
              "      <th>44516</th>\n",
              "      <td>[Action, Drama, Thriller]</td>\n",
              "    </tr>\n",
              "    <tr>\n",
              "      <th>44517</th>\n",
              "      <td>[]</td>\n",
              "    </tr>\n",
              "    <tr>\n",
              "      <th>44518</th>\n",
              "      <td>[]</td>\n",
              "    </tr>\n",
              "  </tbody>\n",
              "</table>\n",
              "<p>44519 rows × 1 columns</p>\n",
              "</div><br><label><b>dtype:</b> object</label>"
            ]
          },
          "metadata": {},
          "execution_count": 206
        }
      ]
    },
    {
      "cell_type": "code",
      "source": [
        "final_dataset['cast'] = final_dataset['cast'].apply(lambda x: extract_names(x)[:5])\n",
        "final_dataset['cast']"
      ],
      "metadata": {
        "colab": {
          "base_uri": "https://localhost:8080/",
          "height": 458
        },
        "id": "qwozVVnaH214",
        "outputId": "2eee664a-bd62-4aba-e9c5-ecea49185db4"
      },
      "execution_count": 207,
      "outputs": [
        {
          "output_type": "execute_result",
          "data": {
            "text/plain": [
              "0        [Tom Hanks, Tim Allen, Don Rickles, Jim Varney...\n",
              "1        [Robin Williams, Jonathan Hyde, Kirsten Dunst,...\n",
              "2        [Walter Matthau, Jack Lemmon, Ann-Margret, Sop...\n",
              "3        [Whitney Houston, Angela Bassett, Loretta Devi...\n",
              "4        [Steve Martin, Diane Keaton, Martin Short, Kim...\n",
              "                               ...                        \n",
              "44514          [Leila Hatami, Kourosh Tahami, Elham Korda]\n",
              "44515    [Angel Aquino, Perry Dizon, Hazel Orencio, Joe...\n",
              "44516    [Erika Eleniak, Adam Baldwin, Julie du Page, J...\n",
              "44517    [Iwan Mosschuchin, Nathalie Lissenko, Pavel Pa...\n",
              "44518                                                   []\n",
              "Name: cast, Length: 44519, dtype: object"
            ],
            "text/html": [
              "<div>\n",
              "<style scoped>\n",
              "    .dataframe tbody tr th:only-of-type {\n",
              "        vertical-align: middle;\n",
              "    }\n",
              "\n",
              "    .dataframe tbody tr th {\n",
              "        vertical-align: top;\n",
              "    }\n",
              "\n",
              "    .dataframe thead th {\n",
              "        text-align: right;\n",
              "    }\n",
              "</style>\n",
              "<table border=\"1\" class=\"dataframe\">\n",
              "  <thead>\n",
              "    <tr style=\"text-align: right;\">\n",
              "      <th></th>\n",
              "      <th>cast</th>\n",
              "    </tr>\n",
              "  </thead>\n",
              "  <tbody>\n",
              "    <tr>\n",
              "      <th>0</th>\n",
              "      <td>[Tom Hanks, Tim Allen, Don Rickles, Jim Varney...</td>\n",
              "    </tr>\n",
              "    <tr>\n",
              "      <th>1</th>\n",
              "      <td>[Robin Williams, Jonathan Hyde, Kirsten Dunst,...</td>\n",
              "    </tr>\n",
              "    <tr>\n",
              "      <th>2</th>\n",
              "      <td>[Walter Matthau, Jack Lemmon, Ann-Margret, Sop...</td>\n",
              "    </tr>\n",
              "    <tr>\n",
              "      <th>3</th>\n",
              "      <td>[Whitney Houston, Angela Bassett, Loretta Devi...</td>\n",
              "    </tr>\n",
              "    <tr>\n",
              "      <th>4</th>\n",
              "      <td>[Steve Martin, Diane Keaton, Martin Short, Kim...</td>\n",
              "    </tr>\n",
              "    <tr>\n",
              "      <th>...</th>\n",
              "      <td>...</td>\n",
              "    </tr>\n",
              "    <tr>\n",
              "      <th>44514</th>\n",
              "      <td>[Leila Hatami, Kourosh Tahami, Elham Korda]</td>\n",
              "    </tr>\n",
              "    <tr>\n",
              "      <th>44515</th>\n",
              "      <td>[Angel Aquino, Perry Dizon, Hazel Orencio, Joe...</td>\n",
              "    </tr>\n",
              "    <tr>\n",
              "      <th>44516</th>\n",
              "      <td>[Erika Eleniak, Adam Baldwin, Julie du Page, J...</td>\n",
              "    </tr>\n",
              "    <tr>\n",
              "      <th>44517</th>\n",
              "      <td>[Iwan Mosschuchin, Nathalie Lissenko, Pavel Pa...</td>\n",
              "    </tr>\n",
              "    <tr>\n",
              "      <th>44518</th>\n",
              "      <td>[]</td>\n",
              "    </tr>\n",
              "  </tbody>\n",
              "</table>\n",
              "<p>44519 rows × 1 columns</p>\n",
              "</div><br><label><b>dtype:</b> object</label>"
            ]
          },
          "metadata": {},
          "execution_count": 207
        }
      ]
    },
    {
      "cell_type": "code",
      "source": [
        "final_dataset['crew'] = final_dataset['crew'].apply(extract_director)\n",
        "final_dataset['crew']"
      ],
      "metadata": {
        "colab": {
          "base_uri": "https://localhost:8080/",
          "height": 458
        },
        "id": "Sl_RaZUdITxf",
        "outputId": "60a8229d-a6e1-4ebd-b49b-7d47d4cdf2cf"
      },
      "execution_count": 208,
      "outputs": [
        {
          "output_type": "execute_result",
          "data": {
            "text/plain": [
              "0           [John Lasseter]\n",
              "1            [Joe Johnston]\n",
              "2           [Howard Deutch]\n",
              "3         [Forest Whitaker]\n",
              "4           [Charles Shyer]\n",
              "                ...        \n",
              "44514    [Hamid Nematollah]\n",
              "44515            [Lav Diaz]\n",
              "44516      [Mark L. Lester]\n",
              "44517    [Yakov Protazanov]\n",
              "44518       [Daisy Asquith]\n",
              "Name: crew, Length: 44519, dtype: object"
            ],
            "text/html": [
              "<div>\n",
              "<style scoped>\n",
              "    .dataframe tbody tr th:only-of-type {\n",
              "        vertical-align: middle;\n",
              "    }\n",
              "\n",
              "    .dataframe tbody tr th {\n",
              "        vertical-align: top;\n",
              "    }\n",
              "\n",
              "    .dataframe thead th {\n",
              "        text-align: right;\n",
              "    }\n",
              "</style>\n",
              "<table border=\"1\" class=\"dataframe\">\n",
              "  <thead>\n",
              "    <tr style=\"text-align: right;\">\n",
              "      <th></th>\n",
              "      <th>crew</th>\n",
              "    </tr>\n",
              "  </thead>\n",
              "  <tbody>\n",
              "    <tr>\n",
              "      <th>0</th>\n",
              "      <td>[John Lasseter]</td>\n",
              "    </tr>\n",
              "    <tr>\n",
              "      <th>1</th>\n",
              "      <td>[Joe Johnston]</td>\n",
              "    </tr>\n",
              "    <tr>\n",
              "      <th>2</th>\n",
              "      <td>[Howard Deutch]</td>\n",
              "    </tr>\n",
              "    <tr>\n",
              "      <th>3</th>\n",
              "      <td>[Forest Whitaker]</td>\n",
              "    </tr>\n",
              "    <tr>\n",
              "      <th>4</th>\n",
              "      <td>[Charles Shyer]</td>\n",
              "    </tr>\n",
              "    <tr>\n",
              "      <th>...</th>\n",
              "      <td>...</td>\n",
              "    </tr>\n",
              "    <tr>\n",
              "      <th>44514</th>\n",
              "      <td>[Hamid Nematollah]</td>\n",
              "    </tr>\n",
              "    <tr>\n",
              "      <th>44515</th>\n",
              "      <td>[Lav Diaz]</td>\n",
              "    </tr>\n",
              "    <tr>\n",
              "      <th>44516</th>\n",
              "      <td>[Mark L. Lester]</td>\n",
              "    </tr>\n",
              "    <tr>\n",
              "      <th>44517</th>\n",
              "      <td>[Yakov Protazanov]</td>\n",
              "    </tr>\n",
              "    <tr>\n",
              "      <th>44518</th>\n",
              "      <td>[Daisy Asquith]</td>\n",
              "    </tr>\n",
              "  </tbody>\n",
              "</table>\n",
              "<p>44519 rows × 1 columns</p>\n",
              "</div><br><label><b>dtype:</b> object</label>"
            ]
          },
          "metadata": {},
          "execution_count": 208
        }
      ]
    },
    {
      "cell_type": "code",
      "source": [
        "final_dataset['keywords'] = final_dataset['keywords'].apply(extract_names)\n",
        "final_dataset['keywords']"
      ],
      "metadata": {
        "colab": {
          "base_uri": "https://localhost:8080/",
          "height": 458
        },
        "id": "NpYBqZoeIY29",
        "outputId": "881f761c-aa58-4474-9d82-38b6a2223be3"
      },
      "execution_count": 209,
      "outputs": [
        {
          "output_type": "execute_result",
          "data": {
            "text/plain": [
              "0        [jealousy, toy, boy, friendship, friends, riva...\n",
              "1        [board game, disappearance, based on children'...\n",
              "2        [fishing, best friend, duringcreditsstinger, o...\n",
              "3        [based on novel, interracial relationship, sin...\n",
              "4        [baby, midlife crisis, confidence, aging, daug...\n",
              "                               ...                        \n",
              "44514                                        [tragic love]\n",
              "44515                                [artist, play, pinoy]\n",
              "44516                                                   []\n",
              "44517                                                   []\n",
              "44518                                                   []\n",
              "Name: keywords, Length: 44519, dtype: object"
            ],
            "text/html": [
              "<div>\n",
              "<style scoped>\n",
              "    .dataframe tbody tr th:only-of-type {\n",
              "        vertical-align: middle;\n",
              "    }\n",
              "\n",
              "    .dataframe tbody tr th {\n",
              "        vertical-align: top;\n",
              "    }\n",
              "\n",
              "    .dataframe thead th {\n",
              "        text-align: right;\n",
              "    }\n",
              "</style>\n",
              "<table border=\"1\" class=\"dataframe\">\n",
              "  <thead>\n",
              "    <tr style=\"text-align: right;\">\n",
              "      <th></th>\n",
              "      <th>keywords</th>\n",
              "    </tr>\n",
              "  </thead>\n",
              "  <tbody>\n",
              "    <tr>\n",
              "      <th>0</th>\n",
              "      <td>[jealousy, toy, boy, friendship, friends, riva...</td>\n",
              "    </tr>\n",
              "    <tr>\n",
              "      <th>1</th>\n",
              "      <td>[board game, disappearance, based on children'...</td>\n",
              "    </tr>\n",
              "    <tr>\n",
              "      <th>2</th>\n",
              "      <td>[fishing, best friend, duringcreditsstinger, o...</td>\n",
              "    </tr>\n",
              "    <tr>\n",
              "      <th>3</th>\n",
              "      <td>[based on novel, interracial relationship, sin...</td>\n",
              "    </tr>\n",
              "    <tr>\n",
              "      <th>4</th>\n",
              "      <td>[baby, midlife crisis, confidence, aging, daug...</td>\n",
              "    </tr>\n",
              "    <tr>\n",
              "      <th>...</th>\n",
              "      <td>...</td>\n",
              "    </tr>\n",
              "    <tr>\n",
              "      <th>44514</th>\n",
              "      <td>[tragic love]</td>\n",
              "    </tr>\n",
              "    <tr>\n",
              "      <th>44515</th>\n",
              "      <td>[artist, play, pinoy]</td>\n",
              "    </tr>\n",
              "    <tr>\n",
              "      <th>44516</th>\n",
              "      <td>[]</td>\n",
              "    </tr>\n",
              "    <tr>\n",
              "      <th>44517</th>\n",
              "      <td>[]</td>\n",
              "    </tr>\n",
              "    <tr>\n",
              "      <th>44518</th>\n",
              "      <td>[]</td>\n",
              "    </tr>\n",
              "  </tbody>\n",
              "</table>\n",
              "<p>44519 rows × 1 columns</p>\n",
              "</div><br><label><b>dtype:</b> object</label>"
            ]
          },
          "metadata": {},
          "execution_count": 209
        }
      ]
    },
    {
      "cell_type": "code",
      "source": [
        "print(final_dataset[['title', 'genres', 'cast', 'crew', 'keywords']].head())"
      ],
      "metadata": {
        "colab": {
          "base_uri": "https://localhost:8080/"
        },
        "id": "iP-dPvA-i0B6",
        "outputId": "c80c73f2-02df-4730-d9f3-f4ee59b35aca"
      },
      "execution_count": 210,
      "outputs": [
        {
          "output_type": "stream",
          "name": "stdout",
          "text": [
            "                         title                        genres  \\\n",
            "0                    Toy Story   [Animation, Comedy, Family]   \n",
            "1                      Jumanji  [Adventure, Fantasy, Family]   \n",
            "2             Grumpier Old Men             [Romance, Comedy]   \n",
            "3            Waiting to Exhale      [Comedy, Drama, Romance]   \n",
            "4  Father of the Bride Part II                      [Comedy]   \n",
            "\n",
            "                                                cast               crew  \\\n",
            "0  [Tom Hanks, Tim Allen, Don Rickles, Jim Varney...    [John Lasseter]   \n",
            "1  [Robin Williams, Jonathan Hyde, Kirsten Dunst,...     [Joe Johnston]   \n",
            "2  [Walter Matthau, Jack Lemmon, Ann-Margret, Sop...    [Howard Deutch]   \n",
            "3  [Whitney Houston, Angela Bassett, Loretta Devi...  [Forest Whitaker]   \n",
            "4  [Steve Martin, Diane Keaton, Martin Short, Kim...    [Charles Shyer]   \n",
            "\n",
            "                                            keywords  \n",
            "0  [jealousy, toy, boy, friendship, friends, riva...  \n",
            "1  [board game, disappearance, based on children'...  \n",
            "2  [fishing, best friend, duringcreditsstinger, o...  \n",
            "3  [based on novel, interracial relationship, sin...  \n",
            "4  [baby, midlife crisis, confidence, aging, daug...  \n"
          ]
        }
      ]
    },
    {
      "cell_type": "code",
      "source": [
        "def create_movie_profile(row):\n",
        "    return ' '.join(row['genres']) + ' ' + ' '.join(row['keywords']) + ' ' + ' '.join(row['cast']) + ' ' + ' '.join(row['crew'])"
      ],
      "metadata": {
        "id": "3RUNySVci2po"
      },
      "execution_count": 211,
      "outputs": []
    },
    {
      "cell_type": "code",
      "source": [
        "final_dataset['movie_profile'] = final_dataset.apply(create_movie_profile, axis=1)"
      ],
      "metadata": {
        "id": "B1sxBG-vi3E1"
      },
      "execution_count": 212,
      "outputs": []
    },
    {
      "cell_type": "code",
      "source": [
        "final_dataset[['title', 'movie_profile']]"
      ],
      "metadata": {
        "colab": {
          "base_uri": "https://localhost:8080/",
          "height": 423
        },
        "id": "NZZQ586hi4lp",
        "outputId": "c7fcb3b7-d129-4fd6-edcf-e70c7740417b"
      },
      "execution_count": 217,
      "outputs": [
        {
          "output_type": "execute_result",
          "data": {
            "text/plain": [
              "                             title  \\\n",
              "0                        Toy Story   \n",
              "1                          Jumanji   \n",
              "2                 Grumpier Old Men   \n",
              "3                Waiting to Exhale   \n",
              "4      Father of the Bride Part II   \n",
              "...                            ...   \n",
              "44514                       Subdue   \n",
              "44515          Century of Birthing   \n",
              "44516                     Betrayal   \n",
              "44517             Satan Triumphant   \n",
              "44518                     Queerama   \n",
              "\n",
              "                                           movie_profile  \n",
              "0      Animation Comedy Family jealousy toy boy frien...  \n",
              "1      Adventure Fantasy Family board game disappeara...  \n",
              "2      Romance Comedy fishing best friend duringcredi...  \n",
              "3      Comedy Drama Romance based on novel interracia...  \n",
              "4      Comedy baby midlife crisis confidence aging da...  \n",
              "...                                                  ...  \n",
              "44514  Drama Family tragic love Leila Hatami Kourosh ...  \n",
              "44515  Drama artist play pinoy Angel Aquino Perry Diz...  \n",
              "44516  Action Drama Thriller  Erika Eleniak Adam Bald...  \n",
              "44517    Iwan Mosschuchin Nathalie Lissenko Pavel Pav...  \n",
              "44518                                      Daisy Asquith  \n",
              "\n",
              "[44519 rows x 2 columns]"
            ],
            "text/html": [
              "\n",
              "  <div id=\"df-d7576022-a095-4429-a74b-d67faa397789\" class=\"colab-df-container\">\n",
              "    <div>\n",
              "<style scoped>\n",
              "    .dataframe tbody tr th:only-of-type {\n",
              "        vertical-align: middle;\n",
              "    }\n",
              "\n",
              "    .dataframe tbody tr th {\n",
              "        vertical-align: top;\n",
              "    }\n",
              "\n",
              "    .dataframe thead th {\n",
              "        text-align: right;\n",
              "    }\n",
              "</style>\n",
              "<table border=\"1\" class=\"dataframe\">\n",
              "  <thead>\n",
              "    <tr style=\"text-align: right;\">\n",
              "      <th></th>\n",
              "      <th>title</th>\n",
              "      <th>movie_profile</th>\n",
              "    </tr>\n",
              "  </thead>\n",
              "  <tbody>\n",
              "    <tr>\n",
              "      <th>0</th>\n",
              "      <td>Toy Story</td>\n",
              "      <td>Animation Comedy Family jealousy toy boy frien...</td>\n",
              "    </tr>\n",
              "    <tr>\n",
              "      <th>1</th>\n",
              "      <td>Jumanji</td>\n",
              "      <td>Adventure Fantasy Family board game disappeara...</td>\n",
              "    </tr>\n",
              "    <tr>\n",
              "      <th>2</th>\n",
              "      <td>Grumpier Old Men</td>\n",
              "      <td>Romance Comedy fishing best friend duringcredi...</td>\n",
              "    </tr>\n",
              "    <tr>\n",
              "      <th>3</th>\n",
              "      <td>Waiting to Exhale</td>\n",
              "      <td>Comedy Drama Romance based on novel interracia...</td>\n",
              "    </tr>\n",
              "    <tr>\n",
              "      <th>4</th>\n",
              "      <td>Father of the Bride Part II</td>\n",
              "      <td>Comedy baby midlife crisis confidence aging da...</td>\n",
              "    </tr>\n",
              "    <tr>\n",
              "      <th>...</th>\n",
              "      <td>...</td>\n",
              "      <td>...</td>\n",
              "    </tr>\n",
              "    <tr>\n",
              "      <th>44514</th>\n",
              "      <td>Subdue</td>\n",
              "      <td>Drama Family tragic love Leila Hatami Kourosh ...</td>\n",
              "    </tr>\n",
              "    <tr>\n",
              "      <th>44515</th>\n",
              "      <td>Century of Birthing</td>\n",
              "      <td>Drama artist play pinoy Angel Aquino Perry Diz...</td>\n",
              "    </tr>\n",
              "    <tr>\n",
              "      <th>44516</th>\n",
              "      <td>Betrayal</td>\n",
              "      <td>Action Drama Thriller  Erika Eleniak Adam Bald...</td>\n",
              "    </tr>\n",
              "    <tr>\n",
              "      <th>44517</th>\n",
              "      <td>Satan Triumphant</td>\n",
              "      <td>Iwan Mosschuchin Nathalie Lissenko Pavel Pav...</td>\n",
              "    </tr>\n",
              "    <tr>\n",
              "      <th>44518</th>\n",
              "      <td>Queerama</td>\n",
              "      <td>Daisy Asquith</td>\n",
              "    </tr>\n",
              "  </tbody>\n",
              "</table>\n",
              "<p>44519 rows × 2 columns</p>\n",
              "</div>\n",
              "    <div class=\"colab-df-buttons\">\n",
              "\n",
              "  <div class=\"colab-df-container\">\n",
              "    <button class=\"colab-df-convert\" onclick=\"convertToInteractive('df-d7576022-a095-4429-a74b-d67faa397789')\"\n",
              "            title=\"Convert this dataframe to an interactive table.\"\n",
              "            style=\"display:none;\">\n",
              "\n",
              "  <svg xmlns=\"http://www.w3.org/2000/svg\" height=\"24px\" viewBox=\"0 -960 960 960\">\n",
              "    <path d=\"M120-120v-720h720v720H120Zm60-500h600v-160H180v160Zm220 220h160v-160H400v160Zm0 220h160v-160H400v160ZM180-400h160v-160H180v160Zm440 0h160v-160H620v160ZM180-180h160v-160H180v160Zm440 0h160v-160H620v160Z\"/>\n",
              "  </svg>\n",
              "    </button>\n",
              "\n",
              "  <style>\n",
              "    .colab-df-container {\n",
              "      display:flex;\n",
              "      gap: 12px;\n",
              "    }\n",
              "\n",
              "    .colab-df-convert {\n",
              "      background-color: #E8F0FE;\n",
              "      border: none;\n",
              "      border-radius: 50%;\n",
              "      cursor: pointer;\n",
              "      display: none;\n",
              "      fill: #1967D2;\n",
              "      height: 32px;\n",
              "      padding: 0 0 0 0;\n",
              "      width: 32px;\n",
              "    }\n",
              "\n",
              "    .colab-df-convert:hover {\n",
              "      background-color: #E2EBFA;\n",
              "      box-shadow: 0px 1px 2px rgba(60, 64, 67, 0.3), 0px 1px 3px 1px rgba(60, 64, 67, 0.15);\n",
              "      fill: #174EA6;\n",
              "    }\n",
              "\n",
              "    .colab-df-buttons div {\n",
              "      margin-bottom: 4px;\n",
              "    }\n",
              "\n",
              "    [theme=dark] .colab-df-convert {\n",
              "      background-color: #3B4455;\n",
              "      fill: #D2E3FC;\n",
              "    }\n",
              "\n",
              "    [theme=dark] .colab-df-convert:hover {\n",
              "      background-color: #434B5C;\n",
              "      box-shadow: 0px 1px 3px 1px rgba(0, 0, 0, 0.15);\n",
              "      filter: drop-shadow(0px 1px 2px rgba(0, 0, 0, 0.3));\n",
              "      fill: #FFFFFF;\n",
              "    }\n",
              "  </style>\n",
              "\n",
              "    <script>\n",
              "      const buttonEl =\n",
              "        document.querySelector('#df-d7576022-a095-4429-a74b-d67faa397789 button.colab-df-convert');\n",
              "      buttonEl.style.display =\n",
              "        google.colab.kernel.accessAllowed ? 'block' : 'none';\n",
              "\n",
              "      async function convertToInteractive(key) {\n",
              "        const element = document.querySelector('#df-d7576022-a095-4429-a74b-d67faa397789');\n",
              "        const dataTable =\n",
              "          await google.colab.kernel.invokeFunction('convertToInteractive',\n",
              "                                                    [key], {});\n",
              "        if (!dataTable) return;\n",
              "\n",
              "        const docLinkHtml = 'Like what you see? Visit the ' +\n",
              "          '<a target=\"_blank\" href=https://colab.research.google.com/notebooks/data_table.ipynb>data table notebook</a>'\n",
              "          + ' to learn more about interactive tables.';\n",
              "        element.innerHTML = '';\n",
              "        dataTable['output_type'] = 'display_data';\n",
              "        await google.colab.output.renderOutput(dataTable, element);\n",
              "        const docLink = document.createElement('div');\n",
              "        docLink.innerHTML = docLinkHtml;\n",
              "        element.appendChild(docLink);\n",
              "      }\n",
              "    </script>\n",
              "  </div>\n",
              "\n",
              "\n",
              "    <div id=\"df-e2752438-432d-4685-8bad-81630e5b0493\">\n",
              "      <button class=\"colab-df-quickchart\" onclick=\"quickchart('df-e2752438-432d-4685-8bad-81630e5b0493')\"\n",
              "                title=\"Suggest charts\"\n",
              "                style=\"display:none;\">\n",
              "\n",
              "<svg xmlns=\"http://www.w3.org/2000/svg\" height=\"24px\"viewBox=\"0 0 24 24\"\n",
              "     width=\"24px\">\n",
              "    <g>\n",
              "        <path d=\"M19 3H5c-1.1 0-2 .9-2 2v14c0 1.1.9 2 2 2h14c1.1 0 2-.9 2-2V5c0-1.1-.9-2-2-2zM9 17H7v-7h2v7zm4 0h-2V7h2v10zm4 0h-2v-4h2v4z\"/>\n",
              "    </g>\n",
              "</svg>\n",
              "      </button>\n",
              "\n",
              "<style>\n",
              "  .colab-df-quickchart {\n",
              "      --bg-color: #E8F0FE;\n",
              "      --fill-color: #1967D2;\n",
              "      --hover-bg-color: #E2EBFA;\n",
              "      --hover-fill-color: #174EA6;\n",
              "      --disabled-fill-color: #AAA;\n",
              "      --disabled-bg-color: #DDD;\n",
              "  }\n",
              "\n",
              "  [theme=dark] .colab-df-quickchart {\n",
              "      --bg-color: #3B4455;\n",
              "      --fill-color: #D2E3FC;\n",
              "      --hover-bg-color: #434B5C;\n",
              "      --hover-fill-color: #FFFFFF;\n",
              "      --disabled-bg-color: #3B4455;\n",
              "      --disabled-fill-color: #666;\n",
              "  }\n",
              "\n",
              "  .colab-df-quickchart {\n",
              "    background-color: var(--bg-color);\n",
              "    border: none;\n",
              "    border-radius: 50%;\n",
              "    cursor: pointer;\n",
              "    display: none;\n",
              "    fill: var(--fill-color);\n",
              "    height: 32px;\n",
              "    padding: 0;\n",
              "    width: 32px;\n",
              "  }\n",
              "\n",
              "  .colab-df-quickchart:hover {\n",
              "    background-color: var(--hover-bg-color);\n",
              "    box-shadow: 0 1px 2px rgba(60, 64, 67, 0.3), 0 1px 3px 1px rgba(60, 64, 67, 0.15);\n",
              "    fill: var(--button-hover-fill-color);\n",
              "  }\n",
              "\n",
              "  .colab-df-quickchart-complete:disabled,\n",
              "  .colab-df-quickchart-complete:disabled:hover {\n",
              "    background-color: var(--disabled-bg-color);\n",
              "    fill: var(--disabled-fill-color);\n",
              "    box-shadow: none;\n",
              "  }\n",
              "\n",
              "  .colab-df-spinner {\n",
              "    border: 2px solid var(--fill-color);\n",
              "    border-color: transparent;\n",
              "    border-bottom-color: var(--fill-color);\n",
              "    animation:\n",
              "      spin 1s steps(1) infinite;\n",
              "  }\n",
              "\n",
              "  @keyframes spin {\n",
              "    0% {\n",
              "      border-color: transparent;\n",
              "      border-bottom-color: var(--fill-color);\n",
              "      border-left-color: var(--fill-color);\n",
              "    }\n",
              "    20% {\n",
              "      border-color: transparent;\n",
              "      border-left-color: var(--fill-color);\n",
              "      border-top-color: var(--fill-color);\n",
              "    }\n",
              "    30% {\n",
              "      border-color: transparent;\n",
              "      border-left-color: var(--fill-color);\n",
              "      border-top-color: var(--fill-color);\n",
              "      border-right-color: var(--fill-color);\n",
              "    }\n",
              "    40% {\n",
              "      border-color: transparent;\n",
              "      border-right-color: var(--fill-color);\n",
              "      border-top-color: var(--fill-color);\n",
              "    }\n",
              "    60% {\n",
              "      border-color: transparent;\n",
              "      border-right-color: var(--fill-color);\n",
              "    }\n",
              "    80% {\n",
              "      border-color: transparent;\n",
              "      border-right-color: var(--fill-color);\n",
              "      border-bottom-color: var(--fill-color);\n",
              "    }\n",
              "    90% {\n",
              "      border-color: transparent;\n",
              "      border-bottom-color: var(--fill-color);\n",
              "    }\n",
              "  }\n",
              "</style>\n",
              "\n",
              "      <script>\n",
              "        async function quickchart(key) {\n",
              "          const quickchartButtonEl =\n",
              "            document.querySelector('#' + key + ' button');\n",
              "          quickchartButtonEl.disabled = true;  // To prevent multiple clicks.\n",
              "          quickchartButtonEl.classList.add('colab-df-spinner');\n",
              "          try {\n",
              "            const charts = await google.colab.kernel.invokeFunction(\n",
              "                'suggestCharts', [key], {});\n",
              "          } catch (error) {\n",
              "            console.error('Error during call to suggestCharts:', error);\n",
              "          }\n",
              "          quickchartButtonEl.classList.remove('colab-df-spinner');\n",
              "          quickchartButtonEl.classList.add('colab-df-quickchart-complete');\n",
              "        }\n",
              "        (() => {\n",
              "          let quickchartButtonEl =\n",
              "            document.querySelector('#df-e2752438-432d-4685-8bad-81630e5b0493 button');\n",
              "          quickchartButtonEl.style.display =\n",
              "            google.colab.kernel.accessAllowed ? 'block' : 'none';\n",
              "        })();\n",
              "      </script>\n",
              "    </div>\n",
              "\n",
              "    </div>\n",
              "  </div>\n"
            ],
            "application/vnd.google.colaboratory.intrinsic+json": {
              "type": "dataframe",
              "summary": "{\n  \"name\": \"final_dataset[['title', 'movie_profile']]\",\n  \"rows\": 44519,\n  \"fields\": [\n    {\n      \"column\": \"title\",\n      \"properties\": {\n        \"dtype\": \"string\",\n        \"num_unique_values\": 41371,\n        \"samples\": [\n          \"The Time Being\",\n          \"Confidential Assignment\",\n          \"Solar Crisis\"\n        ],\n        \"semantic_type\": \"\",\n        \"description\": \"\"\n      }\n    },\n    {\n      \"column\": \"movie_profile\",\n      \"properties\": {\n        \"dtype\": \"string\",\n        \"num_unique_values\": 44013,\n        \"samples\": [\n          \"Drama Thriller War helicopter sniper iraq murder soldier iraq war trapped desert Aaron Taylor-Johnson John Cena Laith Nakli Doug Liman\",\n          \"Drama History   Shahriar Bahrani\",\n          \"Action Science Fiction  C. Thomas Howell Roddy Piper David Carradine Peter Hayman\"\n        ],\n        \"semantic_type\": \"\",\n        \"description\": \"\"\n      }\n    }\n  ]\n}"
            }
          },
          "metadata": {},
          "execution_count": 217
        }
      ]
    },
    {
      "cell_type": "code",
      "source": [
        "subset = final_dataset.sample(15000, random_state=42).reset_index(drop=True)"
      ],
      "metadata": {
        "id": "jLPjt8zoi6Fs"
      },
      "execution_count": 214,
      "outputs": []
    },
    {
      "cell_type": "code",
      "source": [
        "# Repeat movie_profile generation for the subset\n",
        "subset['movie_profile'] = subset.apply(lambda row: ' '.join(row['genres']) + ' ' +\n",
        "                                            ' '.join(row['keywords']) + ' ' +\n",
        "                                            ' '.join(row['cast']) + ' ' +\n",
        "                                            ' '.join(row['crew']), axis=1)\n",
        "\n",
        "subset['movie_profile']"
      ],
      "metadata": {
        "id": "fBqc5Dcpi7sU",
        "colab": {
          "base_uri": "https://localhost:8080/",
          "height": 458
        },
        "outputId": "96324e17-5663-48e0-e683-8696fc19ae38"
      },
      "execution_count": 215,
      "outputs": [
        {
          "output_type": "execute_result",
          "data": {
            "text/plain": [
              "0        Drama brother brother relationship based on no...\n",
              "1          Sean Penn Woody Harrelson Nick Nolte Sam She...\n",
              "2        Comedy peasant man looking for wife romania wo...\n",
              "3        Comedy Romance  Charles Boyer Leslie Caron Roc...\n",
              "4        Comedy Drama taxi prostitute transsexuality se...\n",
              "                               ...                        \n",
              "14995    Horror  Bill Oberst Jr. Corbin Bleu Shawn-Caul...\n",
              "14996    Comedy Drama gay becoming an adult education e...\n",
              "14997    Horror  Christian Ferry Jason Lockhart Dylan V...\n",
              "14998    Drama  Michael Gothard Gabriella Licudi Peter ...\n",
              "14999    Drama skab under tv bagved Øverste hylde Meryl...\n",
              "Name: movie_profile, Length: 15000, dtype: object"
            ],
            "text/html": [
              "<div>\n",
              "<style scoped>\n",
              "    .dataframe tbody tr th:only-of-type {\n",
              "        vertical-align: middle;\n",
              "    }\n",
              "\n",
              "    .dataframe tbody tr th {\n",
              "        vertical-align: top;\n",
              "    }\n",
              "\n",
              "    .dataframe thead th {\n",
              "        text-align: right;\n",
              "    }\n",
              "</style>\n",
              "<table border=\"1\" class=\"dataframe\">\n",
              "  <thead>\n",
              "    <tr style=\"text-align: right;\">\n",
              "      <th></th>\n",
              "      <th>movie_profile</th>\n",
              "    </tr>\n",
              "  </thead>\n",
              "  <tbody>\n",
              "    <tr>\n",
              "      <th>0</th>\n",
              "      <td>Drama brother brother relationship based on no...</td>\n",
              "    </tr>\n",
              "    <tr>\n",
              "      <th>1</th>\n",
              "      <td>Sean Penn Woody Harrelson Nick Nolte Sam She...</td>\n",
              "    </tr>\n",
              "    <tr>\n",
              "      <th>2</th>\n",
              "      <td>Comedy peasant man looking for wife romania wo...</td>\n",
              "    </tr>\n",
              "    <tr>\n",
              "      <th>3</th>\n",
              "      <td>Comedy Romance  Charles Boyer Leslie Caron Roc...</td>\n",
              "    </tr>\n",
              "    <tr>\n",
              "      <th>4</th>\n",
              "      <td>Comedy Drama taxi prostitute transsexuality se...</td>\n",
              "    </tr>\n",
              "    <tr>\n",
              "      <th>...</th>\n",
              "      <td>...</td>\n",
              "    </tr>\n",
              "    <tr>\n",
              "      <th>14995</th>\n",
              "      <td>Horror  Bill Oberst Jr. Corbin Bleu Shawn-Caul...</td>\n",
              "    </tr>\n",
              "    <tr>\n",
              "      <th>14996</th>\n",
              "      <td>Comedy Drama gay becoming an adult education e...</td>\n",
              "    </tr>\n",
              "    <tr>\n",
              "      <th>14997</th>\n",
              "      <td>Horror  Christian Ferry Jason Lockhart Dylan V...</td>\n",
              "    </tr>\n",
              "    <tr>\n",
              "      <th>14998</th>\n",
              "      <td>Drama  Michael Gothard Gabriella Licudi Peter ...</td>\n",
              "    </tr>\n",
              "    <tr>\n",
              "      <th>14999</th>\n",
              "      <td>Drama skab under tv bagved Øverste hylde Meryl...</td>\n",
              "    </tr>\n",
              "  </tbody>\n",
              "</table>\n",
              "<p>15000 rows × 1 columns</p>\n",
              "</div><br><label><b>dtype:</b> object</label>"
            ]
          },
          "metadata": {},
          "execution_count": 215
        }
      ]
    },
    {
      "cell_type": "markdown",
      "source": [
        "CountVerctorizer and Cousine Similarity"
      ],
      "metadata": {
        "id": "w40GaTUGKcHp"
      }
    },
    {
      "cell_type": "code",
      "source": [
        "from sklearn.feature_extraction.text import CountVectorizer\n",
        "\n",
        "count = CountVectorizer(stop_words='english')\n",
        "count_matrix = count.fit_transform(subset['movie_profile'])\n",
        "\n",
        "count.get_feature_names_out()"
      ],
      "metadata": {
        "id": "9jiYKr-Mi9NQ",
        "colab": {
          "base_uri": "https://localhost:8080/"
        },
        "outputId": "8f59d102-2e78-490e-de4b-c24673cf9855"
      },
      "execution_count": 222,
      "outputs": [
        {
          "output_type": "execute_result",
          "data": {
            "text/plain": [
              "array(['077', '11', '15th', ..., '오싹한', '조병만', '진모영'], dtype=object)"
            ]
          },
          "metadata": {},
          "execution_count": 222
        }
      ]
    },
    {
      "cell_type": "code",
      "source": [
        "count_matrix.shape"
      ],
      "metadata": {
        "colab": {
          "base_uri": "https://localhost:8080/"
        },
        "id": "hxsSESmMKD8L",
        "outputId": "20573a56-b277-4870-dc1a-c92b8760cb38"
      },
      "execution_count": 224,
      "outputs": [
        {
          "output_type": "execute_result",
          "data": {
            "text/plain": [
              "(15000, 41081)"
            ]
          },
          "metadata": {},
          "execution_count": 224
        }
      ]
    },
    {
      "cell_type": "code",
      "source": [
        "from sklearn.metrics.pairwise import cosine_similarity\n",
        "\n",
        "cosine_sim = cosine_similarity(count_matrix, count_matrix)\n",
        "cosine_sim"
      ],
      "metadata": {
        "colab": {
          "base_uri": "https://localhost:8080/"
        },
        "id": "1KpicsltEu9S",
        "outputId": "92e491de-c74b-40d6-a29e-2065d56c3518"
      },
      "execution_count": 225,
      "outputs": [
        {
          "output_type": "execute_result",
          "data": {
            "text/plain": [
              "array([[1.        , 0.        , 0.        , ..., 0.05661385, 0.05661385,\n",
              "        0.04682929],\n",
              "       [0.        , 1.        , 0.        , ..., 0.        , 0.0877058 ,\n",
              "        0.07254763],\n",
              "       [0.        , 0.        , 1.        , ..., 0.        , 0.        ,\n",
              "        0.        ],\n",
              "       ...,\n",
              "       [0.05661385, 0.        , 0.        , ..., 1.        , 0.        ,\n",
              "        0.        ],\n",
              "       [0.05661385, 0.0877058 , 0.        , ..., 0.        , 1.        ,\n",
              "        0.12725695],\n",
              "       [0.04682929, 0.07254763, 0.        , ..., 0.        , 0.12725695,\n",
              "        1.        ]])"
            ]
          },
          "metadata": {},
          "execution_count": 225
        }
      ]
    },
    {
      "cell_type": "code",
      "source": [
        "# Title to index mapping\n",
        "indices = pd.Series(subset.index, index=subset['title']).drop_duplicates()\n",
        "indices"
      ],
      "metadata": {
        "colab": {
          "base_uri": "https://localhost:8080/",
          "height": 489
        },
        "id": "ZCp2a_UOKVHH",
        "outputId": "25ccb4b5-2c25-4533-9c02-9e0f541a7ae5"
      },
      "execution_count": 226,
      "outputs": [
        {
          "output_type": "execute_result",
          "data": {
            "text/plain": [
              "title\n",
              "Charlie St. Cloud                                                         0\n",
              "This So-Called Disaster: Sam Shepard Directs \"The Late Henry Moss\"        1\n",
              "You Are So Beautiful                                                      2\n",
              "A Very Special Favor                                                      3\n",
              "Tangerine                                                                 4\n",
              "                                                                      ...  \n",
              "Scary or Die                                                          14995\n",
              "The History Boys                                                      14996\n",
              "Vampire Boys                                                          14997\n",
              "Herostratus                                                           14998\n",
              "Out of Africa                                                         14999\n",
              "Length: 15000, dtype: int64"
            ],
            "text/html": [
              "<div>\n",
              "<style scoped>\n",
              "    .dataframe tbody tr th:only-of-type {\n",
              "        vertical-align: middle;\n",
              "    }\n",
              "\n",
              "    .dataframe tbody tr th {\n",
              "        vertical-align: top;\n",
              "    }\n",
              "\n",
              "    .dataframe thead th {\n",
              "        text-align: right;\n",
              "    }\n",
              "</style>\n",
              "<table border=\"1\" class=\"dataframe\">\n",
              "  <thead>\n",
              "    <tr style=\"text-align: right;\">\n",
              "      <th></th>\n",
              "      <th>0</th>\n",
              "    </tr>\n",
              "    <tr>\n",
              "      <th>title</th>\n",
              "      <th></th>\n",
              "    </tr>\n",
              "  </thead>\n",
              "  <tbody>\n",
              "    <tr>\n",
              "      <th>Charlie St. Cloud</th>\n",
              "      <td>0</td>\n",
              "    </tr>\n",
              "    <tr>\n",
              "      <th>This So-Called Disaster: Sam Shepard Directs \"The Late Henry Moss\"</th>\n",
              "      <td>1</td>\n",
              "    </tr>\n",
              "    <tr>\n",
              "      <th>You Are So Beautiful</th>\n",
              "      <td>2</td>\n",
              "    </tr>\n",
              "    <tr>\n",
              "      <th>A Very Special Favor</th>\n",
              "      <td>3</td>\n",
              "    </tr>\n",
              "    <tr>\n",
              "      <th>Tangerine</th>\n",
              "      <td>4</td>\n",
              "    </tr>\n",
              "    <tr>\n",
              "      <th>...</th>\n",
              "      <td>...</td>\n",
              "    </tr>\n",
              "    <tr>\n",
              "      <th>Scary or Die</th>\n",
              "      <td>14995</td>\n",
              "    </tr>\n",
              "    <tr>\n",
              "      <th>The History Boys</th>\n",
              "      <td>14996</td>\n",
              "    </tr>\n",
              "    <tr>\n",
              "      <th>Vampire Boys</th>\n",
              "      <td>14997</td>\n",
              "    </tr>\n",
              "    <tr>\n",
              "      <th>Herostratus</th>\n",
              "      <td>14998</td>\n",
              "    </tr>\n",
              "    <tr>\n",
              "      <th>Out of Africa</th>\n",
              "      <td>14999</td>\n",
              "    </tr>\n",
              "  </tbody>\n",
              "</table>\n",
              "<p>15000 rows × 1 columns</p>\n",
              "</div><br><label><b>dtype:</b> int64</label>"
            ]
          },
          "metadata": {},
          "execution_count": 226
        }
      ]
    },
    {
      "cell_type": "markdown",
      "source": [
        "Recommendations"
      ],
      "metadata": {
        "id": "D1VEdfh2Kjp0"
      }
    },
    {
      "cell_type": "code",
      "source": [
        "# Recommending movies by names\n",
        "def recommend(title, cosine_sim=cosine_sim, df=subset, indices=indices, top_n=10):\n",
        "    # Check if the title exists in index\n",
        "    if title not in indices:\n",
        "        return f\"'{title}' not found in the dataset.\"\n",
        "\n",
        "    # Get index of the movie\n",
        "    idx = indices[title]\n",
        "\n",
        "    # Get similarity scores with all other movies\n",
        "    sim_scores = list(enumerate(cosine_sim[idx]))\n",
        "\n",
        "    # Sort by similarity score (high to low)\n",
        "    sim_scores = sorted(sim_scores, key=lambda x: x[1], reverse=True)\n",
        "\n",
        "    # Get top_n similar movies, excluding the input movie itself\n",
        "    sim_scores = sim_scores[1:top_n+1]\n",
        "\n",
        "    # Extract movie indices\n",
        "    movie_indices = [i[0] for i in sim_scores]\n",
        "\n",
        "    # Return titles of similar movies\n",
        "    return df[['title', 'genres','user_avg_rating']].iloc[movie_indices]"
      ],
      "metadata": {
        "id": "BSqmxN_Fi-6Y"
      },
      "execution_count": 227,
      "outputs": []
    },
    {
      "cell_type": "code",
      "source": [
        "print(recommend(\"Toy Story\"))"
      ],
      "metadata": {
        "colab": {
          "base_uri": "https://localhost:8080/"
        },
        "id": "2A1YtlAcjBUc",
        "outputId": "0b79b7fc-54a4-4e7c-e5b7-fb9f1704777f"
      },
      "execution_count": 228,
      "outputs": [
        {
          "output_type": "stream",
          "name": "stdout",
          "text": [
            "                                 title                              genres  \\\n",
            "4046                       Toy Story 3         [Animation, Family, Comedy]   \n",
            "6972                       Toy Story 2         [Animation, Comedy, Family]   \n",
            "9375                 Hawaiian Vacation                 [Animation, Family]   \n",
            "5253              Toy Story of Terror!         [Animation, Comedy, Family]   \n",
            "7274                Ernest In The Army                    [Comedy, Family]   \n",
            "4150   Barbie and the Three Musketeers                 [Animation, Family]   \n",
            "5702                         Life-Size           [Comedy, Family, Fantasy]   \n",
            "14397                             Toys  [Fantasy, Comedy, Science Fiction]   \n",
            "3039                Ernest Rides Again                    [Comedy, Family]   \n",
            "10093                Creature Comforts         [Animation, Comedy, Family]   \n",
            "\n",
            "       user_avg_rating  \n",
            "4046          3.889040  \n",
            "6972          3.813141  \n",
            "9375          3.036232  \n",
            "5253          3.400463  \n",
            "7274          1.601476  \n",
            "4150          2.456522  \n",
            "5702          3.000000  \n",
            "14397         2.748079  \n",
            "3039          2.000000  \n",
            "10093         4.100770  \n"
          ]
        }
      ]
    },
    {
      "cell_type": "code",
      "source": [
        "# Searching movies by keywords\n",
        "def search_by_keyword(query, df=subset, max_results=10):\n",
        "    query = query.lower()\n",
        "    result = df[df['movie_profile'].str.lower().str.contains(query) | df['title'].str.lower().str.contains(query)]\n",
        "\n",
        "    if result.empty:\n",
        "        return f\"No movies found for keyword: '{query}'\"\n",
        "\n",
        "    return result[['title','genres','cast','crew','user_avg_rating']].head(max_results)"
      ],
      "metadata": {
        "id": "0tN7m-bajDKq"
      },
      "execution_count": 229,
      "outputs": []
    },
    {
      "cell_type": "code",
      "source": [
        "print(search_by_keyword(\"horror\"))"
      ],
      "metadata": {
        "colab": {
          "base_uri": "https://localhost:8080/"
        },
        "id": "nVdYYq4XjEy1",
        "outputId": "527ac8bc-1f18-448a-e133-0cb15c84f111"
      },
      "execution_count": 230,
      "outputs": [
        {
          "output_type": "stream",
          "name": "stdout",
          "text": [
            "                             title                                  genres  \\\n",
            "23                         The Bar              [Horror, Thriller, Comedy]   \n",
            "45                        The Mine  [Adventure, Horror, Mystery, Thriller]   \n",
            "50                   Land of Death     [Horror, Action, Thriller, Foreign]   \n",
            "59                         Inferno                      [Horror, Thriller]   \n",
            "60                       Tarantula     [Horror, Science Fiction, Thriller]   \n",
            "66  Killer Klowns from Outer Space       [Comedy, Horror, Science Fiction]   \n",
            "67                 Vampire Hookers               [Comedy, Horror, Foreign]   \n",
            "79         To the Devil a Daughter                                [Horror]   \n",
            "85           They Look Like People                [Mystery, Drama, Horror]   \n",
            "99                  Galerions Rion       [Action, Horror, Science Fiction]   \n",
            "\n",
            "                                                 cast                  crew  \\\n",
            "23  [Mario Casas, Blanca Suárez, Carmen Machi, Sec...  [Álex de la Iglesia]   \n",
            "45  [Alexa PenaVega, Reiley McClendon, Saige Thomp...    [Jeff Chamberlain]   \n",
            "50  [Claudio Morales, Lou Randall, Cindy Jelic Mat...        [Bruno Mattei]   \n",
            "59  [Leigh McCloskey, Irene Miracle, Alida Valli, ...       [Dario Argento]   \n",
            "60  [John Agar, Mara Corday, Leo G. Carroll, Nesto...         [Jack Arnold]   \n",
            "66  [Grant Cramer, Suzanne Snyder, John Allen Nels...      [Stephen Chiodo]   \n",
            "67  [John Carradine, Bruce Fairbairn, Trey Wilson,...   [Cirio H. Santiago]   \n",
            "79  [Richard Widmark, Christopher Lee, Honor Black...         [Peter Sykes]   \n",
            "85  [MacLeod Andrews, Evan Dumouchel, Margaret Yin...    [Perry Blackshear]   \n",
            "99                                                 []    [Masahiko Maesawa]   \n",
            "\n",
            "    user_avg_rating  \n",
            "23         2.428571  \n",
            "45         1.916667  \n",
            "50         0.500000  \n",
            "59         3.073899  \n",
            "60         2.780206  \n",
            "66         2.917391  \n",
            "67         1.000000  \n",
            "79         2.829545  \n",
            "85         3.342105  \n",
            "99         1.333333  \n"
          ]
        }
      ]
    },
    {
      "cell_type": "code",
      "source": [
        "# Searching movies by director name\n",
        "def search_by_director(name, df=subset, max_results=10):\n",
        "    name = name.lower()\n",
        "\n",
        "    # Check if the director's name appears in the list of crew names\n",
        "    result = df[df['crew'].apply(lambda crew_list: any(name in director.lower() for director in crew_list))]\n",
        "\n",
        "    if result.empty:\n",
        "        return f\"No movies found for director: '{name}'\"\n",
        "\n",
        "    return result[['title','genres','cast','user_avg_rating']].head(max_results)"
      ],
      "metadata": {
        "id": "q4PAXnUdjHvW"
      },
      "execution_count": 231,
      "outputs": []
    },
    {
      "cell_type": "code",
      "source": [
        "print(search_by_director(\"Joe Johnston\"))"
      ],
      "metadata": {
        "colab": {
          "base_uri": "https://localhost:8080/"
        },
        "id": "7ubtFs2PjKIR",
        "outputId": "6338cc12-64d4-4b1b-e92b-30d53642cda7"
      },
      "execution_count": 232,
      "outputs": [
        {
          "output_type": "stream",
          "name": "stdout",
          "text": [
            "                                    title  \\\n",
            "2926                    Not Safe for Work   \n",
            "4984                              Jumanji   \n",
            "5682                       The Pagemaster   \n",
            "5853                          October Sky   \n",
            "8696                              Hidalgo   \n",
            "9766   Captain America: The First Avenger   \n",
            "14521                         The Wolfman   \n",
            "\n",
            "                                              genres  \\\n",
            "2926                                      [Thriller]   \n",
            "4984                    [Adventure, Fantasy, Family]   \n",
            "5682   [Fantasy, Science Fiction, Family, Animation]   \n",
            "5853                                 [Drama, Family]   \n",
            "8696                            [Western, Adventure]   \n",
            "9766            [Action, Adventure, Science Fiction]   \n",
            "14521                      [Drama, Horror, Thriller]   \n",
            "\n",
            "                                                    cast  user_avg_rating  \n",
            "2926   [Max Minghella, Eloise Mumford, Michael Gladis...         2.333333  \n",
            "4984   [Robin Williams, Jonathan Hyde, Kirsten Dunst,...         3.236953  \n",
            "5682   [Macaulay Culkin, Christopher Lloyd, Patrick S...         2.811258  \n",
            "5853   [Jake Gyllenhaal, Chris Cooper, Laura Dern, Ch...         3.856198  \n",
            "8696   [Viggo Mortensen, Zuleikha Robinson, Omar Shar...         3.324557  \n",
            "9766   [Chris Evans, Hugo Weaving, Tommy Lee Jones, H...         3.518225  \n",
            "14521  [Benicio del Toro, Anthony Hopkins, Emily Blun...         2.655791  \n"
          ]
        }
      ]
    },
    {
      "cell_type": "code",
      "source": [
        "# Search movies by actor\n",
        "def search_by_actor(name, df=subset, max_results=10):\n",
        "    name = name.lower()\n",
        "\n",
        "    # Check if actor name is in the list of cast members\n",
        "    result = df[df['cast'].apply(lambda cast_list: any(name in actor.lower() for actor in cast_list))]\n",
        "\n",
        "    if result.empty:\n",
        "        return f\"No movies found with actor: '{name}'\"\n",
        "\n",
        "    return result[['title','genres','user_avg_rating']].head(max_results)"
      ],
      "metadata": {
        "id": "4DeVqkO_jLqc"
      },
      "execution_count": 233,
      "outputs": []
    },
    {
      "cell_type": "code",
      "source": [
        "print(search_by_actor(\"Robert downey jr\"))"
      ],
      "metadata": {
        "colab": {
          "base_uri": "https://localhost:8080/"
        },
        "id": "1VjyDi08jNRA",
        "outputId": "d1d0f9c9-8565-489a-8531-42a644652a0d"
      },
      "execution_count": 234,
      "outputs": [
        {
          "output_type": "stream",
          "name": "stdout",
          "text": [
            "                                title  \\\n",
            "278                   Black and White   \n",
            "577                     U.S. Marshals   \n",
            "1149                      Hail Caesar   \n",
            "1916                         Iron Man   \n",
            "1994                      Air America   \n",
            "2187             Natural Born Killers   \n",
            "2525                   Back to School   \n",
            "2681  Marvel One-Shot: The Consultant   \n",
            "3254                        Hugo Pool   \n",
            "3924                      The Soloist   \n",
            "\n",
            "                                             genres  user_avg_rating  \n",
            "278                                         [Drama]         2.865826  \n",
            "577                       [Thriller, Crime, Action]         3.255653  \n",
            "1149                                       [Comedy]         2.500000  \n",
            "1916           [Action, Science Fiction, Adventure]         3.855210  \n",
            "1994             [Action, Adventure, Comedy, Drama]         2.773606  \n",
            "2187                       [Crime, Thriller, Drama]         3.248668  \n",
            "2525                                       [Comedy]         3.055419  \n",
            "2681  [Adventure, Fantasy, Science Fiction, Action]         3.000000  \n",
            "3254                              [Comedy, Romance]         2.670000  \n",
            "3924                                        [Drama]         3.315029  \n"
          ]
        }
      ]
    },
    {
      "cell_type": "markdown",
      "source": [
        "Creating the Pickle Files"
      ],
      "metadata": {
        "id": "drkVivaUKmi5"
      }
    },
    {
      "cell_type": "code",
      "source": [
        "import pickle\n",
        "\n",
        "# Save cleaned and final objects\n",
        "with open('subset.pkl', 'wb') as f:\n",
        "    pickle.dump(subset, f)\n",
        "\n",
        "with open('cosine_sim.pkl', 'wb') as f:\n",
        "    pickle.dump(cosine_sim, f)\n",
        "\n",
        "with open('indices.pkl', 'wb') as f:\n",
        "    pickle.dump(indices, f)"
      ],
      "metadata": {
        "id": "UkINOGHbPiFK"
      },
      "execution_count": 235,
      "outputs": []
    },
    {
      "cell_type": "code",
      "source": [
        "from google.colab import files\n",
        "\n",
        "files.download('subset.pkl')\n",
        "files.download('cosine_sim.pkl')\n",
        "files.download('indices.pkl')"
      ],
      "metadata": {
        "colab": {
          "base_uri": "https://localhost:8080/",
          "height": 34
        },
        "id": "PpByXAHjUVeN",
        "outputId": "1cc7e7b1-ca3f-4c37-fa74-25858f1a87a5"
      },
      "execution_count": 236,
      "outputs": [
        {
          "output_type": "display_data",
          "data": {
            "text/plain": [
              "<IPython.core.display.Javascript object>"
            ],
            "application/javascript": [
              "\n",
              "    async function download(id, filename, size) {\n",
              "      if (!google.colab.kernel.accessAllowed) {\n",
              "        return;\n",
              "      }\n",
              "      const div = document.createElement('div');\n",
              "      const label = document.createElement('label');\n",
              "      label.textContent = `Downloading \"${filename}\": `;\n",
              "      div.appendChild(label);\n",
              "      const progress = document.createElement('progress');\n",
              "      progress.max = size;\n",
              "      div.appendChild(progress);\n",
              "      document.body.appendChild(div);\n",
              "\n",
              "      const buffers = [];\n",
              "      let downloaded = 0;\n",
              "\n",
              "      const channel = await google.colab.kernel.comms.open(id);\n",
              "      // Send a message to notify the kernel that we're ready.\n",
              "      channel.send({})\n",
              "\n",
              "      for await (const message of channel.messages) {\n",
              "        // Send a message to notify the kernel that we're ready.\n",
              "        channel.send({})\n",
              "        if (message.buffers) {\n",
              "          for (const buffer of message.buffers) {\n",
              "            buffers.push(buffer);\n",
              "            downloaded += buffer.byteLength;\n",
              "            progress.value = downloaded;\n",
              "          }\n",
              "        }\n",
              "      }\n",
              "      const blob = new Blob(buffers, {type: 'application/binary'});\n",
              "      const a = document.createElement('a');\n",
              "      a.href = window.URL.createObjectURL(blob);\n",
              "      a.download = filename;\n",
              "      div.appendChild(a);\n",
              "      a.click();\n",
              "      div.remove();\n",
              "    }\n",
              "  "
            ]
          },
          "metadata": {}
        },
        {
          "output_type": "display_data",
          "data": {
            "text/plain": [
              "<IPython.core.display.Javascript object>"
            ],
            "application/javascript": [
              "download(\"download_7f181de4-45a5-4a54-b0e2-fb4ca0d16da7\", \"subset.pkl\", 10437260)"
            ]
          },
          "metadata": {}
        },
        {
          "output_type": "display_data",
          "data": {
            "text/plain": [
              "<IPython.core.display.Javascript object>"
            ],
            "application/javascript": [
              "\n",
              "    async function download(id, filename, size) {\n",
              "      if (!google.colab.kernel.accessAllowed) {\n",
              "        return;\n",
              "      }\n",
              "      const div = document.createElement('div');\n",
              "      const label = document.createElement('label');\n",
              "      label.textContent = `Downloading \"${filename}\": `;\n",
              "      div.appendChild(label);\n",
              "      const progress = document.createElement('progress');\n",
              "      progress.max = size;\n",
              "      div.appendChild(progress);\n",
              "      document.body.appendChild(div);\n",
              "\n",
              "      const buffers = [];\n",
              "      let downloaded = 0;\n",
              "\n",
              "      const channel = await google.colab.kernel.comms.open(id);\n",
              "      // Send a message to notify the kernel that we're ready.\n",
              "      channel.send({})\n",
              "\n",
              "      for await (const message of channel.messages) {\n",
              "        // Send a message to notify the kernel that we're ready.\n",
              "        channel.send({})\n",
              "        if (message.buffers) {\n",
              "          for (const buffer of message.buffers) {\n",
              "            buffers.push(buffer);\n",
              "            downloaded += buffer.byteLength;\n",
              "            progress.value = downloaded;\n",
              "          }\n",
              "        }\n",
              "      }\n",
              "      const blob = new Blob(buffers, {type: 'application/binary'});\n",
              "      const a = document.createElement('a');\n",
              "      a.href = window.URL.createObjectURL(blob);\n",
              "      a.download = filename;\n",
              "      div.appendChild(a);\n",
              "      a.click();\n",
              "      div.remove();\n",
              "    }\n",
              "  "
            ]
          },
          "metadata": {}
        },
        {
          "output_type": "display_data",
          "data": {
            "text/plain": [
              "<IPython.core.display.Javascript object>"
            ],
            "application/javascript": [
              "download(\"download_841a2bf1-f0f6-450e-b130-9a8d8f14d273\", \"cosine_sim.pkl\", 1800000164)"
            ]
          },
          "metadata": {}
        },
        {
          "output_type": "display_data",
          "data": {
            "text/plain": [
              "<IPython.core.display.Javascript object>"
            ],
            "application/javascript": [
              "\n",
              "    async function download(id, filename, size) {\n",
              "      if (!google.colab.kernel.accessAllowed) {\n",
              "        return;\n",
              "      }\n",
              "      const div = document.createElement('div');\n",
              "      const label = document.createElement('label');\n",
              "      label.textContent = `Downloading \"${filename}\": `;\n",
              "      div.appendChild(label);\n",
              "      const progress = document.createElement('progress');\n",
              "      progress.max = size;\n",
              "      div.appendChild(progress);\n",
              "      document.body.appendChild(div);\n",
              "\n",
              "      const buffers = [];\n",
              "      let downloaded = 0;\n",
              "\n",
              "      const channel = await google.colab.kernel.comms.open(id);\n",
              "      // Send a message to notify the kernel that we're ready.\n",
              "      channel.send({})\n",
              "\n",
              "      for await (const message of channel.messages) {\n",
              "        // Send a message to notify the kernel that we're ready.\n",
              "        channel.send({})\n",
              "        if (message.buffers) {\n",
              "          for (const buffer of message.buffers) {\n",
              "            buffers.push(buffer);\n",
              "            downloaded += buffer.byteLength;\n",
              "            progress.value = downloaded;\n",
              "          }\n",
              "        }\n",
              "      }\n",
              "      const blob = new Blob(buffers, {type: 'application/binary'});\n",
              "      const a = document.createElement('a');\n",
              "      a.href = window.URL.createObjectURL(blob);\n",
              "      a.download = filename;\n",
              "      div.appendChild(a);\n",
              "      a.click();\n",
              "      div.remove();\n",
              "    }\n",
              "  "
            ]
          },
          "metadata": {}
        },
        {
          "output_type": "display_data",
          "data": {
            "text/plain": [
              "<IPython.core.display.Javascript object>"
            ],
            "application/javascript": [
              "download(\"download_c5634b11-6c35-4293-8704-d48c274cdb6a\", \"indices.pkl\", 487457)"
            ]
          },
          "metadata": {}
        }
      ]
    },
    {
      "cell_type": "code",
      "source": [],
      "metadata": {
        "id": "iMa4eTthUh8w"
      },
      "execution_count": null,
      "outputs": []
    }
  ]
}